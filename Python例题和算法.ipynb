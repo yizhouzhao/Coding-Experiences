{
 "cells": [
  {
   "cell_type": "markdown",
   "metadata": {},
   "source": [
    "# 1.\n",
    "题目:有 1、2、3、4 个数字,能组成多少个互不相同且无重复数字的三位数?都是多少?\n",
    "\n",
    "**Python 常见类型转换**\n",
    "\n",
    "int();long();float();list();\n",
    "\n",
    "eval(): python 表达式->值 e.g:a = \"{1: 'a', 2: 'b'}\"; b = eval(a)\n",
    "\n",
    "chr(): int to char; letters = [chr(i) for i in range(97,123)];Letters = [chr(i) for i in range(65,91)]\n",
    "\n",
    "ord(): char to int\n",
    "\n",
    "\"\".join(sequence)"
   ]
  },
  {
   "cell_type": "code",
   "execution_count": 23,
   "metadata": {
    "collapsed": false
   },
   "outputs": [],
   "source": [
    "def solution():\n",
    "        for i in range(1,5):\n",
    "            for j in range(1,5):\n",
    "                for k in range(1,5):\n",
    "                    if i != j and i != k and i !=\\\n",
    "                    k:\n",
    "                        print(\"\".join([str(i),str(j),str(k)]))"
   ]
  },
  {
   "cell_type": "markdown",
   "metadata": {},
   "source": [
    "#   2.\n",
    "题目:企业发放的奖金根据利润提成。利润(I)低于或等于 10 万元时,奖金可提 10%;利润高于 10 万元,低于 20 万元时,低于 10 万元的部分按 10%提成,高于 10 万元的部分,可可提\n",
    "成 7.5%;20 万到 40 万之间时,高于 20 万元的部分,可提成 5%;40 万到 60 万之间时高于\n",
    "40 万元的部分,可提成 3%;60 万到 100 万之间时,高于 60 万元的部分,可提成 1.5%,高于\n",
    "100 万元时,超过 100 万元的部分按 1%提成,从键盘输入当月利润 I,求应发放奖金总数?\n",
    "\n",
    "**Python 输入和输出**\n",
    "\n",
    "print (\"His name is %s\"%(\"Aviad\")); %d, %f %8.2f\n",
    "\n",
    "content = raw_input(\"Input\") : get string "
   ]
  },
  {
   "cell_type": "markdown",
   "metadata": {},
   "source": [
    "# 3.\n",
    "\n",
    "题目:一个整数,它加上 100 后是一个完全平方数,再加上 168 又是一个完全平方数,请问该数是多少?\n",
    "1.程序分析:在 10 万以内判断,先将该数加上 100 后再开方,再将该数加上 268 后再开方,如果开方后\n",
    "\n",
    "**Python 取整函数**\n",
    "floor();int();round()\n"
   ]
  },
  {
   "cell_type": "code",
   "execution_count": 32,
   "metadata": {
    "collapsed": true
   },
   "outputs": [],
   "source": [
    "import math\n",
    "def solution():\n",
    "    for i in range(100000):\n",
    "        x = int(math.sqrt(i + 100))\n",
    "        y = int(math.sqrt(i + 268))\n",
    "        if x**2 == i + 100 and y**2 == i + 268:\n",
    "            print(\"%d\"%(i))\n",
    "    return"
   ]
  },
  {
   "cell_type": "markdown",
   "metadata": {},
   "source": [
    "# 4. \n",
    "题目:输入某年某月某日,判断这一天是这一年的第几天?"
   ]
  },
  {
   "cell_type": "markdown",
   "metadata": {},
   "source": [
    "# 5.\n",
    "题目:输入三个整数 x,y,z,请把这三个数由小到大输出。\n",
    "\n",
    "**Python 列表生成式**\n",
    "\n",
    "[i if i > 3 else 0 for i in range(5) ]"
   ]
  },
  {
   "cell_type": "code",
   "execution_count": 38,
   "metadata": {
    "collapsed": false
   },
   "outputs": [],
   "source": [
    "def solution(x,y,z):\n",
    "    return x if x >= y and x >= z else y if y >= x and y >=z else z"
   ]
  },
  {
   "cell_type": "markdown",
   "metadata": {},
   "source": [
    "# 6. 7.\n",
    "题目:用*号输出字母 C 的图案。\n",
    "\n",
    "略"
   ]
  },
  {
   "cell_type": "markdown",
   "metadata": {},
   "source": [
    "# 8.\n",
    "题目:输出 9*9 口诀。\n",
    "\n",
    "**Python3 Print不换行** print(\"\",end = \" \") "
   ]
  },
  {
   "cell_type": "code",
   "execution_count": 51,
   "metadata": {
    "collapsed": false
   },
   "outputs": [],
   "source": [
    "def solution():\n",
    "    for i in range(10):\n",
    "        for j in range(10):\n",
    "            print(\"%d * %d = %-3d\"%(i,j,i*j),end = \" \")\n",
    "        print(\"\\n\")"
   ]
  },
  {
   "cell_type": "markdown",
   "metadata": {},
   "source": [
    "# 9. 10\n",
    "题目:要求输出国际象棋棋盘。打印笑脸\n",
    "\n",
    "Print颜色？？？"
   ]
  },
  {
   "cell_type": "markdown",
   "metadata": {},
   "source": [
    "# 11-16 斐波那契数列、质数、水仙花数、公约数……\n",
    "\n",
    "略"
   ]
  },
  {
   "cell_type": "markdown",
   "metadata": {},
   "source": [
    "# 17\n",
    "题目:输入一行字符,分别统计出其中英文字母、空格、数字和其它字符的个数。\n",
    "\n",
    "**Python 判断字符类型**\n",
    "\n",
    "s.isalnum() 所有字符都是数字或者字母 \n",
    "\n",
    "s.isalpha() 所有字符都是字母 \n",
    "\n",
    "s.isdigit() 所有字符都是数字 \n",
    "\n",
    "s.islower() 所有字符都是小写 \n",
    "\n",
    "s.isupper() 所有字符都是大写 \n",
    "\n",
    "s.istitle() 所有单词都是首字母大写，像标题 \n",
    "\n",
    "s.isspace() 所有字符都是空白字符、 、、 \n",
    "\n",
    "**isinstance(a,int)"
   ]
  },
  {
   "cell_type": "markdown",
   "metadata": {},
   "source": [
    "# 18 .\n",
    "题目:求 s=a+aa+aaa+aaaa+aa...a 的值,其中 a 是一个数字。例如 2+22+222+2222+22222(此时\n",
    "共有 5 个数相加),几个数相加有键盘控制。"
   ]
  },
  {
   "cell_type": "markdown",
   "metadata": {},
   "source": [
    "# 19. 完全数、 "
   ]
  },
  {
   "cell_type": "markdown",
   "metadata": {},
   "source": [
    "# 20.\n",
    "题目:一球从 100 米高度自由落下,每次落地后反跳回原高度的一半;再落下,求它在\n",
    "第 10 次落地时,共经过多少米?第 10 次反弹多高?"
   ]
  },
  {
   "cell_type": "markdown",
   "metadata": {},
   "source": [
    "# 21.\n",
    "题目:猴子吃桃问题:猴子第一天摘下若干个桃子,当即吃了一半,还不瘾,又多吃了一个\n",
    "第二天早上又将剩下的桃子吃掉一半,又多吃了一个。以后每天早上都吃了前一天剩下\n",
    "的一半零一个。到第 10 天早上想再吃时,见只剩下一个桃子了。求第一天共摘了多少。"
   ]
  },
  {
   "cell_type": "markdown",
   "metadata": {},
   "source": [
    "# 22.\n",
    "题目:两个乒乓球队进行比赛,各出三人。甲队为 a,b,c 三人,乙队为 x,y,z 三人。已抽签决定\n",
    "比赛名单。有人向队员打听比赛的名单。a 说他不和 x 比,c 说他不和 x,z 比,请编程序找出\n",
    "三队赛手的名单。"
   ]
  },
  {
   "cell_type": "markdown",
   "metadata": {},
   "source": [
    "# 23.\n",
    "\n",
    "题目:打印出如下图案(菱形)\n",
    "\n",
    "*\n",
    "***\n",
    "******\n",
    "********\n",
    "******\n",
    "***\n",
    "*"
   ]
  },
  {
   "cell_type": "markdown",
   "metadata": {},
   "source": [
    "# 24.\n",
    "\n",
    "题目:有一分数序列:2/1,3/2,5/3,8/5,13/8,21/13...求出这个数列的前 20 项之和。"
   ]
  },
  {
   "cell_type": "markdown",
   "metadata": {},
   "source": [
    "# 25.\n",
    "题目:求 1+2!+3!+...+20!的和"
   ]
  },
  {
   "cell_type": "markdown",
   "metadata": {},
   "source": [
    "# 26.\n",
    "题目:利用递归方法求 5!。\n"
   ]
  },
  {
   "cell_type": "markdown",
   "metadata": {
    "collapsed": true
   },
   "source": [
    "# 数据结构部分\n"
   ]
  },
  {
   "cell_type": "markdown",
   "metadata": {},
   "source": [
    "## 1. 链表\n",
    "\n",
    "\n",
    "https://interactivepython.org/runestone/static/pythonds/BasicDS/ImplementinganUnorderedListLinkedLists.html\n",
    "\n",
    "**Python __getitem__ 和 __setitem__**\n",
    "\n",
    "def __getitem__(self, key):\n",
    "\n",
    "List[key] 访问\n",
    "\n",
    "def __setitem__(self, key, value):\n",
    "\n",
    "List[key] 访问 value"
   ]
  },
  {
   "cell_type": "code",
   "execution_count": 10,
   "metadata": {
    "collapsed": true
   },
   "outputs": [],
   "source": [
    "class Node:\n",
    "    def __init__(self,initdata):\n",
    "        self.data = initdata\n",
    "        self.next = None\n",
    "\n",
    "    def getData(self):\n",
    "        return self.data\n",
    "\n",
    "    def getNext(self):\n",
    "        return self.next\n",
    "\n",
    "    def setData(self,newdata):\n",
    "        self.data = newdata\n",
    "\n",
    "    def setNext(self,newnext):\n",
    "        self.next = newnext"
   ]
  },
  {
   "cell_type": "markdown",
   "metadata": {},
   "source": [
    "## 2. 栈\n",
    "\n",
    "https://interactivepython.org/runestone/static/pythonds/BasicDS/TheStackAbstractDataType.html\n",
    "\n",
    "list.append()\n",
    "\n",
    "list.extend(); l1.extend([4,5,6])\n",
    "\n",
    "list.insert(i, x)\n",
    "\n",
    "list.remove(x)\n",
    "\n",
    "list.pop([i])\n",
    "\n",
    "list.index(x)\n",
    "\n",
    "list.count(x)\n",
    "\n",
    "list.sort(cmp=None, key=None, reverse=False)\n",
    "\n",
    "list.reverse();list[::-1]"
   ]
  },
  {
   "cell_type": "code",
   "execution_count": 17,
   "metadata": {
    "collapsed": false
   },
   "outputs": [],
   "source": [
    "class Stack():\n",
    "     def __init__(self):\n",
    "         self.items = []\n",
    "\n",
    "     def isEmpty(self):\n",
    "         return self.items == []\n",
    "\n",
    "     def push(self, item):\n",
    "         self.items.append(item)\n",
    "\n",
    "     def pop(self):\n",
    "         return self.items.pop()\n",
    "\n",
    "     def peek(self):\n",
    "         return self.items[len(self.items)-1]\n",
    "\n",
    "     def size(self):\n",
    "         return len(self.items)"
   ]
  },
  {
   "cell_type": "markdown",
   "metadata": {},
   "source": [
    "## 3.队列\n",
    "\n",
    "https://interactivepython.org/runestone/static/pythonds/BasicDS/ImplementingaQueueinPython.html\n",
    "\n"
   ]
  },
  {
   "cell_type": "code",
   "execution_count": 21,
   "metadata": {
    "collapsed": true
   },
   "outputs": [],
   "source": [
    "class Queue:\n",
    "    def __init__(self):\n",
    "        self.items = []\n",
    "\n",
    "    def isEmpty(self):\n",
    "        return self.items == []\n",
    "\n",
    "    def enqueue(self, item):\n",
    "        self.items.insert(0,item)\n",
    "\n",
    "    def dequeue(self):\n",
    "        return self.items.pop()\n",
    "\n",
    "    def size(self):\n",
    "        return len(self.items)"
   ]
  },
  {
   "cell_type": "markdown",
   "metadata": {},
   "source": [
    "## 4. String\n",
    "\n",
    "http://thepythonguru.com/python-strings/\n",
    "\n",
    "### 基本操作\n",
    "\n",
    "string.strip(); string.lstrip(\",\"); string.rstrip(); 去掉两端空格、特殊字符\n",
    "\n",
    "string1 = string2; 复制\n",
    "\n",
    "string1 += string2; 连接\n",
    "\n",
    "### Compare\n",
    "\n",
    "string.index(\"a\"); 查找字符\n",
    "\n",
    "string1 > string2; 比较字符串，注意，这是用ascii值比较的\n",
    "\n",
    "### Find\n",
    "\n",
    "string.endwith();string.startwith(); 判断是否以“子串”开头或者结束\n",
    "\n",
    "string.find();string.rfind();查找最前或最后一个子串\n",
    "\n",
    "### Convert strings\n",
    "\n",
    "lower();upper();\n",
    "\n",
    "string.replace(\"is\",\"are\")"
   ]
  },
  {
   "cell_type": "markdown",
   "metadata": {},
   "source": [
    "## 5. Heap 堆 \n",
    "\n",
    "https://interactivepython.org/runestone/static/pythonds/Trees/BinaryHeapImplementation.html\n",
    "\n"
   ]
  },
  {
   "cell_type": "code",
   "execution_count": 44,
   "metadata": {
    "collapsed": true
   },
   "outputs": [],
   "source": [
    "class Binheap():\n",
    "    def __init__(self):\n",
    "        self.heapList = [0]\n",
    "        self.currentSize = 0\n",
    "    \n",
    "    def percUp(self,i):\n",
    "        while i // 2 > 0:\n",
    "            if self.heapList[i] < self.heapList[i // 2]:\n",
    "                tmp = self.heapList[i // 2]\n",
    "                self.heapList[i // 2] = self.heapList[i]\n",
    "                self.heapList[i] = tmp\n",
    "            i = i // 2\n",
    "            \n",
    "    def insert(self,k):\n",
    "        self.heapList.append(k)\n",
    "        self.currentSize += 1\n",
    "        self.percUp(self.currentSize)\n",
    "        \n",
    "    def percDown(self,i):\n",
    "        while (i * 2) <= self.currentSize:\n",
    "            mc = self.minChild(i)\n",
    "            if self.heapList[i] > self.heapList[mc]:\n",
    "                tmp = self.heapList[i]\n",
    "                self.heapList[i] = self.heapList[mc]\n",
    "                self.heapList[mc] = tmp\n",
    "            i = mc\n",
    "\n",
    "    def minChild(self,i):\n",
    "        if i * 2 + 1 > self.currentSize:\n",
    "            return i * 2\n",
    "        else:\n",
    "            if self.heapList[i*2] < self.heapList[i*2+1]:\n",
    "                return i * 2\n",
    "            else:\n",
    "                return i * 2 + 1\n",
    "            \n",
    "    def delMin(self):\n",
    "        retval = self.heapList[1]\n",
    "        self.heapList[1] = self.heapList[self.currentSize]\n",
    "        self.currentSize = self.currentSize - 1\n",
    "        self.heapList.pop()\n",
    "        self.percDown(1)\n",
    "        return retval\n",
    "    \n",
    "    def buildHeap(self,alist):\n",
    "        i = len(alist) // 2\n",
    "        self.currentSize = len(alist)\n",
    "        self.heapList = [0] + alist[:]\n",
    "        while (i > 0):\n",
    "            self.percDown(i)\n",
    "            i = i - 1"
   ]
  },
  {
   "cell_type": "markdown",
   "metadata": {},
   "source": [
    "## 5. Heap queue and Priority queue\n",
    "\n",
    "https://docs.python.org/2/library/heapq.html\n"
   ]
  },
  {
   "cell_type": "code",
   "execution_count": 47,
   "metadata": {
    "collapsed": false
   },
   "outputs": [
    {
     "data": {
      "text/plain": [
       "[1, 1.4, 2, 2, 3, 4]"
      ]
     },
     "execution_count": 47,
     "metadata": {},
     "output_type": "execute_result"
    }
   ],
   "source": [
    "from heapq import *\n",
    "#heapq.heappush(heap, item)\n",
    "#heapq.heappop(heap)\n",
    "def heapsort(iterable):\n",
    "    h = []\n",
    "    for value in iterable:\n",
    "        heappush(h, value)\n",
    "    return [heappop(h) for i in range(len(h))]\n",
    "\n",
    "heapsort([2,3,4,1,1.4,2])"
   ]
  },
  {
   "cell_type": "markdown",
   "metadata": {},
   "source": [
    "### 6.Binary Search Tree\n",
    "\n",
    "https://interactivepython.org/runestone/static/pythonds/Trees/SearchTreeImplementation.html\n",
    "\n",
    "二叉搜索树，左子节点比根节点小，右子节点比根节点大"
   ]
  },
  {
   "cell_type": "code",
   "execution_count": 49,
   "metadata": {
    "collapsed": false
   },
   "outputs": [
    {
     "name": "stdout",
     "output_type": "stream",
     "text": [
      "yellow\n",
      "at\n"
     ]
    }
   ],
   "source": [
    "class TreeNode:\n",
    "    def __init__(self,key,val,left=None,right=None,parent=None):\n",
    "        self.key = key\n",
    "        self.payload = val\n",
    "        self.leftChild = left\n",
    "        self.rightChild = right\n",
    "        self.parent = parent\n",
    "\n",
    "    def hasLeftChild(self):\n",
    "        return self.leftChild\n",
    "\n",
    "    def hasRightChild(self):\n",
    "        return self.rightChild\n",
    "\n",
    "    def isLeftChild(self):\n",
    "        return self.parent and self.parent.leftChild == self\n",
    "\n",
    "    def isRightChild(self):\n",
    "        return self.parent and self.parent.rightChild == self\n",
    "\n",
    "    def isRoot(self):\n",
    "        return not self.parent\n",
    "\n",
    "    def isLeaf(self):\n",
    "        return not (self.rightChild or self.leftChild)\n",
    "\n",
    "    def hasAnyChildren(self):\n",
    "        return self.rightChild or self.leftChild\n",
    "\n",
    "    def hasBothChildren(self):\n",
    "        return self.rightChild and self.leftChild\n",
    "\n",
    "    def replaceNodeData(self,key,value,lc,rc):\n",
    "        self.key = key\n",
    "        self.payload = value\n",
    "        self.leftChild = lc\n",
    "        self.rightChild = rc\n",
    "        if self.hasLeftChild():\n",
    "            self.leftChild.parent = self\n",
    "        if self.hasRightChild():\n",
    "            self.rightChild.parent = self\n",
    "\n",
    "\n",
    "class BinarySearchTree:\n",
    "\n",
    "    def __init__(self):\n",
    "        self.root = None\n",
    "        self.size = 0\n",
    "\n",
    "    def length(self):\n",
    "        return self.size\n",
    "\n",
    "    def __len__(self):\n",
    "        return self.size\n",
    "\n",
    "    def put(self,key,val):\n",
    "        if self.root:\n",
    "            self._put(key,val,self.root)\n",
    "        else:\n",
    "            self.root = TreeNode(key,val)\n",
    "        self.size = self.size + 1\n",
    "\n",
    "    def _put(self,key,val,currentNode):\n",
    "        if key < currentNode.key:\n",
    "            if currentNode.hasLeftChild():\n",
    "                   self._put(key,val,currentNode.leftChild)\n",
    "            else:\n",
    "                   currentNode.leftChild = TreeNode(key,val,parent=currentNode)\n",
    "        else:\n",
    "            if currentNode.hasRightChild():\n",
    "                   self._put(key,val,currentNode.rightChild)\n",
    "            else:\n",
    "                   currentNode.rightChild = TreeNode(key,val,parent=currentNode)\n",
    "\n",
    "    def __setitem__(self,k,v):\n",
    "       self.put(k,v)\n",
    "\n",
    "    def get(self,key):\n",
    "       if self.root:\n",
    "           res = self._get(key,self.root)\n",
    "           if res:\n",
    "                  return res.payload\n",
    "           else:\n",
    "                  return None\n",
    "       else:\n",
    "           return None\n",
    "\n",
    "    def _get(self,key,currentNode):\n",
    "       if not currentNode:\n",
    "           return None\n",
    "       elif currentNode.key == key:\n",
    "           return currentNode\n",
    "       elif key < currentNode.key:\n",
    "           return self._get(key,currentNode.leftChild)\n",
    "       else:\n",
    "           return self._get(key,currentNode.rightChild)\n",
    "\n",
    "    def __getitem__(self,key):\n",
    "       return self.get(key)\n",
    "\n",
    "    def __contains__(self,key):\n",
    "       if self._get(key,self.root):\n",
    "           return True\n",
    "       else:\n",
    "           return False\n",
    "\n",
    "    def delete(self,key):\n",
    "      if self.size > 1:\n",
    "         nodeToRemove = self._get(key,self.root)\n",
    "         if nodeToRemove:\n",
    "             self.remove(nodeToRemove)\n",
    "             self.size = self.size-1\n",
    "         else:\n",
    "             raise KeyError('Error, key not in tree')\n",
    "      elif self.size == 1 and self.root.key == key:\n",
    "         self.root = None\n",
    "         self.size = self.size - 1\n",
    "      else:\n",
    "         raise KeyError('Error, key not in tree')\n",
    "\n",
    "    def __delitem__(self,key):\n",
    "       self.delete(key)\n",
    "\n",
    "    def spliceOut(self):\n",
    "       if self.isLeaf():\n",
    "           if self.isLeftChild():\n",
    "                  self.parent.leftChild = None\n",
    "           else:\n",
    "                  self.parent.rightChild = None\n",
    "       elif self.hasAnyChildren():\n",
    "           if self.hasLeftChild():\n",
    "                  if self.isLeftChild():\n",
    "                     self.parent.leftChild = self.leftChild\n",
    "                  else:\n",
    "                     self.parent.rightChild = self.leftChild\n",
    "                  self.leftChild.parent = self.parent\n",
    "           else:\n",
    "                  if self.isLeftChild():\n",
    "                     self.parent.leftChild = self.rightChild\n",
    "                  else:\n",
    "                     self.parent.rightChild = self.rightChild\n",
    "                  self.rightChild.parent = self.parent\n",
    "\n",
    "    def findSuccessor(self):\n",
    "      succ = None\n",
    "      if self.hasRightChild():\n",
    "          succ = self.rightChild.findMin()\n",
    "      else:\n",
    "          if self.parent:\n",
    "                 if self.isLeftChild():\n",
    "                     succ = self.parent\n",
    "                 else:\n",
    "                     self.parent.rightChild = None\n",
    "                     succ = self.parent.findSuccessor()\n",
    "                     self.parent.rightChild = self\n",
    "      return succ\n",
    "\n",
    "    def findMin(self):\n",
    "      current = self\n",
    "      while current.hasLeftChild():\n",
    "          current = current.leftChild\n",
    "      return current\n",
    "\n",
    "    def remove(self,currentNode):\n",
    "         if currentNode.isLeaf(): #leaf\n",
    "           if currentNode == currentNode.parent.leftChild:\n",
    "               currentNode.parent.leftChild = None\n",
    "           else:\n",
    "               currentNode.parent.rightChild = None\n",
    "         elif currentNode.hasBothChildren(): #interior\n",
    "           succ = currentNode.findSuccessor()\n",
    "           succ.spliceOut()\n",
    "           currentNode.key = succ.key\n",
    "           currentNode.payload = succ.payload\n",
    "\n",
    "         else: # this node has one child\n",
    "           if currentNode.hasLeftChild():\n",
    "             if currentNode.isLeftChild():\n",
    "                 currentNode.leftChild.parent = currentNode.parent\n",
    "                 currentNode.parent.leftChild = currentNode.leftChild\n",
    "             elif currentNode.isRightChild():\n",
    "                 currentNode.leftChild.parent = currentNode.parent\n",
    "                 currentNode.parent.rightChild = currentNode.leftChild\n",
    "             else:\n",
    "                 currentNode.replaceNodeData(currentNode.leftChild.key,\n",
    "                                    currentNode.leftChild.payload,\n",
    "                                    currentNode.leftChild.leftChild,\n",
    "                                    currentNode.leftChild.rightChild)\n",
    "           else:\n",
    "             if currentNode.isLeftChild():\n",
    "                 currentNode.rightChild.parent = currentNode.parent\n",
    "                 currentNode.parent.leftChild = currentNode.rightChild\n",
    "             elif currentNode.isRightChild():\n",
    "                 currentNode.rightChild.parent = currentNode.parent\n",
    "                 currentNode.parent.rightChild = currentNode.rightChild\n",
    "             else:\n",
    "                 currentNode.replaceNodeData(currentNode.rightChild.key,\n",
    "                                    currentNode.rightChild.payload,\n",
    "                                    currentNode.rightChild.leftChild,\n",
    "                                    currentNode.rightChild.rightChild)\n",
    "\n",
    "\n",
    "\n",
    "\n",
    "mytree = BinarySearchTree()\n",
    "mytree[3]=\"red\"\n",
    "mytree[4]=\"blue\"\n",
    "mytree[6]=\"yellow\"\n",
    "mytree[2]=\"at\"\n",
    "\n",
    "print(mytree[6])\n",
    "print(mytree[2])\n"
   ]
  },
  {
   "cell_type": "code",
   "execution_count": null,
   "metadata": {
    "collapsed": true
   },
   "outputs": [],
   "source": []
  }
 ],
 "metadata": {
  "anaconda-cloud": {},
  "kernelspec": {
   "display_name": "Python 3",
   "language": "python",
   "name": "python3"
  },
  "language_info": {
   "codemirror_mode": {
    "name": "ipython",
    "version": 3
   },
   "file_extension": ".py",
   "mimetype": "text/x-python",
   "name": "python",
   "nbconvert_exporter": "python",
   "pygments_lexer": "ipython3",
   "version": "3.5.2"
  }
 },
 "nbformat": 4,
 "nbformat_minor": 1
}
