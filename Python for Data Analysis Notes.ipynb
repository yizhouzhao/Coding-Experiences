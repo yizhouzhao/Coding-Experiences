{
 "cells": [
  {
   "cell_type": "markdown",
   "metadata": {},
   "source": [
    "# 1. Numpy Basics "
   ]
  },
  {
   "cell_type": "markdown",
   "metadata": {},
   "source": [
    "## 1.1 Creating ndarrays\n",
    "\n",
    "(a) list to array"
   ]
  },
  {
   "cell_type": "code",
   "execution_count": 31,
   "metadata": {
    "collapsed": false
   },
   "outputs": [],
   "source": [
    "import numpy as np\n",
    "\n",
    "data1 = [1,2,3,4,9.8]\n",
    "arr1 = np.array(data1)\n",
    "data2 = [[1,2,3,4,5],[6,7,8]]\n",
    "arr2 = np.array(data2)\n",
    "\n",
    "##shape and dim\n",
    "#print(arr2.ndim)\n",
    "#print(arr2.shape)\n",
    "\n",
    "#zero matrix, exmpty matrix and diag matrix\n",
    "zo = np.zeros((3,4))\n",
    "zm = np.empty((2,3,4))\n",
    "ones = np.ones((4,4))\n",
    "dig = np.diag((1,1,1,1,1))\n",
    "\n",
    "#Seqence\n",
    "seq = np.arange(2,10,step = 2)\n",
    "\n",
    "#reverse\n",
    "#seq[::-1]"
   ]
  },
  {
   "cell_type": "markdown",
   "metadata": {},
   "source": [
    "(b) Data type \n",
    "\n",
    "int8, uint8 \n",
    "int16, uint16\n",
    "int32, uint32 \n",
    "int64, uint64 \n",
    "float16 \n",
    "float32 \n",
    "float64, float128"
   ]
  },
  {
   "cell_type": "code",
   "execution_count": 39,
   "metadata": {
    "collapsed": false
   },
   "outputs": [],
   "source": [
    "arr = np.array([1, 2, 3, 4, 5],dtype= 'int16')\n",
    "arr.dtype == 'int16'\n",
    "#arr.astype('float16')\n",
    "numeric_strings = np.array(['1.25', '-9.6', '42'], dtype=np.string_)\n",
    "numeric = numeric_strings.astype('float32')"
   ]
  },
  {
   "cell_type": "markdown",
   "metadata": {},
   "source": [
    "## 1.2 Operations between Arrays and Scalars\n",
    "\n",
    "(a) + - * / "
   ]
  },
  {
   "cell_type": "code",
   "execution_count": 41,
   "metadata": {
    "collapsed": false
   },
   "outputs": [],
   "source": [
    "## + - * / \n",
    "#arr*arr\n",
    "#arr - arr\n",
    "#1/arr\n",
    "#arr*.6"
   ]
  },
  {
   "cell_type": "markdown",
   "metadata": {},
   "source": [
    "(b) Basic Indexing and Slicing\n",
    "\n",
    "*An important first distinction from lists is that array slices are views on the original array. This means that the data is not copied, and any modifications to the view will be reflected in the source array*"
   ]
  },
  {
   "cell_type": "code",
   "execution_count": 48,
   "metadata": {
    "collapsed": false
   },
   "outputs": [],
   "source": [
    "#arr[3:5]\n",
    "#arr2[0][2]"
   ]
  },
  {
   "cell_type": "markdown",
   "metadata": {},
   "source": [
    "(c) Boolean Indexing"
   ]
  },
  {
   "cell_type": "code",
   "execution_count": 65,
   "metadata": {
    "collapsed": false
   },
   "outputs": [],
   "source": [
    "names = np.array(['Bob', 'Joe', 'Will', 'Bob', 'Will', 'Joe', 'Joe'])\n",
    "data = np.random.randn(7,4)\n",
    "\n",
    "#names == 'Bob'\n",
    "#data[names == 'Bob']\n",
    "#data[names == 'Bob', 2:]"
   ]
  },
  {
   "cell_type": "code",
   "execution_count": 63,
   "metadata": {
    "collapsed": false
   },
   "outputs": [],
   "source": [
    "mask = (names == 'Bob') | (names == 'Will')\n",
    "#data[mask]"
   ]
  },
  {
   "cell_type": "markdown",
   "metadata": {},
   "source": [
    "(d) Fancy Indexing"
   ]
  },
  {
   "cell_type": "code",
   "execution_count": 73,
   "metadata": {
    "collapsed": false
   },
   "outputs": [
    {
     "data": {
      "text/plain": [
       "array([[-0.80440853,  0.30722987],\n",
       "       [-0.67317546,  1.87779339]])"
      ]
     },
     "execution_count": 73,
     "metadata": {},
     "output_type": "execute_result"
    }
   ],
   "source": [
    "arr = np.random.randn(8, 5)\n",
    "#arr[[4, 3, 0, 6]]\n",
    "\n",
    "#np.ix_ function\n",
    "arr[np.ix_([1,3],[2,4])]"
   ]
  },
  {
   "cell_type": "markdown",
   "metadata": {},
   "source": [
    "(e) Transposing Arrays and Swapping Axes"
   ]
  },
  {
   "cell_type": "code",
   "execution_count": 74,
   "metadata": {
    "collapsed": false
   },
   "outputs": [
    {
     "data": {
      "text/plain": [
       "array([[ 0,  5, 10],\n",
       "       [ 1,  6, 11],\n",
       "       [ 2,  7, 12],\n",
       "       [ 3,  8, 13],\n",
       "       [ 4,  9, 14]])"
      ]
     },
     "execution_count": 74,
     "metadata": {},
     "output_type": "execute_result"
    }
   ],
   "source": [
    "arr = np.arange(15).reshape((3, 5))\n",
    "arr.T"
   ]
  },
  {
   "cell_type": "code",
   "execution_count": 75,
   "metadata": {
    "collapsed": false
   },
   "outputs": [
    {
     "data": {
      "text/plain": [
       "array([[[ 0,  1,  2,  3],\n",
       "        [ 8,  9, 10, 11]],\n",
       "\n",
       "       [[ 4,  5,  6,  7],\n",
       "        [12, 13, 14, 15]]])"
      ]
     },
     "execution_count": 75,
     "metadata": {},
     "output_type": "execute_result"
    }
   ],
   "source": [
    "arr = np.arange(16).reshape((2, 2, 4))\n",
    "##??\n",
    "arr.transpose((1, 0, 2))"
   ]
  },
  {
   "cell_type": "code",
   "execution_count": 78,
   "metadata": {
    "collapsed": false
   },
   "outputs": [],
   "source": [
    "#arr.swapaxes(1,2)"
   ]
  },
  {
   "cell_type": "markdown",
   "metadata": {},
   "source": [
    "## 1.3 Universal Functions: Fast Element-wise Array Functions\n",
    "\n",
    "|abs|sqrt|square|exp|log|sign|ceil|floor|rint|\n",
    "\n",
    "|cos|sin|cosh|sinh|\n",
    "|isnan|isfinite|isinf|\n"
   ]
  },
  {
   "cell_type": "markdown",
   "metadata": {
    "collapsed": true
   },
   "source": [
    "## 1.4 Data Processing Using Arrays\n"
   ]
  },
  {
   "cell_type": "code",
   "execution_count": 20,
   "metadata": {
    "collapsed": false
   },
   "outputs": [
    {
     "data": {
      "image/png": "[encoded data removed]",
      "text/plain": [
       "<matplotlib.figure.Figure at 0x45c8215780>"
      ]
     },
     "metadata": {},
     "output_type": "display_data"
    }
   ],
   "source": [
    "points = np.arange(-5,5,1)\n",
    "\n",
    "#The np.meshgrid function takes two 1D arrays and produces two \\\n",
    "#2D matrices corresponding to all pairs of (x, y) in the two arrays:\n",
    "xs, ys = np.meshgrid(points,points)\n",
    "\n",
    "import matplotlib.pyplot as plt \n",
    "z = np.sqrt(xs**2+ys**2)\n",
    "plt.imshow(z,cmap = plt.cm.gray)\n",
    "plt.colorbar()\n",
    "plt.title(\"Image plot of $\\sqrt{x^2 + y^2}$ for a grid of values\")\n",
    "plt.show()"
   ]
  },
  {
   "cell_type": "markdown",
   "metadata": {},
   "source": [
    "### (a) Expressing Conditional Logic as Array Operations\n",
    "\n",
    "|sum|mean|\n",
    "|---|---|\n",
    "|std|var|\n",
    "|min|max|\n",
    "|argmin|argmax|\n",
    "|cumsum|cumprod|\n",
    "\n",
    "For **boolean array**:\n",
    "***************\n",
    "|all|any|\n",
    "*************\n",
    "\n",
    "The **numpy.where** function is a vectorized version of the ternary expression x if condi\n",
    "tion else y. "
   ]
  },
  {
   "cell_type": "code",
   "execution_count": 38,
   "metadata": {
    "collapsed": false
   },
   "outputs": [],
   "source": [
    "xarr = np.arange(5)\n",
    "yarr = np.arange(5,10)\n",
    "cond = np.array([True, False, True, True, False])\n",
    "\n",
    "result = [(x if c else y) for (x,y,c) in zip(xarr,yarr,cond)]\n",
    "\n",
    "##np.where\n",
    "result = np.where(cond, xarr, yarr)\n",
    "\n",
    "##more examples\n",
    "arr = np.random.randn(4,4)\n",
    "#np.where(arr> 0, arr, 0)"
   ]
  },
  {
   "cell_type": "markdown",
   "metadata": {},
   "source": [
    "### (b) Mathematical and Statistical Methods"
   ]
  },
  {
   "cell_type": "code",
   "execution_count": 39,
   "metadata": {
    "collapsed": true
   },
   "outputs": [],
   "source": [
    "arr = np.random.randn(5, 4) # normally-distributed data\n",
    "\n",
    "#arr.mean()\n",
    "#np.mean(arr)\n",
    "\n",
    "#arr.sum()"
   ]
  },
  {
   "cell_type": "markdown",
   "metadata": {},
   "source": [
    "take an optional **axis** argument which computes the statistic over the given axis"
   ]
  },
  {
   "cell_type": "code",
   "execution_count": 42,
   "metadata": {
    "collapsed": false
   },
   "outputs": [],
   "source": [
    "#arr.mean(axis=1)\n",
    "#arr.cumsum(0)\n",
    "#arr.cumprod(1)"
   ]
  },
  {
   "cell_type": "markdown",
   "metadata": {},
   "source": [
    "### (c) Sort"
   ]
  },
  {
   "cell_type": "code",
   "execution_count": 63,
   "metadata": {
    "collapsed": false
   },
   "outputs": [],
   "source": [
    "np.random.seed(1)\n",
    "arr = np.random.randn(5,3)\n",
    "arr.sort(1)\n",
    "#print(np.sort(arr,axis=None)) #flatten\n",
    "\n",
    "#quantile\n",
    "large_arr = np.random.randn(1000)\n",
    "large_arr.sort()\n",
    "q_25 = large_arr[int(.25*len(large_arr))]"
   ]
  },
  {
   "cell_type": "markdown",
   "metadata": {},
   "source": [
    "### (d) Unique and Other Set Logic\n",
    "\n",
    "\n",
    "|Method|Description|\n",
    "|---|---|\n",
    "|unique(x)|---|\n",
    "|intersect1d(x,y)|$\\cap$|\n",
    "|union1d(x,y)|$\\cup$|\n",
    "|setdiff1d(x,y)|Set difference, elements in x that are not in y|"
   ]
  },
  {
   "cell_type": "code",
   "execution_count": 76,
   "metadata": {
    "collapsed": false
   },
   "outputs": [
    {
     "data": {
      "text/plain": [
       "array([ True, False, False,  True,  True, False,  True], dtype=bool)"
      ]
     },
     "execution_count": 76,
     "metadata": {},
     "output_type": "execute_result"
    }
   ],
   "source": [
    "names = np.array(['Bob', 'Joe', 'Will', 'Bob', 'Will', 'Joe', 'Joe'])\n",
    "np.unique(names)\n",
    "\n",
    "#sorted(set(names))\n",
    "\n",
    "#np.in1d tests the membership \n",
    "values = np.array([6, 0, 0, 3, 2, 5, 6])\n",
    "#np.in1d(values,[2,3,6])"
   ]
  },
  {
   "cell_type": "markdown",
   "metadata": {},
   "source": [
    "### (e) Storing Arrays on Disk in Binary Format"
   ]
  },
  {
   "cell_type": "code",
   "execution_count": 79,
   "metadata": {
    "collapsed": false
   },
   "outputs": [],
   "source": [
    "np.save(\"some_array.npy\",arr)\n",
    "arr = np.load(\"some_array.npy\")"
   ]
  },
  {
   "cell_type": "markdown",
   "metadata": {},
   "source": [
    "## 1.5 Saving and Loading Text Files"
   ]
  },
  {
   "cell_type": "code",
   "execution_count": 81,
   "metadata": {
    "collapsed": false
   },
   "outputs": [],
   "source": [
    "#arr = np.loadtxt('array_ex.txt', delimiter=',',skiprows = 1)"
   ]
  },
  {
   "cell_type": "markdown",
   "metadata": {},
   "source": [
    "## 1.6 Linear Algebra\n",
    "\n",
    "diag,dot,trace,det,eig,inv,pinv,qr,svd,solve,lstsq"
   ]
  },
  {
   "cell_type": "code",
   "execution_count": 95,
   "metadata": {
    "collapsed": false
   },
   "outputs": [],
   "source": [
    "from numpy.linalg import *\n",
    "X = np.random.randn(5, 5)\n",
    "\n",
    "#inv(X)\n",
    "#U,D,V = svd(X)\n",
    "#solve(a = X, b = np.arange(5)) ## AX = B"
   ]
  },
  {
   "cell_type": "markdown",
   "metadata": {},
   "source": [
    "## 1.7 Random Numbers\n",
    "\n",
    "from numpy.random import *\n",
    "\n",
    "|Method|Description|\n",
    "|---|---|\n",
    "|seed||\n",
    "|permutation|Return a random permutation of a sequence, or return a permuted range|\n",
    "|shuffle||\n",
    "|rand|uniform distributino|\n",
    "|randint(0,10)|Draw random integers from a given low-to-high range|\n",
    "|randn|standard normal distribution|\n",
    "|binominal||\n",
    "|normal||\n",
    "|beta||\n",
    "|chisquare||\n",
    "|gamma||\n",
    "|uniform||    "
   ]
  },
  {
   "cell_type": "markdown",
   "metadata": {},
   "source": [
    "\n",
    "--------------------"
   ]
  },
  {
   "cell_type": "markdown",
   "metadata": {},
   "source": [
    "------------------------------"
   ]
  },
  {
   "cell_type": "markdown",
   "metadata": {},
   "source": [
    "# 2. Pandas"
   ]
  },
  {
   "cell_type": "markdown",
   "metadata": {},
   "source": [
    "## 2.1 Introduction to pandas Data Structures\n",
    "\n",
    "### (a) Series\n",
    "\n",
    "A Series is a one-dimensional array-like object containing an array of data, and an associated array of data labels, called its **index**"
   ]
  },
  {
   "cell_type": "code",
   "execution_count": 2,
   "metadata": {
    "collapsed": false
   },
   "outputs": [],
   "source": [
    "from pandas import *\n",
    "\n",
    "obj = Series([4, 7, -5, 3])\n",
    "#obj.values\n",
    "#obj.index\n",
    "\n",
    "\n",
    "#Dic to Series\n",
    "sdata = {'Ohio': 35000, 'Texas': 71000, 'Oregon': 16000, 'Utah': 5000}\n",
    "obj3 = Series(sdata)\n",
    "states = ['California', 'Ohio', 'Oregon', 'Texas']\n",
    "obj4 = Series(sdata, index=states)\n",
    "\n",
    "##pd.isnull(obj4)   \n",
    "##pd.notnull(obj4)"
   ]
  },
  {
   "cell_type": "markdown",
   "metadata": {},
   "source": [
    "### (b) Dataframe\n",
    "\n",
    "A DataFrame represents a tabular, spreadsheet-like data structure containing an ordered collection of columns, each of which can be a different value type (numeric,\n",
    "string, boolean, etc.). The DataFrame has both a row and column index; it can be\n",
    "thought of as a dict of Series (one for all sharing the same index)."
   ]
  },
  {
   "cell_type": "code",
   "execution_count": 3,
   "metadata": {
    "collapsed": false
   },
   "outputs": [],
   "source": [
    "data = {'state': ['Ohio', 'Ohio', 'Ohio', 'Nevada', 'Nevada'],\n",
    "'year': [2000, 2001, 2002, 2001, 2002],\n",
    "'pop': [1.5, 1.7, 3.6, 2.4, 2.9]}\n",
    "\n",
    "frame = DataFrame(data)\n",
    "#DataFrame(data, columns=['year', 'state', 'pop'])\n",
    "\n",
    "frame2 = DataFrame(data, columns=['year', 'state', 'pop', 'debt'],\\\n",
    "index=['one', 'two', 'three', 'four', 'five'])\n",
    "\n",
    "#frame.columns\n",
    "#frame.index"
   ]
  },
  {
   "cell_type": "markdown",
   "metadata": {},
   "source": [
    "Methods for index:\n",
    "\n",
    "|Method |Description|\n",
    "|---|---|\n",
    "|append |Concatenate with additional Index objects, producing a new Index|\n",
    "|diff |Compute set difference as an Index|\n",
    "|intersection Compute set intersection|\n",
    "|union |Compute set union|\n",
    "|isin |Compute boolean array indicating whether each value is contained in the passed collection|\n",
    "|delete |Compute new Index with element at index i deleted|\n",
    "|drop |Compute new index by deleting passed values|\n",
    "|insert |Compute new Index by inserting element at index i|\n",
    "|is_monotonic |Returns True if each element is greater than or equal to the previous element|\n",
    "|is_unique |Returns True if the Index has no duplicate values|\n",
    "|unique |Compute the array of unique values in the Index|"
   ]
  },
  {
   "cell_type": "markdown",
   "metadata": {
    "collapsed": true
   },
   "source": [
    "## 2.2 Essential Functionality"
   ]
  },
  {
   "cell_type": "markdown",
   "metadata": {},
   "source": [
    "### (a) Reindexing"
   ]
  },
  {
   "cell_type": "code",
   "execution_count": 7,
   "metadata": {
    "collapsed": false
   },
   "outputs": [
    {
     "data": {
      "text/plain": [
       "0      blue\n",
       "1    purple\n",
       "2    purple\n",
       "3    yellow\n",
       "4    yellow\n",
       "5       NaN\n",
       "dtype: object"
      ]
     },
     "execution_count": 7,
     "metadata": {},
     "output_type": "execute_result"
    }
   ],
   "source": [
    "obj = Series([4.5, 7.2, -5.3, 3.6], index=['d', 'b', 'a', 'c'])\n",
    "obj2 = obj.reindex(['a', 'b', 'c', 'd', 'e'])\n",
    "obj2 = obj.reindex(['a', 'b', 'c', 'd', 'e'])\n",
    "\n",
    "obj3 = Series(['blue', 'purple', 'yellow'], index=[0, 2, 4])\n",
    "#obj3.reindex(range(6), method='ffill')\n",
    "#obj3.reindex(range(6),method = 'bfill')"
   ]
  },
  {
   "cell_type": "markdown",
   "metadata": {},
   "source": [
    "### (b) Dropping entries from an axis"
   ]
  },
  {
   "cell_type": "code",
   "execution_count": 12,
   "metadata": {
    "collapsed": false
   },
   "outputs": [],
   "source": [
    "obj = Series(np.arange(5.), index=['a', 'b', 'c', 'd', 'e'])\n",
    "\n",
    "new_obj = obj.drop('c')\n",
    "#obj.drop(['d', 'c'])"
   ]
  },
  {
   "cell_type": "code",
   "execution_count": 21,
   "metadata": {
    "collapsed": false
   },
   "outputs": [
    {
     "data": {
      "text/html": [
       "<div>\n",
       "<table border=\"1\" class=\"dataframe\">\n",
       "  <thead>\n",
       "    <tr style=\"text-align: right;\">\n",
       "      <th></th>\n",
       "      <th>one</th>\n",
       "      <th>two</th>\n",
       "      <th>three</th>\n",
       "      <th>four</th>\n",
       "    </tr>\n",
       "  </thead>\n",
       "  <tbody>\n",
       "    <tr>\n",
       "      <th>Utah</th>\n",
       "      <td>8</td>\n",
       "      <td>9</td>\n",
       "      <td>10</td>\n",
       "      <td>11</td>\n",
       "    </tr>\n",
       "    <tr>\n",
       "      <th>New York</th>\n",
       "      <td>12</td>\n",
       "      <td>13</td>\n",
       "      <td>14</td>\n",
       "      <td>15</td>\n",
       "    </tr>\n",
       "  </tbody>\n",
       "</table>\n",
       "</div>"
      ],
      "text/plain": [
       "          one  two  three  four\n",
       "Utah        8    9     10    11\n",
       "New York   12   13     14    15"
      ]
     },
     "execution_count": 21,
     "metadata": {},
     "output_type": "execute_result"
    }
   ],
   "source": [
    "data = DataFrame(np.arange(16).reshape((4, 4)),index=['Ohio', 'Colorado', 'Utah', 'New York'],\\\n",
    "columns=['one', 'two', 'three', 'four'])\n",
    "\n",
    "data.drop(['two','four'],axis = 1) # axis is required for dropping columns\n",
    "data.drop(['Colorado', 'Ohio'])"
   ]
  },
  {
   "cell_type": "markdown",
   "metadata": {},
   "source": [
    "### (c) Indexing, selection, and filtering"
   ]
  },
  {
   "cell_type": "code",
   "execution_count": 26,
   "metadata": {
    "collapsed": false
   },
   "outputs": [
    {
     "data": {
      "text/html": [
       "<div>\n",
       "<table border=\"1\" class=\"dataframe\">\n",
       "  <thead>\n",
       "    <tr style=\"text-align: right;\">\n",
       "      <th></th>\n",
       "      <th>one</th>\n",
       "      <th>two</th>\n",
       "      <th>three</th>\n",
       "      <th>four</th>\n",
       "    </tr>\n",
       "  </thead>\n",
       "  <tbody>\n",
       "    <tr>\n",
       "      <th>Colorado</th>\n",
       "      <td>4</td>\n",
       "      <td>5</td>\n",
       "      <td>6</td>\n",
       "      <td>7</td>\n",
       "    </tr>\n",
       "    <tr>\n",
       "      <th>Utah</th>\n",
       "      <td>8</td>\n",
       "      <td>9</td>\n",
       "      <td>10</td>\n",
       "      <td>11</td>\n",
       "    </tr>\n",
       "    <tr>\n",
       "      <th>New York</th>\n",
       "      <td>12</td>\n",
       "      <td>13</td>\n",
       "      <td>14</td>\n",
       "      <td>15</td>\n",
       "    </tr>\n",
       "  </tbody>\n",
       "</table>\n",
       "</div>"
      ],
      "text/plain": [
       "          one  two  three  four\n",
       "Colorado    4    5      6     7\n",
       "Utah        8    9     10    11\n",
       "New York   12   13     14    15"
      ]
     },
     "execution_count": 26,
     "metadata": {},
     "output_type": "execute_result"
    }
   ],
   "source": [
    "data[data['three'] > 5]"
   ]
  },
  {
   "cell_type": "markdown",
   "metadata": {},
   "source": [
    "For DataFrame label-indexing on the rows, I introduce the special indexing field ix. It\n",
    "enables you to select a subset of the rows and columns from a DataFrame with NumPylike notation plus axis labels.\n",
    "\n",
    "**ix** :\n",
    "\n",
    "|Type| Notes|\n",
    "|---|---|\n",
    "|obj[val]| Select single column or sequence of columns from the DataFrame.|\n",
    "|obj.ix[val]| Selects single row of subset of rows from the DataFrame.|\n",
    "|obj.ix[:, val]| Selects single column of subset of columns.|\n",
    "|obj.ix[val1, val2]| Select both rows and columns.|\n",
    "|reindex| method Conform one or more axes to new indexes.|\n",
    "|xs| method Select single row or column as a Series by label.|\n",
    "|icol, irow| methods Select single column or row, respectively, as a Series by integer location.|\n",
    "|get_value, set_value| methods Select single value by row and column label.|"
   ]
  },
  {
   "cell_type": "code",
   "execution_count": 31,
   "metadata": {
    "collapsed": false
   },
   "outputs": [
    {
     "data": {
      "text/html": [
       "<div>\n",
       "<table border=\"1\" class=\"dataframe\">\n",
       "  <thead>\n",
       "    <tr style=\"text-align: right;\">\n",
       "      <th></th>\n",
       "      <th>one</th>\n",
       "      <th>two</th>\n",
       "      <th>three</th>\n",
       "    </tr>\n",
       "  </thead>\n",
       "  <tbody>\n",
       "    <tr>\n",
       "      <th>Colorado</th>\n",
       "      <td>4</td>\n",
       "      <td>5</td>\n",
       "      <td>6</td>\n",
       "    </tr>\n",
       "    <tr>\n",
       "      <th>Utah</th>\n",
       "      <td>8</td>\n",
       "      <td>9</td>\n",
       "      <td>10</td>\n",
       "    </tr>\n",
       "    <tr>\n",
       "      <th>New York</th>\n",
       "      <td>12</td>\n",
       "      <td>13</td>\n",
       "      <td>14</td>\n",
       "    </tr>\n",
       "  </tbody>\n",
       "</table>\n",
       "</div>"
      ],
      "text/plain": [
       "          one  two  three\n",
       "Colorado    4    5      6\n",
       "Utah        8    9     10\n",
       "New York   12   13     14"
      ]
     },
     "execution_count": 31,
     "metadata": {},
     "output_type": "execute_result"
    }
   ],
   "source": [
    "data.ix['Colorado', ['two', 'three']]\n",
    "data.ix[['Colorado', 'Utah'], [3, 0, 1]]\n",
    "data.ix[data.three > 5, :3]"
   ]
  },
  {
   "cell_type": "markdown",
   "metadata": {},
   "source": [
    "### (d) Arithmetic and data alignment\n",
    "\n",
    "**Dataframe.add**:\n",
    "\n",
    "|Method |Description|\n",
    "|---|---|\n",
    "|add |Method for addition (+)|\n",
    "|sub |Method for subtraction (-)|\n",
    "|div| Method for division (/)|\n",
    "|mul| Method for multiplication (*)|"
   ]
  },
  {
   "cell_type": "markdown",
   "metadata": {},
   "source": [
    "### (e) Function application and mapping"
   ]
  },
  {
   "cell_type": "code",
   "execution_count": 59,
   "metadata": {
    "collapsed": false
   },
   "outputs": [
    {
     "data": {
      "text/html": [
       "<div>\n",
       "<table border=\"1\" class=\"dataframe\">\n",
       "  <thead>\n",
       "    <tr style=\"text-align: right;\">\n",
       "      <th></th>\n",
       "      <th>b</th>\n",
       "      <th>d</th>\n",
       "      <th>e</th>\n",
       "    </tr>\n",
       "  </thead>\n",
       "  <tbody>\n",
       "    <tr>\n",
       "      <th>min</th>\n",
       "      <td>-0.427003</td>\n",
       "      <td>-1.641170</td>\n",
       "      <td>-0.969069</td>\n",
       "    </tr>\n",
       "    <tr>\n",
       "      <th>max</th>\n",
       "      <td>1.575337</td>\n",
       "      <td>1.138346</td>\n",
       "      <td>1.089724</td>\n",
       "    </tr>\n",
       "  </tbody>\n",
       "</table>\n",
       "</div>"
      ],
      "text/plain": [
       "            b         d         e\n",
       "min -0.427003 -1.641170 -0.969069\n",
       "max  1.575337  1.138346  1.089724"
      ]
     },
     "execution_count": 59,
     "metadata": {},
     "output_type": "execute_result"
    }
   ],
   "source": [
    "frame = DataFrame(np.random.randn(4, 3), columns=list('bde'), index=['Utah', 'Ohio', 'Texas', 'Oregon'])\n",
    "\n",
    "f = lambda x: x.max()-x.min()\n",
    "\n",
    "frame.apply(f)\n",
    "frame.apply(f,axis = 1)\n",
    "\n",
    "#custom function\n",
    "def f(x):\n",
    "    return Series([x.min(), x.max()], index=['min', 'max'])\n",
    "    #return [x.min(),x.max()]\n",
    "\n",
    "frame.apply(f)"
   ]
  },
  {
   "cell_type": "code",
   "execution_count": 62,
   "metadata": {
    "collapsed": false
   },
   "outputs": [
    {
     "data": {
      "text/html": [
       "<div>\n",
       "<table border=\"1\" class=\"dataframe\">\n",
       "  <thead>\n",
       "    <tr style=\"text-align: right;\">\n",
       "      <th></th>\n",
       "      <th>b</th>\n",
       "      <th>d</th>\n",
       "      <th>e</th>\n",
       "    </tr>\n",
       "  </thead>\n",
       "  <tbody>\n",
       "    <tr>\n",
       "      <th>Utah</th>\n",
       "      <td>-0.43</td>\n",
       "      <td>-0.74</td>\n",
       "      <td>-0.97</td>\n",
       "    </tr>\n",
       "    <tr>\n",
       "      <th>Ohio</th>\n",
       "      <td>-0.29</td>\n",
       "      <td>-1.64</td>\n",
       "      <td>1.09</td>\n",
       "    </tr>\n",
       "    <tr>\n",
       "      <th>Texas</th>\n",
       "      <td>0.40</td>\n",
       "      <td>1.14</td>\n",
       "      <td>-0.60</td>\n",
       "    </tr>\n",
       "    <tr>\n",
       "      <th>Oregon</th>\n",
       "      <td>1.58</td>\n",
       "      <td>0.45</td>\n",
       "      <td>0.97</td>\n",
       "    </tr>\n",
       "  </tbody>\n",
       "</table>\n",
       "</div>"
      ],
      "text/plain": [
       "            b      d      e\n",
       "Utah    -0.43  -0.74  -0.97\n",
       "Ohio    -0.29  -1.64   1.09\n",
       "Texas    0.40   1.14  -0.60\n",
       "Oregon   1.58   0.45   0.97"
      ]
     },
     "execution_count": 62,
     "metadata": {},
     "output_type": "execute_result"
    }
   ],
   "source": [
    "# Decimals\n",
    "format = lambda x: '%.2f' % x\n",
    "\n",
    "\n",
    "# applymap: Element-wise\n",
    "frame.applymap(format)\n",
    "\n",
    "# frame['e'].map(format)"
   ]
  },
  {
   "cell_type": "markdown",
   "metadata": {},
   "source": [
    "### (f) Sorting and ranking"
   ]
  },
  {
   "cell_type": "code",
   "execution_count": 68,
   "metadata": {
    "collapsed": false
   },
   "outputs": [
    {
     "data": {
      "text/plain": [
       "a    1\n",
       "b    2\n",
       "c    3\n",
       "d    0\n",
       "dtype: int16"
      ]
     },
     "execution_count": 68,
     "metadata": {},
     "output_type": "execute_result"
    }
   ],
   "source": [
    "obj = Series(range(4), index=['d', 'a', 'b', 'c'],dtype='int16')\n",
    "\n",
    "#To sort lexicographically by row or column index, use the sort_index method\n",
    "\n",
    "obj.sort_index()"
   ]
  },
  {
   "cell_type": "code",
   "execution_count": 72,
   "metadata": {
    "collapsed": false
   },
   "outputs": [
    {
     "data": {
      "text/html": [
       "<div>\n",
       "<table border=\"1\" class=\"dataframe\">\n",
       "  <thead>\n",
       "    <tr style=\"text-align: right;\">\n",
       "      <th></th>\n",
       "      <th>d</th>\n",
       "      <th>c</th>\n",
       "      <th>b</th>\n",
       "      <th>a</th>\n",
       "    </tr>\n",
       "  </thead>\n",
       "  <tbody>\n",
       "    <tr>\n",
       "      <th>three</th>\n",
       "      <td>0</td>\n",
       "      <td>3</td>\n",
       "      <td>2</td>\n",
       "      <td>1</td>\n",
       "    </tr>\n",
       "    <tr>\n",
       "      <th>one</th>\n",
       "      <td>4</td>\n",
       "      <td>7</td>\n",
       "      <td>6</td>\n",
       "      <td>5</td>\n",
       "    </tr>\n",
       "  </tbody>\n",
       "</table>\n",
       "</div>"
      ],
      "text/plain": [
       "       d  c  b  a\n",
       "three  0  3  2  1\n",
       "one    4  7  6  5"
      ]
     },
     "execution_count": 72,
     "metadata": {},
     "output_type": "execute_result"
    }
   ],
   "source": [
    "frame = DataFrame(np.arange(8).reshape((2, 4)), index=['three', 'one'], columns=['d', 'a', 'b', 'c'])\n",
    "\n",
    "frame.sort_index(axis=1,ascending = 0)"
   ]
  },
  {
   "cell_type": "markdown",
   "metadata": {},
   "source": [
    "To sort a Series by its values, use its **order** method:"
   ]
  },
  {
   "cell_type": "code",
   "execution_count": 75,
   "metadata": {
    "collapsed": false
   },
   "outputs": [],
   "source": [
    "obj = Series([4, 7, -3, 2])\n",
    "\n",
    "# obj.order()"
   ]
  },
  {
   "cell_type": "markdown",
   "metadata": {},
   "source": [
    "On DataFrame, you may want to sort by the values in one or more columns. To do so,\n",
    "pass one or more column names to the **by** option:"
   ]
  },
  {
   "cell_type": "code",
   "execution_count": 80,
   "metadata": {
    "collapsed": false
   },
   "outputs": [
    {
     "name": "stderr",
     "output_type": "stream",
     "text": [
      "D:\\AnacondaF\\lib\\site-packages\\ipykernel\\__main__.py:2: FutureWarning: by argument to sort_index is deprecated, pls use .sort_values(by=...)\n",
      "  from ipykernel import kernelapp as app\n",
      "D:\\AnacondaF\\lib\\site-packages\\ipykernel\\__main__.py:5: FutureWarning: by argument to sort_index is deprecated, pls use .sort_values(by=...)\n"
     ]
    }
   ],
   "source": [
    "frame = DataFrame({'b': [4, 7, -3, 2], 'a': [0, 1, 0, 1]})\n",
    "frame.sort_index(by='a')\n",
    "\n",
    "#To sort by multiple columns, pass a list of names:\n",
    "ff = frame.sort_index(by=['a', 'b'])"
   ]
  },
  {
   "cell_type": "code",
   "execution_count": 84,
   "metadata": {
    "collapsed": false
   },
   "outputs": [
    {
     "data": {
      "text/plain": [
       "0    1.0\n",
       "1    7.0\n",
       "2    2.0\n",
       "3    3.0\n",
       "4    5.0\n",
       "5    6.0\n",
       "6    4.0\n",
       "dtype: float64"
      ]
     },
     "execution_count": 84,
     "metadata": {},
     "output_type": "execute_result"
    }
   ],
   "source": [
    "\n",
    "#Ranking is closely related to sorting, assigning ranks from one through the number of\n",
    "#valid data points in an array.\n",
    "\n",
    "#the same as np.argsort\n",
    "obj = Series([7, -5, 7, 4, 2, 0, 4])\n",
    "obj.rank()\n",
    "obj.rank(method='first',ascending=False)\n",
    "#np.argsort(obj)"
   ]
  },
  {
   "cell_type": "markdown",
   "metadata": {},
   "source": [
    "## 2.3 Summarizing and Computing Descriptive Statistics\n",
    "\n",
    "|Method| Description|\n",
    "|---|---|\n",
    "|count| Number of non-NA values|\n",
    "|describe| Compute set of summary statistics for Series or each DataFrame column|\n",
    "|min, max |Compute minimum and maximum values|\n",
    "|argmin, argmax| Compute index locations (integers) at which minimum or maximum value obtained, respectively|\n",
    "|idxmin, idxmax| Compute index values at which minimum or maximum value obtained, respectively|\n",
    "|quantile |Compute sample quantile ranging from 0 to 1|\n",
    "|sum |Sum of values|\n",
    "|mean |Mean of values|\n",
    "|median |Arithmetic median (50% quantile) of values|\n",
    "|mad |Mean absolute deviation from mean value|\n",
    "|var |Sample variance of values|\n",
    "|std |Sample standard deviation of values|\n",
    "|skew |Sample skewness (3rd moment) of values|\n",
    "|kurt |Sample kurtosis (4th moment) of values|\n",
    "|cumsum |Cumulative sum of values|\n",
    "|cummin, cummax| Cumulative minimum or maximum of values, respectively|\n",
    "|cumprod |Cumulative product of values|\n",
    "|diff | Compute 1st arithmetic difference (useful for time series)|\n",
    "|pct_change| Compute percent changes|"
   ]
  },
  {
   "cell_type": "code",
   "execution_count": 115,
   "metadata": {
    "collapsed": false
   },
   "outputs": [],
   "source": [
    "df = DataFrame([[1.4, np.nan], [7.1, -4.5],\\\n",
    "[np.nan, np.nan], [0.75, -1.3]],columns=['one', 'two'])\n",
    "\n",
    "#df.mean(axis=1, skipna=False)\n",
    "#df.sum(axis=1)\n",
    "#df.sum()\n",
    "\n",
    "# idxmin and idxmax: return the index\n",
    "#df.idxmax()\n",
    "\n",
    "# df.cumsum()\n",
    "#df.describe()\n",
    "\n",
    "#cov and cor\n",
    "data = DataFrame(np.random.randn(5,5))\n",
    "#data.cov()\n",
    "#data.corr()\n",
    "\n",
    "#np.cov(data)\n",
    "#np.corrcoef(data)"
   ]
  },
  {
   "cell_type": "markdown",
   "metadata": {},
   "source": [
    "###  Unique Values, Value Counts, and Membership\n",
    "\n",
    "|Method| Description|\n",
    "|---|---|\n",
    "|isin| Compute boolean array indicating whether each Series value is contained in the passed sequence of values.|\n",
    "|unique| Compute array of unique values in a Series, returned in the order observed.|\n",
    "|value_counts| Return a Series contReturn a Series containing unique values as its index and frequencies as its values, ordered count indescending order.|"
   ]
  },
  {
   "cell_type": "code",
   "execution_count": 142,
   "metadata": {
    "collapsed": false
   },
   "outputs": [
    {
     "data": {
      "text/plain": [
       "0    c\n",
       "5    b\n",
       "6    b\n",
       "7    c\n",
       "8    c\n",
       "dtype: object"
      ]
     },
     "execution_count": 142,
     "metadata": {},
     "output_type": "execute_result"
    }
   ],
   "source": [
    "obj = Series(['c', 'a', 'd', 'a', 'a', 'b', 'b', 'c', 'c'],dtype='str')\n",
    "\n",
    "#Get the unique values\n",
    "uniques = obj.unique()\n",
    "\n",
    "#Value_counts\n",
    "obj.value_counts()\n",
    "value_counts(obj.values, sort=False)\n",
    "\n",
    "#isin is responsible for vectorized set membership\n",
    "mask = obj.isin(['b', 'c'])\n",
    "obj[mask]"
   ]
  },
  {
   "cell_type": "code",
   "execution_count": 148,
   "metadata": {
    "collapsed": false
   },
   "outputs": [
    {
     "data": {
      "text/html": [
       "<div>\n",
       "<table border=\"1\" class=\"dataframe\">\n",
       "  <thead>\n",
       "    <tr style=\"text-align: right;\">\n",
       "      <th></th>\n",
       "      <th>Qu1</th>\n",
       "      <th>Qu2</th>\n",
       "      <th>Qu3</th>\n",
       "    </tr>\n",
       "  </thead>\n",
       "  <tbody>\n",
       "    <tr>\n",
       "      <th>1</th>\n",
       "      <td>1.0</td>\n",
       "      <td>1.0</td>\n",
       "      <td>1.0</td>\n",
       "    </tr>\n",
       "    <tr>\n",
       "      <th>2</th>\n",
       "      <td>0.0</td>\n",
       "      <td>2.0</td>\n",
       "      <td>1.0</td>\n",
       "    </tr>\n",
       "    <tr>\n",
       "      <th>3</th>\n",
       "      <td>2.0</td>\n",
       "      <td>2.0</td>\n",
       "      <td>0.0</td>\n",
       "    </tr>\n",
       "    <tr>\n",
       "      <th>4</th>\n",
       "      <td>2.0</td>\n",
       "      <td>0.0</td>\n",
       "      <td>2.0</td>\n",
       "    </tr>\n",
       "    <tr>\n",
       "      <th>5</th>\n",
       "      <td>0.0</td>\n",
       "      <td>0.0</td>\n",
       "      <td>1.0</td>\n",
       "    </tr>\n",
       "  </tbody>\n",
       "</table>\n",
       "</div>"
      ],
      "text/plain": [
       "   Qu1  Qu2  Qu3\n",
       "1  1.0  1.0  1.0\n",
       "2  0.0  2.0  1.0\n",
       "3  2.0  2.0  0.0\n",
       "4  2.0  0.0  2.0\n",
       "5  0.0  0.0  1.0"
      ]
     },
     "execution_count": 148,
     "metadata": {},
     "output_type": "execute_result"
    }
   ],
   "source": [
    "#An example \n",
    "data = DataFrame({'Qu1': [1, 3, 4, 3, 4],'Qu2': [2, 3, 1, 2, 3],'Qu3': [1, 5, 2, 4, 4]})\n",
    "result = data.apply(value_counts)\n",
    "result.fillna(0)"
   ]
  },
  {
   "cell_type": "markdown",
   "metadata": {},
   "source": [
    "## 2.4 Handling Missing Data\n",
    "\n",
    "|Argument| Description|\n",
    "|---|---|\n",
    "|dropna |Filter axis labels based on whether values for each label have missing data, with varying thresholds for how much missing data to tolerate.|\n",
    "|fillna |Fill in missing data with some value or using an interpolation method such as 'ffill' or 'bfill'.|\n",
    "|isnull |Return like-type object containing boolean values indicating which values are missing / NA.|\n",
    "|notnull| Negation of isnull.|"
   ]
  },
  {
   "cell_type": "code",
   "execution_count": 161,
   "metadata": {
    "collapsed": false
   },
   "outputs": [
    {
     "data": {
      "text/plain": [
       "False"
      ]
     },
     "execution_count": 161,
     "metadata": {},
     "output_type": "execute_result"
    }
   ],
   "source": [
    "string_data = Series(['aardvark', 'artichoke', np.nan, 'avocado'])\n",
    "string_data.isnull()\n",
    "\n",
    "string_data[0] = None\n",
    "#string_data.isnull()\n",
    "\n",
    "string_data.dropna()\n",
    "string_data[2] == None"
   ]
  },
  {
   "cell_type": "code",
   "execution_count": 163,
   "metadata": {
    "collapsed": false
   },
   "outputs": [],
   "source": [
    "data = DataFrame([[1., 6.5, 3.], [1., None, None],[None, None, None], [None, 6.5, 3.]])\n",
    "cleaned = data.dropna()\n",
    "\n",
    "#Drop only when all the elements are NaN\n",
    "cleaned = data.dropna(how = 'all')"
   ]
  },
  {
   "cell_type": "markdown",
   "metadata": {},
   "source": [
    "### Filling in Missing Data"
   ]
  },
  {
   "cell_type": "code",
   "execution_count": 172,
   "metadata": {
    "collapsed": false
   },
   "outputs": [],
   "source": [
    "df = DataFrame(np.random.randn(7, 3))\n",
    "df.ix[:4, 1] = None; df.ix[:2, 2] = None\n",
    "\n",
    "df.fillna(0)\n",
    "df.fillna({1: 0.5, 3: -1})\n",
    "\n",
    "# always returns a reference to the filled object\n",
    "df.fillna(0, inplace=True)\n",
    "\n",
    "#df.fillna(method='ffill')\n",
    "# df.fillna(method='ffill', limit=2)"
   ]
  },
  {
   "cell_type": "markdown",
   "metadata": {},
   "source": [
    "------------------------------"
   ]
  },
  {
   "cell_type": "markdown",
   "metadata": {},
   "source": [
    "------------------------------"
   ]
  },
  {
   "cell_type": "markdown",
   "metadata": {},
   "source": [
    "# 3. Data Loading, Storage, and File Formats"
   ]
  },
  {
   "cell_type": "markdown",
   "metadata": {},
   "source": [
    "## 3.1 Reading and Writing Data in Text Format\n",
    "\n",
    "|Function |Description|\n",
    "|---|---|\n",
    "|read_csv |Load delimited data from a file, URL, or file-like object. Use comma as default delimiter|\n",
    "|read_table |Load delimited data from a file, URL, or file-like object. Use tab ('\\t') as default delimiter|\n",
    "|read_fwf | Read data in fixed-width column format (that is, no delimiters)|\n",
    "|read_clipboard | Version ofread_table that reads data from the clipboard. Useful for converting tables from web pages|\n",
    "\n",
    "Read Function Arguments:\n",
    "\n",
    "Argument Description\n",
    "\n",
    "|path| String indicating filesystem location, URL, or file-like object|\n",
    "|---|---|\n",
    "|sep| or delimiter Character sequence or regular expression to use to split fields in each row\n",
    "|header| Row number to use as column names. Defaults to 0 (first row), but should be None if there is no header row\n",
    "|index_col| Column numbers or names to use as the row index in the result. Can be a single name/number or a list of them for a hierarchical index\n",
    "|names| List of column names for result, combine with header=None\n",
    "|skiprows| Number of rows at beginning of file to ignore or list of row numbers (starting from 0) to skip\n",
    "|na_values| Sequence of values to replace with NA\n",
    "|comment| Character or characters to split comments off the end of lines\n",
    "|parse_dates| Attempt to parse data to datetime; False by default. If True, will attempt to parse all columns. Otherwise can specify a list of column numbers or name to parse. If element of list is tuple or list, will combine multiple columns together and parse to date (for example if date/time split across two columns)\n",
    "|keep_date_col| If joining columns to parse date, drop the joined columns. Default True converters Dict containing column number of name mapping to functions. For example{'foo': f} would apply the function f to all values in the 'foo' column \n",
    "|dayfirst| When parsing potentially ambiguous dates, treat as international format (e.g. 7/6/2012 -> June 7,2012). Default False \n",
    "|date_parser| Function to use to parse dates\n",
    "|nrows| Number of rows to read from beginning of file\n",
    "|iterator| Return a TextParser object for reading file piecemeal chunksize For iteration, size of file chunks\n",
    "|skip_footer| Number of lines to ignore at end of file\n",
    "|verbose| Print various parser output information, like the number of missing values placed in non-numeric columns\n",
    "|encoding| Text encoding for unicode. For example 'utf-8' for UTF-8 encoded text\n",
    "|squeeze| If the parsed data only contains one column return a Series\n",
    "|thousands| Separator for thousands, e.g. ',' or '"
   ]
  },
  {
   "cell_type": "markdown",
   "metadata": {},
   "source": [
    "## 3.2 Read csv from url"
   ]
  },
  {
   "cell_type": "code",
   "execution_count": 182,
   "metadata": {
    "collapsed": false
   },
   "outputs": [],
   "source": [
    "import pandas as pd\n",
    "import io\n",
    "import requests\n",
    "url=\"https://raw.githubusercontent.com/cs109/2014_data/master/countries.csv\"\n",
    "s=requests.get(url).content\n",
    "c=pd.read_csv(io.StringIO(s.decode('utf-8')))\n",
    "\n",
    "#or\n",
    "c = pd.read_csv(\"https://raw.githubusercontent.com/cs109/2014_data/master/countries.csv\")"
   ]
  },
  {
   "cell_type": "markdown",
   "metadata": {},
   "source": [
    "## 3.3 Save"
   ]
  },
  {
   "cell_type": "code",
   "execution_count": 203,
   "metadata": {
    "collapsed": false
   },
   "outputs": [],
   "source": [
    "#c.to_csv(\"\")"
   ]
  },
  {
   "cell_type": "markdown",
   "metadata": {
    "collapsed": true
   },
   "source": [
    "_________________________"
   ]
  },
  {
   "cell_type": "markdown",
   "metadata": {},
   "source": [
    "__________________________---"
   ]
  },
  {
   "cell_type": "markdown",
   "metadata": {},
   "source": [
    "# 4. Data Wrangling: Clean, Transform, Merge, Reshape\n",
    "\n",
    "• pandas.merge connects rows in DataFrames based on one or more keys. This will\n",
    "be familiar to users of SQL or other relational databases, as it implements database\n",
    "join operations.\n",
    "• pandas.concat glues or stacks together objects along an axis.\n",
    "• combine_first instance method enables splicing together overlapping data to fill\n",
    "in missing values in one object with values from another.\n",
    "\n",
    "## 4.1 Merge"
   ]
  },
  {
   "cell_type": "code",
   "execution_count": 13,
   "metadata": {
    "collapsed": false
   },
   "outputs": [
    {
     "data": {
      "text/html": [
       "<div>\n",
       "<table border=\"1\" class=\"dataframe\">\n",
       "  <thead>\n",
       "    <tr style=\"text-align: right;\">\n",
       "      <th></th>\n",
       "      <th>data1</th>\n",
       "      <th>key</th>\n",
       "      <th>data2</th>\n",
       "    </tr>\n",
       "  </thead>\n",
       "  <tbody>\n",
       "    <tr>\n",
       "      <th>0</th>\n",
       "      <td>0.0</td>\n",
       "      <td>b</td>\n",
       "      <td>1.0</td>\n",
       "    </tr>\n",
       "    <tr>\n",
       "      <th>1</th>\n",
       "      <td>1.0</td>\n",
       "      <td>b</td>\n",
       "      <td>1.0</td>\n",
       "    </tr>\n",
       "    <tr>\n",
       "      <th>2</th>\n",
       "      <td>6.0</td>\n",
       "      <td>b</td>\n",
       "      <td>1.0</td>\n",
       "    </tr>\n",
       "    <tr>\n",
       "      <th>3</th>\n",
       "      <td>2.0</td>\n",
       "      <td>a</td>\n",
       "      <td>0.0</td>\n",
       "    </tr>\n",
       "    <tr>\n",
       "      <th>4</th>\n",
       "      <td>4.0</td>\n",
       "      <td>a</td>\n",
       "      <td>0.0</td>\n",
       "    </tr>\n",
       "    <tr>\n",
       "      <th>5</th>\n",
       "      <td>5.0</td>\n",
       "      <td>a</td>\n",
       "      <td>0.0</td>\n",
       "    </tr>\n",
       "    <tr>\n",
       "      <th>6</th>\n",
       "      <td>3.0</td>\n",
       "      <td>c</td>\n",
       "      <td>NaN</td>\n",
       "    </tr>\n",
       "    <tr>\n",
       "      <th>7</th>\n",
       "      <td>NaN</td>\n",
       "      <td>d</td>\n",
       "      <td>2.0</td>\n",
       "    </tr>\n",
       "  </tbody>\n",
       "</table>\n",
       "</div>"
      ],
      "text/plain": [
       "   data1 key  data2\n",
       "0    0.0   b    1.0\n",
       "1    1.0   b    1.0\n",
       "2    6.0   b    1.0\n",
       "3    2.0   a    0.0\n",
       "4    4.0   a    0.0\n",
       "5    5.0   a    0.0\n",
       "6    3.0   c    NaN\n",
       "7    NaN   d    2.0"
      ]
     },
     "execution_count": 13,
     "metadata": {},
     "output_type": "execute_result"
    }
   ],
   "source": [
    "df1 = DataFrame({'key': ['b', 'b', 'a', 'c', 'a', 'a', 'b'],'data1': range(7)})\n",
    "df2 = DataFrame({'key': ['a', 'b', 'd'],'data2': range(3)})\n",
    "\n",
    "# Calling **merge** with these objects we obtain:\n",
    "merge(df1,df2, on = 'key')\n",
    "\n",
    "df3 = DataFrame({'lkey': ['b', 'b', 'a', 'c', 'a', 'a', 'b'],'data1': range(7)})\n",
    "df4 = DataFrame({'rkey': ['a', 'b', 'd'],'data2': range(3)})\n",
    "\n",
    "merge(df3, df4, left_on='lkey', right_on='rkey')\n",
    "\n",
    "#By default merge does an 'inner' join; the keys in the result are the intersection. \\\n",
    "#Other possible options are 'left', 'right', and 'outer'.\n",
    "\n",
    "merge(df1, df2, how='outer')"
   ]
  },
  {
   "cell_type": "markdown",
   "metadata": {},
   "source": [
    "## 4.2 Concatenating Along an Axis"
   ]
  },
  {
   "cell_type": "code",
   "execution_count": 35,
   "metadata": {
    "collapsed": false
   },
   "outputs": [
    {
     "data": {
      "text/plain": [
       "array([[ 0,  1,  2,  3, 12, 13, 14, 15],\n",
       "       [ 4,  5,  6,  7, 16, 17, 18, 19],\n",
       "       [ 8,  9, 10, 11, 20, 21, 22, 23]])"
      ]
     },
     "execution_count": 35,
     "metadata": {},
     "output_type": "execute_result"
    }
   ],
   "source": [
    "arr1 = np.arange(12).reshape((3, 4))\n",
    "arr2 = np.arange(12,24).reshape(3,4)\n",
    " \n",
    "#np.concatenate\n",
    "np.concatenate([arr1,arr2],axis = 1)\n"
   ]
  },
  {
   "cell_type": "code",
   "execution_count": 23,
   "metadata": {
    "collapsed": false
   },
   "outputs": [
    {
     "data": {
      "text/html": [
       "<div>\n",
       "<table border=\"1\" class=\"dataframe\">\n",
       "  <thead>\n",
       "    <tr style=\"text-align: right;\">\n",
       "      <th></th>\n",
       "      <th>0</th>\n",
       "      <th>1</th>\n",
       "      <th>2</th>\n",
       "      <th>3</th>\n",
       "    </tr>\n",
       "  </thead>\n",
       "  <tbody>\n",
       "    <tr>\n",
       "      <th>0</th>\n",
       "      <td>0</td>\n",
       "      <td>1</td>\n",
       "      <td>2</td>\n",
       "      <td>3</td>\n",
       "    </tr>\n",
       "    <tr>\n",
       "      <th>1</th>\n",
       "      <td>4</td>\n",
       "      <td>5</td>\n",
       "      <td>6</td>\n",
       "      <td>7</td>\n",
       "    </tr>\n",
       "    <tr>\n",
       "      <th>2</th>\n",
       "      <td>8</td>\n",
       "      <td>9</td>\n",
       "      <td>10</td>\n",
       "      <td>11</td>\n",
       "    </tr>\n",
       "    <tr>\n",
       "      <th>0</th>\n",
       "      <td>12</td>\n",
       "      <td>13</td>\n",
       "      <td>14</td>\n",
       "      <td>15</td>\n",
       "    </tr>\n",
       "    <tr>\n",
       "      <th>1</th>\n",
       "      <td>16</td>\n",
       "      <td>17</td>\n",
       "      <td>18</td>\n",
       "      <td>19</td>\n",
       "    </tr>\n",
       "    <tr>\n",
       "      <th>2</th>\n",
       "      <td>20</td>\n",
       "      <td>21</td>\n",
       "      <td>22</td>\n",
       "      <td>23</td>\n",
       "    </tr>\n",
       "  </tbody>\n",
       "</table>\n",
       "</div>"
      ],
      "text/plain": [
       "    0   1   2   3\n",
       "0   0   1   2   3\n",
       "1   4   5   6   7\n",
       "2   8   9  10  11\n",
       "0  12  13  14  15\n",
       "1  16  17  18  19\n",
       "2  20  21  22  23"
      ]
     },
     "execution_count": 23,
     "metadata": {},
     "output_type": "execute_result"
    }
   ],
   "source": [
    "s1 = Series([0, 1], index=['a', 'b'])\n",
    "s2 = Series([2, 3, 4], index=['c', 'd', 'e'])\n",
    "s3 = Series([5, 6], index=['f', 'g'])\n",
    "\n",
    "#pd.concat([s1,s2,s3])\n",
    "\n",
    "df1 = DataFrame(arr1)\n",
    "df2 = DataFrame(arr2)\n",
    "\n",
    "concat([df1,df2])"
   ]
  },
  {
   "cell_type": "markdown",
   "metadata": {},
   "source": [
    "### pandas.DataFrame.drop\n",
    "### pandas.DataFrame.transpose"
   ]
  },
  {
   "cell_type": "code",
   "execution_count": 37,
   "metadata": {
    "collapsed": false
   },
   "outputs": [
    {
     "data": {
      "text/html": [
       "<div>\n",
       "<table border=\"1\" class=\"dataframe\">\n",
       "  <thead>\n",
       "    <tr style=\"text-align: right;\">\n",
       "      <th></th>\n",
       "      <th>0</th>\n",
       "      <th>1</th>\n",
       "      <th>2</th>\n",
       "    </tr>\n",
       "  </thead>\n",
       "  <tbody>\n",
       "    <tr>\n",
       "      <th>0</th>\n",
       "      <td>0</td>\n",
       "      <td>4</td>\n",
       "      <td>8</td>\n",
       "    </tr>\n",
       "    <tr>\n",
       "      <th>1</th>\n",
       "      <td>1</td>\n",
       "      <td>5</td>\n",
       "      <td>9</td>\n",
       "    </tr>\n",
       "    <tr>\n",
       "      <th>2</th>\n",
       "      <td>2</td>\n",
       "      <td>6</td>\n",
       "      <td>10</td>\n",
       "    </tr>\n",
       "    <tr>\n",
       "      <th>3</th>\n",
       "      <td>3</td>\n",
       "      <td>7</td>\n",
       "      <td>11</td>\n",
       "    </tr>\n",
       "  </tbody>\n",
       "</table>\n",
       "</div>"
      ],
      "text/plain": [
       "   0  1   2\n",
       "0  0  4   8\n",
       "1  1  5   9\n",
       "2  2  6  10\n",
       "3  3  7  11"
      ]
     },
     "execution_count": 37,
     "metadata": {},
     "output_type": "execute_result"
    }
   ],
   "source": [
    "#DataFrame.drop(labels, axis=0, level=None, inplace=False, errors='raise')\n",
    "df1.drop(0,axis = 1)\n",
    "\n",
    "#pandas.DataFrame.transpose\n",
    "df1.transpose()"
   ]
  },
  {
   "cell_type": "markdown",
   "metadata": {},
   "source": [
    "### Removing duplicate"
   ]
  },
  {
   "cell_type": "code",
   "execution_count": 42,
   "metadata": {
    "collapsed": false
   },
   "outputs": [
    {
     "name": "stderr",
     "output_type": "stream",
     "text": [
      "D:\\AnacondaF\\lib\\site-packages\\ipykernel\\__main__.py:9: FutureWarning: the take_last=True keyword is deprecated, use keep='last' instead\n"
     ]
    },
    {
     "data": {
      "text/html": [
       "<div>\n",
       "<table border=\"1\" class=\"dataframe\">\n",
       "  <thead>\n",
       "    <tr style=\"text-align: right;\">\n",
       "      <th></th>\n",
       "      <th>k1</th>\n",
       "      <th>k2</th>\n",
       "      <th>v1</th>\n",
       "    </tr>\n",
       "  </thead>\n",
       "  <tbody>\n",
       "    <tr>\n",
       "      <th>1</th>\n",
       "      <td>one</td>\n",
       "      <td>1</td>\n",
       "      <td>1</td>\n",
       "    </tr>\n",
       "    <tr>\n",
       "      <th>2</th>\n",
       "      <td>one</td>\n",
       "      <td>2</td>\n",
       "      <td>2</td>\n",
       "    </tr>\n",
       "    <tr>\n",
       "      <th>4</th>\n",
       "      <td>two</td>\n",
       "      <td>3</td>\n",
       "      <td>4</td>\n",
       "    </tr>\n",
       "    <tr>\n",
       "      <th>6</th>\n",
       "      <td>two</td>\n",
       "      <td>4</td>\n",
       "      <td>6</td>\n",
       "    </tr>\n",
       "  </tbody>\n",
       "</table>\n",
       "</div>"
      ],
      "text/plain": [
       "    k1  k2  v1\n",
       "1  one   1   1\n",
       "2  one   2   2\n",
       "4  two   3   4\n",
       "6  two   4   6"
      ]
     },
     "execution_count": 42,
     "metadata": {},
     "output_type": "execute_result"
    }
   ],
   "source": [
    "data = DataFrame({'k1': ['one'] * 3 + ['two'] * 4, 'k2': [1, 1, 2, 3, 3, 4, 4]})\n",
    "data.duplicated()\n",
    "data.drop_duplicates()\n",
    "\n",
    "\n",
    "#Suppose we had an additional column of values and wanted to filter duplicates only based on the 'k1' column:\n",
    "data['v1'] = range(7)\n",
    "data.drop_duplicates(['k1'])\n",
    "data.drop_duplicates(['k1', 'k2'], take_last=True)"
   ]
  },
  {
   "cell_type": "markdown",
   "metadata": {},
   "source": [
    "### Transforming Data Using a Function or Mapping"
   ]
  },
  {
   "cell_type": "code",
   "execution_count": 60,
   "metadata": {
    "collapsed": false
   },
   "outputs": [],
   "source": [
    "data = DataFrame({'food': ['bacon', 'pulled pork', 'bacon', 'Pastrami','corned beef', \\\n",
    "                           'Bacon', 'pastrami', 'honey ham','nova lox'],\\\n",
    "                  'ounces': [4, 3, 12, 6, 7.5, 8, 3, 5, 6]})\n",
    "\n",
    "meat_to_animal = {\n",
    "'bacon': 'pig',\n",
    "'pulled pork': 'pig',\n",
    "'pastrami': 'cow',\n",
    "'corned beef': 'cow',\n",
    "'honey ham': 'pig',\n",
    "'nova lox': 'salmon'\n",
    "}\n",
    "\n",
    "data['animal'] = data['food'].map(str.lower).map(meat_to_animal)\n",
    "\n",
    "#data['food'].map(lambda x: meat_to_animal[x.lower()])"
   ]
  },
  {
   "cell_type": "markdown",
   "metadata": {},
   "source": [
    "### Replacing Values"
   ]
  },
  {
   "cell_type": "code",
   "execution_count": 64,
   "metadata": {
    "collapsed": false
   },
   "outputs": [
    {
     "data": {
      "text/plain": [
       "0    1.0\n",
       "1    NaN\n",
       "2    2.0\n",
       "3    NaN\n",
       "4    0.0\n",
       "5    3.0\n",
       "dtype: float64"
      ]
     },
     "execution_count": 64,
     "metadata": {},
     "output_type": "execute_result"
    }
   ],
   "source": [
    "data = Series([1., -999., 2., -999., -1000., 3.])\n",
    "\n",
    "tona = {-999:np.nan,-100:np.nan}\n",
    "\n",
    "#data.map(tona) Wrong!\n",
    "data.replace([-999, -1000], np.nan)\n",
    "data.replace([-999, -1000], [np.nan, 0])"
   ]
  },
  {
   "cell_type": "markdown",
   "metadata": {},
   "source": [
    "-------------------------"
   ]
  },
  {
   "cell_type": "markdown",
   "metadata": {},
   "source": [
    "--------------------------------"
   ]
  },
  {
   "cell_type": "markdown",
   "metadata": {},
   "source": [
    "# 5. Data Aggregation and Group Operations"
   ]
  },
  {
   "cell_type": "code",
   "execution_count": 47,
   "metadata": {
    "collapsed": false
   },
   "outputs": [
    {
     "data": {
      "text/plain": [
       "key1\n",
       "a    0.511520\n",
       "b    0.432462\n",
       "Name: data1, dtype: float64"
      ]
     },
     "execution_count": 47,
     "metadata": {},
     "output_type": "execute_result"
    }
   ],
   "source": [
    "df = DataFrame({'key1' : ['a', 'a', 'b', 'b', 'a'],'key2' : ['one', 'two', 'one', 'two', 'one'],\\\n",
    "'data1' : np.random.randn(5),'data2' : np.random.randn(5)})\n",
    "\n",
    "df['year'] = [2016 if x == 'one' else 2017 for x in df['key2']]\n",
    "\n",
    "grouped = df['data1'].groupby(df['key1'])\n",
    "\n",
    "grouped.mean()\n",
    "\n",
    "#type(grouped.mean())\n",
    "#pandas.core.series.Series\n",
    "\n",
    "means = df['data1'].groupby([df['key1'], df['key2']]).mean()\n",
    "\n",
    "df.groupby('key1')['data1'].mean()"
   ]
  },
  {
   "cell_type": "markdown",
   "metadata": {},
   "source": [
    "### Grouping with Dicts and Series"
   ]
  },
  {
   "cell_type": "code",
   "execution_count": 62,
   "metadata": {
    "collapsed": false
   },
   "outputs": [
    {
     "data": {
      "text/html": [
       "<div>\n",
       "<table border=\"1\" class=\"dataframe\">\n",
       "  <thead>\n",
       "    <tr style=\"text-align: right;\">\n",
       "      <th></th>\n",
       "      <th>blue</th>\n",
       "      <th>red</th>\n",
       "    </tr>\n",
       "  </thead>\n",
       "  <tbody>\n",
       "    <tr>\n",
       "      <th>Joe</th>\n",
       "      <td>2</td>\n",
       "      <td>3</td>\n",
       "    </tr>\n",
       "    <tr>\n",
       "      <th>Steve</th>\n",
       "      <td>2</td>\n",
       "      <td>3</td>\n",
       "    </tr>\n",
       "    <tr>\n",
       "      <th>Wes</th>\n",
       "      <td>1</td>\n",
       "      <td>2</td>\n",
       "    </tr>\n",
       "    <tr>\n",
       "      <th>Jim</th>\n",
       "      <td>2</td>\n",
       "      <td>3</td>\n",
       "    </tr>\n",
       "    <tr>\n",
       "      <th>Travis</th>\n",
       "      <td>2</td>\n",
       "      <td>3</td>\n",
       "    </tr>\n",
       "  </tbody>\n",
       "</table>\n",
       "</div>"
      ],
      "text/plain": [
       "        blue  red\n",
       "Joe        2    3\n",
       "Steve      2    3\n",
       "Wes        1    2\n",
       "Jim        2    3\n",
       "Travis     2    3"
      ]
     },
     "execution_count": 62,
     "metadata": {},
     "output_type": "execute_result"
    }
   ],
   "source": [
    "people = DataFrame(np.random.randn(5, 5),columns=['a', 'b', 'c', 'd', 'e'],\\\n",
    "                   index=['Joe', 'Steve', 'Wes', 'Jim', 'Travis'])\n",
    "\n",
    "people.ix[2:3, ['b', 'c']] = np.nan # Add a few NA value\n",
    "\n",
    "# Custom grouping \n",
    "mapping = {'a': 'red', 'b': 'red', 'c': 'blue','d': 'blue', 'e': 'red', 'f' : 'orange'}\n",
    "by_column = people.groupby(mapping, axis=1)\n",
    "by_column.sum()\n",
    "\n",
    "# Counts!!!!\n",
    "people.groupby(mapping, axis=1).count()"
   ]
  },
  {
   "cell_type": "markdown",
   "metadata": {},
   "source": [
    "### Grouping with Functions"
   ]
  },
  {
   "cell_type": "code",
   "execution_count": 67,
   "metadata": {
    "collapsed": false
   },
   "outputs": [
    {
     "data": {
      "text/html": [
       "<div>\n",
       "<table border=\"1\" class=\"dataframe\">\n",
       "  <thead>\n",
       "    <tr style=\"text-align: right;\">\n",
       "      <th></th>\n",
       "      <th></th>\n",
       "      <th>a</th>\n",
       "      <th>b</th>\n",
       "      <th>c</th>\n",
       "      <th>d</th>\n",
       "      <th>e</th>\n",
       "    </tr>\n",
       "  </thead>\n",
       "  <tbody>\n",
       "    <tr>\n",
       "      <th rowspan=\"2\" valign=\"top\">3</th>\n",
       "      <th>one</th>\n",
       "      <td>-0.787208</td>\n",
       "      <td>-0.256314</td>\n",
       "      <td>1.802367</td>\n",
       "      <td>-0.660231</td>\n",
       "      <td>0.515696</td>\n",
       "    </tr>\n",
       "    <tr>\n",
       "      <th>two</th>\n",
       "      <td>-1.400835</td>\n",
       "      <td>-0.108482</td>\n",
       "      <td>1.132723</td>\n",
       "      <td>1.449876</td>\n",
       "      <td>0.527170</td>\n",
       "    </tr>\n",
       "    <tr>\n",
       "      <th>5</th>\n",
       "      <th>one</th>\n",
       "      <td>1.757622</td>\n",
       "      <td>-0.540316</td>\n",
       "      <td>0.531573</td>\n",
       "      <td>-0.369275</td>\n",
       "      <td>-0.361599</td>\n",
       "    </tr>\n",
       "    <tr>\n",
       "      <th>6</th>\n",
       "      <th>two</th>\n",
       "      <td>1.941148</td>\n",
       "      <td>0.786717</td>\n",
       "      <td>-0.324028</td>\n",
       "      <td>0.677945</td>\n",
       "      <td>-0.313325</td>\n",
       "    </tr>\n",
       "  </tbody>\n",
       "</table>\n",
       "</div>"
      ],
      "text/plain": [
       "              a         b         c         d         e\n",
       "3 one -0.787208 -0.256314  1.802367 -0.660231  0.515696\n",
       "  two -1.400835 -0.108482  1.132723  1.449876  0.527170\n",
       "5 one  1.757622 -0.540316  0.531573 -0.369275 -0.361599\n",
       "6 two  1.941148  0.786717 -0.324028  0.677945 -0.313325"
      ]
     },
     "execution_count": 67,
     "metadata": {},
     "output_type": "execute_result"
    }
   ],
   "source": [
    "#Suppose you wanted to group by the length of the names;\n",
    "people.groupby(len).sum()\n",
    "\n",
    "key_list = ['one', 'one', 'one', 'two', 'two']\n",
    "people.groupby([len, key_list]).min()"
   ]
  },
  {
   "cell_type": "markdown",
   "metadata": {},
   "source": [
    "### Grouping by Index Levels"
   ]
  },
  {
   "cell_type": "code",
   "execution_count": 73,
   "metadata": {
    "collapsed": false
   },
   "outputs": [
    {
     "data": {
      "text/html": [
       "<div>\n",
       "<table border=\"1\" class=\"dataframe\">\n",
       "  <thead>\n",
       "    <tr style=\"text-align: right;\">\n",
       "      <th>cty</th>\n",
       "      <th>JP</th>\n",
       "      <th>US</th>\n",
       "    </tr>\n",
       "  </thead>\n",
       "  <tbody>\n",
       "    <tr>\n",
       "      <th>0</th>\n",
       "      <td>2</td>\n",
       "      <td>3</td>\n",
       "    </tr>\n",
       "    <tr>\n",
       "      <th>1</th>\n",
       "      <td>2</td>\n",
       "      <td>3</td>\n",
       "    </tr>\n",
       "    <tr>\n",
       "      <th>2</th>\n",
       "      <td>2</td>\n",
       "      <td>3</td>\n",
       "    </tr>\n",
       "    <tr>\n",
       "      <th>3</th>\n",
       "      <td>2</td>\n",
       "      <td>3</td>\n",
       "    </tr>\n",
       "  </tbody>\n",
       "</table>\n",
       "</div>"
      ],
      "text/plain": [
       "cty  JP  US\n",
       "0     2   3\n",
       "1     2   3\n",
       "2     2   3\n",
       "3     2   3"
      ]
     },
     "execution_count": 73,
     "metadata": {},
     "output_type": "execute_result"
    }
   ],
   "source": [
    "columns = MultiIndex.from_arrays([['US', 'US', 'US', 'JP', 'JP'],[1, 3, 5, 1, 3]], names=['cty', 'tenor'])\n",
    "\n",
    "hier_df = DataFrame(np.random.randn(4, 5), columns=columns)\n",
    "\n",
    "hier_df.groupby(level='cty', axis=1).count()"
   ]
  },
  {
   "cell_type": "markdown",
   "metadata": {},
   "source": [
    "### Permutation and Random Sampling"
   ]
  },
  {
   "cell_type": "code",
   "execution_count": 78,
   "metadata": {
    "collapsed": false
   },
   "outputs": [
    {
     "data": {
      "text/html": [
       "<div>\n",
       "<table border=\"1\" class=\"dataframe\">\n",
       "  <thead>\n",
       "    <tr style=\"text-align: right;\">\n",
       "      <th></th>\n",
       "      <th>0</th>\n",
       "      <th>1</th>\n",
       "      <th>2</th>\n",
       "      <th>3</th>\n",
       "    </tr>\n",
       "  </thead>\n",
       "  <tbody>\n",
       "    <tr>\n",
       "      <th>0</th>\n",
       "      <td>0</td>\n",
       "      <td>1</td>\n",
       "      <td>2</td>\n",
       "      <td>3</td>\n",
       "    </tr>\n",
       "    <tr>\n",
       "      <th>3</th>\n",
       "      <td>12</td>\n",
       "      <td>13</td>\n",
       "      <td>14</td>\n",
       "      <td>15</td>\n",
       "    </tr>\n",
       "    <tr>\n",
       "      <th>1</th>\n",
       "      <td>4</td>\n",
       "      <td>5</td>\n",
       "      <td>6</td>\n",
       "      <td>7</td>\n",
       "    </tr>\n",
       "  </tbody>\n",
       "</table>\n",
       "</div>"
      ],
      "text/plain": [
       "    0   1   2   3\n",
       "0   0   1   2   3\n",
       "3  12  13  14  15\n",
       "1   4   5   6   7"
      ]
     },
     "execution_count": 78,
     "metadata": {},
     "output_type": "execute_result"
    }
   ],
   "source": [
    "df = DataFrame(np.arange(5 * 4).reshape(5, 4))\n",
    "\n",
    "# Random permutation\n",
    "\n",
    "sampler = np.random.permutation(5)\n",
    "\n",
    "# That array can then be used in ix-based indexing or the take function:\n",
    "\n",
    "df.take(sampler)\n",
    "\n",
    "df.take(np.random.permutation(len(df))[:3])"
   ]
  },
  {
   "cell_type": "markdown",
   "metadata": {
    "collapsed": true
   },
   "source": [
    "_______________________________-"
   ]
  },
  {
   "cell_type": "markdown",
   "metadata": {},
   "source": [
    "_______________________"
   ]
  },
  {
   "cell_type": "markdown",
   "metadata": {},
   "source": [
    "# Other Topics "
   ]
  },
  {
   "cell_type": "markdown",
   "metadata": {},
   "source": [
    "## Python Counter"
   ]
  },
  {
   "cell_type": "code",
   "execution_count": 38,
   "metadata": {
    "collapsed": false
   },
   "outputs": [],
   "source": [
    "from collections import Counter\n",
    "\n",
    "#Creat counter for countring numbers\n",
    "\n",
    "c = Counter() # Empty\n",
    "c = Counter('galland') # create from an iterable object\n",
    "c = Counter({'a':4,'b':2})\n",
    "c = Counter(a = 4, b = 2)\n",
    "\n",
    "#update\n",
    "\n",
    "c = Counter('which')\n",
    "c.update('witch')\n",
    "\n",
    "#c['h']\n",
    "\n",
    "c.subtract('twich')\n",
    "#c.subtract('hello') some elements have negative values\n",
    "\n",
    "\n",
    "## List elements\n",
    "list(c.elements())\n",
    "\n",
    "## Most common\n",
    "c.most_common(3)\n",
    "\n",
    "## Counter to list or to dic\n",
    "#list(c)\n",
    "#dict(c)\n",
    "\n",
    "# Other operations\n",
    "d = Counter('absolutely')\n",
    "# c-d\n",
    "# c | d\n",
    "# c & d"
   ]
  },
  {
   "cell_type": "markdown",
   "metadata": {},
   "source": [
    "## Read Files in a row"
   ]
  },
  {
   "cell_type": "code",
   "execution_count": 40,
   "metadata": {
    "collapsed": true
   },
   "outputs": [],
   "source": [
    "import os\n",
    "\n",
    "INPUT_FOLDER = 'C:/Users/heitangtang/Documents/names'\n",
    "\n",
    "#\n",
    "names = os.listdir(INPUT_FOLDER)"
   ]
  },
  {
   "cell_type": "markdown",
   "metadata": {},
   "source": [
    "-----------------------"
   ]
  },
  {
   "cell_type": "markdown",
   "metadata": {},
   "source": [
    "-----------------------"
   ]
  },
  {
   "cell_type": "markdown",
   "metadata": {},
   "source": [
    "# Examples"
   ]
  },
  {
   "cell_type": "markdown",
   "metadata": {},
   "source": [
    "# a. Spam Data "
   ]
  },
  {
   "cell_type": "code",
   "execution_count": 28,
   "metadata": {
    "collapsed": false,
    "scrolled": true
   },
   "outputs": [
    {
     "name": "stdout",
     "output_type": "stream",
     "text": [
      "[('to', 2142), ('you', 1598), ('a', 1337), ('the', 1206), ('I', 1074), ('and', 858), ('in', 795), ('u', 793), ('is', 781), ('i', 737)]\n"
     ]
    }
   ],
   "source": [
    "# Readin data\n",
    "from collections import Counter\n",
    "\n",
    "f = open('SMSspam.txt','r')\n",
    "c = Counter()\n",
    "\n",
    "i = 0\n",
    "for line in f.readlines():\n",
    "    i += 1\n",
    "    \n",
    "    c.update(line.split(' '))\n",
    "    #print(line.split(' '))\n",
    "\n",
    "print(c.most_common(10))\n",
    "\n",
    "# Pandas Approach doesn't work because the data is unstructed\n",
    "#from pandas import *\n",
    "#import numpy as np\n",
    "#data = np.loadtxt('SMSspam.txt',delimiter = ' ',dtype = 'str')\n"
   ]
  },
  {
   "cell_type": "code",
   "execution_count": 37,
   "metadata": {
    "collapsed": false
   },
   "outputs": [],
   "source": [
    "#sort \n",
    "dc = dict(c)\n",
    "sort_dc = sorted(dc.items(), key=lambda x: x[1],reverse = 1)"
   ]
  },
  {
   "cell_type": "markdown",
   "metadata": {},
   "source": [
    "## b. Baby names"
   ]
  },
  {
   "cell_type": "code",
   "execution_count": 74,
   "metadata": {
    "collapsed": false
   },
   "outputs": [
    {
     "data": {
      "text/plain": [
       "sex\n",
       "F     90993\n",
       "M    110493\n",
       "Name: births, dtype: int64"
      ]
     },
     "execution_count": 74,
     "metadata": {},
     "output_type": "execute_result"
    }
   ],
   "source": [
    "import os\n",
    "INPUT_FOLDER = 'C:/Users/heitangtang/Documents/names'\n",
    "paths = os.listdir(INPUT_FOLDER) \n",
    "\n",
    "Datadic = dict()\n",
    "\n",
    "\n",
    "## Readin Data\n",
    "from pandas import *\n",
    "\n",
    "for s in paths[1:]:\n",
    "    #print('current: ',s)\n",
    "    data = read_csv(INPUT_FOLDER + '/' + s, sep = ',', header = None,names=['name', 'sex', 'births'])\n",
    "    year = int(s[3:-4])\n",
    "    Datadic[year] = data\n",
    "    \n",
    "data = read_csv(INPUT_FOLDER + '/' + 'yob1882.txt', sep = ',', header = None)\n",
    "\n",
    "##Groupy\n",
    "names1880 = Datadic[1880]\n",
    "names1880.groupby('sex').sum()['births']"
   ]
  },
  {
   "cell_type": "code",
   "execution_count": 61,
   "metadata": {
    "collapsed": false
   },
   "outputs": [
    {
     "data": {
      "text/html": [
       "<div>\n",
       "<table border=\"1\" class=\"dataframe\">\n",
       "  <thead>\n",
       "    <tr style=\"text-align: right;\">\n",
       "      <th></th>\n",
       "      <th>name</th>\n",
       "      <th>sex</th>\n",
       "      <th>births</th>\n",
       "    </tr>\n",
       "  </thead>\n",
       "  <tbody>\n",
       "    <tr>\n",
       "      <th>0</th>\n",
       "      <td>Mary</td>\n",
       "      <td>F</td>\n",
       "      <td>7065</td>\n",
       "    </tr>\n",
       "    <tr>\n",
       "      <th>1</th>\n",
       "      <td>Anna</td>\n",
       "      <td>F</td>\n",
       "      <td>2604</td>\n",
       "    </tr>\n",
       "    <tr>\n",
       "      <th>2</th>\n",
       "      <td>Emma</td>\n",
       "      <td>F</td>\n",
       "      <td>2003</td>\n",
       "    </tr>\n",
       "    <tr>\n",
       "      <th>3</th>\n",
       "      <td>Elizabeth</td>\n",
       "      <td>F</td>\n",
       "      <td>1939</td>\n",
       "    </tr>\n",
       "    <tr>\n",
       "      <th>4</th>\n",
       "      <td>Minnie</td>\n",
       "      <td>F</td>\n",
       "      <td>1746</td>\n",
       "    </tr>\n",
       "    <tr>\n",
       "      <th>5</th>\n",
       "      <td>Margaret</td>\n",
       "      <td>F</td>\n",
       "      <td>1578</td>\n",
       "    </tr>\n",
       "    <tr>\n",
       "      <th>6</th>\n",
       "      <td>Ida</td>\n",
       "      <td>F</td>\n",
       "      <td>1472</td>\n",
       "    </tr>\n",
       "    <tr>\n",
       "      <th>7</th>\n",
       "      <td>Alice</td>\n",
       "      <td>F</td>\n",
       "      <td>1414</td>\n",
       "    </tr>\n",
       "    <tr>\n",
       "      <th>8</th>\n",
       "      <td>Bertha</td>\n",
       "      <td>F</td>\n",
       "      <td>1320</td>\n",
       "    </tr>\n",
       "    <tr>\n",
       "      <th>9</th>\n",
       "      <td>Sarah</td>\n",
       "      <td>F</td>\n",
       "      <td>1288</td>\n",
       "    </tr>\n",
       "    <tr>\n",
       "      <th>10</th>\n",
       "      <td>Annie</td>\n",
       "      <td>F</td>\n",
       "      <td>1258</td>\n",
       "    </tr>\n",
       "    <tr>\n",
       "      <th>11</th>\n",
       "      <td>Clara</td>\n",
       "      <td>F</td>\n",
       "      <td>1226</td>\n",
       "    </tr>\n",
       "    <tr>\n",
       "      <th>12</th>\n",
       "      <td>Ella</td>\n",
       "      <td>F</td>\n",
       "      <td>1156</td>\n",
       "    </tr>\n",
       "    <tr>\n",
       "      <th>13</th>\n",
       "      <td>Florence</td>\n",
       "      <td>F</td>\n",
       "      <td>1063</td>\n",
       "    </tr>\n",
       "    <tr>\n",
       "      <th>14</th>\n",
       "      <td>Cora</td>\n",
       "      <td>F</td>\n",
       "      <td>1045</td>\n",
       "    </tr>\n",
       "    <tr>\n",
       "      <th>15</th>\n",
       "      <td>Martha</td>\n",
       "      <td>F</td>\n",
       "      <td>1040</td>\n",
       "    </tr>\n",
       "    <tr>\n",
       "      <th>16</th>\n",
       "      <td>Laura</td>\n",
       "      <td>F</td>\n",
       "      <td>1012</td>\n",
       "    </tr>\n",
       "    <tr>\n",
       "      <th>17</th>\n",
       "      <td>Nellie</td>\n",
       "      <td>F</td>\n",
       "      <td>995</td>\n",
       "    </tr>\n",
       "    <tr>\n",
       "      <th>18</th>\n",
       "      <td>Grace</td>\n",
       "      <td>F</td>\n",
       "      <td>982</td>\n",
       "    </tr>\n",
       "    <tr>\n",
       "      <th>19</th>\n",
       "      <td>Carrie</td>\n",
       "      <td>F</td>\n",
       "      <td>949</td>\n",
       "    </tr>\n",
       "    <tr>\n",
       "      <th>20</th>\n",
       "      <td>Maude</td>\n",
       "      <td>F</td>\n",
       "      <td>858</td>\n",
       "    </tr>\n",
       "    <tr>\n",
       "      <th>21</th>\n",
       "      <td>Mabel</td>\n",
       "      <td>F</td>\n",
       "      <td>808</td>\n",
       "    </tr>\n",
       "    <tr>\n",
       "      <th>22</th>\n",
       "      <td>Bessie</td>\n",
       "      <td>F</td>\n",
       "      <td>794</td>\n",
       "    </tr>\n",
       "    <tr>\n",
       "      <th>23</th>\n",
       "      <td>Jennie</td>\n",
       "      <td>F</td>\n",
       "      <td>793</td>\n",
       "    </tr>\n",
       "    <tr>\n",
       "      <th>24</th>\n",
       "      <td>Gertrude</td>\n",
       "      <td>F</td>\n",
       "      <td>787</td>\n",
       "    </tr>\n",
       "    <tr>\n",
       "      <th>25</th>\n",
       "      <td>Julia</td>\n",
       "      <td>F</td>\n",
       "      <td>783</td>\n",
       "    </tr>\n",
       "    <tr>\n",
       "      <th>26</th>\n",
       "      <td>Hattie</td>\n",
       "      <td>F</td>\n",
       "      <td>769</td>\n",
       "    </tr>\n",
       "    <tr>\n",
       "      <th>27</th>\n",
       "      <td>Edith</td>\n",
       "      <td>F</td>\n",
       "      <td>768</td>\n",
       "    </tr>\n",
       "    <tr>\n",
       "      <th>28</th>\n",
       "      <td>Mattie</td>\n",
       "      <td>F</td>\n",
       "      <td>704</td>\n",
       "    </tr>\n",
       "    <tr>\n",
       "      <th>29</th>\n",
       "      <td>Rose</td>\n",
       "      <td>F</td>\n",
       "      <td>700</td>\n",
       "    </tr>\n",
       "    <tr>\n",
       "      <th>...</th>\n",
       "      <td>...</td>\n",
       "      <td>...</td>\n",
       "      <td>...</td>\n",
       "    </tr>\n",
       "    <tr>\n",
       "      <th>1970</th>\n",
       "      <td>Philo</td>\n",
       "      <td>M</td>\n",
       "      <td>5</td>\n",
       "    </tr>\n",
       "    <tr>\n",
       "      <th>1971</th>\n",
       "      <td>Phineas</td>\n",
       "      <td>M</td>\n",
       "      <td>5</td>\n",
       "    </tr>\n",
       "    <tr>\n",
       "      <th>1972</th>\n",
       "      <td>Presley</td>\n",
       "      <td>M</td>\n",
       "      <td>5</td>\n",
       "    </tr>\n",
       "    <tr>\n",
       "      <th>1973</th>\n",
       "      <td>Ransom</td>\n",
       "      <td>M</td>\n",
       "      <td>5</td>\n",
       "    </tr>\n",
       "    <tr>\n",
       "      <th>1974</th>\n",
       "      <td>Reece</td>\n",
       "      <td>M</td>\n",
       "      <td>5</td>\n",
       "    </tr>\n",
       "    <tr>\n",
       "      <th>1975</th>\n",
       "      <td>Rene</td>\n",
       "      <td>M</td>\n",
       "      <td>5</td>\n",
       "    </tr>\n",
       "    <tr>\n",
       "      <th>1976</th>\n",
       "      <td>Roswell</td>\n",
       "      <td>M</td>\n",
       "      <td>5</td>\n",
       "    </tr>\n",
       "    <tr>\n",
       "      <th>1977</th>\n",
       "      <td>Rowland</td>\n",
       "      <td>M</td>\n",
       "      <td>5</td>\n",
       "    </tr>\n",
       "    <tr>\n",
       "      <th>1978</th>\n",
       "      <td>Sampson</td>\n",
       "      <td>M</td>\n",
       "      <td>5</td>\n",
       "    </tr>\n",
       "    <tr>\n",
       "      <th>1979</th>\n",
       "      <td>Samual</td>\n",
       "      <td>M</td>\n",
       "      <td>5</td>\n",
       "    </tr>\n",
       "    <tr>\n",
       "      <th>1980</th>\n",
       "      <td>Santos</td>\n",
       "      <td>M</td>\n",
       "      <td>5</td>\n",
       "    </tr>\n",
       "    <tr>\n",
       "      <th>1981</th>\n",
       "      <td>Schuyler</td>\n",
       "      <td>M</td>\n",
       "      <td>5</td>\n",
       "    </tr>\n",
       "    <tr>\n",
       "      <th>1982</th>\n",
       "      <td>Sheppard</td>\n",
       "      <td>M</td>\n",
       "      <td>5</td>\n",
       "    </tr>\n",
       "    <tr>\n",
       "      <th>1983</th>\n",
       "      <td>Spurgeon</td>\n",
       "      <td>M</td>\n",
       "      <td>5</td>\n",
       "    </tr>\n",
       "    <tr>\n",
       "      <th>1984</th>\n",
       "      <td>Starling</td>\n",
       "      <td>M</td>\n",
       "      <td>5</td>\n",
       "    </tr>\n",
       "    <tr>\n",
       "      <th>1985</th>\n",
       "      <td>Sylvanus</td>\n",
       "      <td>M</td>\n",
       "      <td>5</td>\n",
       "    </tr>\n",
       "    <tr>\n",
       "      <th>1986</th>\n",
       "      <td>Theadore</td>\n",
       "      <td>M</td>\n",
       "      <td>5</td>\n",
       "    </tr>\n",
       "    <tr>\n",
       "      <th>1987</th>\n",
       "      <td>Theophile</td>\n",
       "      <td>M</td>\n",
       "      <td>5</td>\n",
       "    </tr>\n",
       "    <tr>\n",
       "      <th>1988</th>\n",
       "      <td>Tilmon</td>\n",
       "      <td>M</td>\n",
       "      <td>5</td>\n",
       "    </tr>\n",
       "    <tr>\n",
       "      <th>1989</th>\n",
       "      <td>Tommy</td>\n",
       "      <td>M</td>\n",
       "      <td>5</td>\n",
       "    </tr>\n",
       "    <tr>\n",
       "      <th>1990</th>\n",
       "      <td>Unknown</td>\n",
       "      <td>M</td>\n",
       "      <td>5</td>\n",
       "    </tr>\n",
       "    <tr>\n",
       "      <th>1991</th>\n",
       "      <td>Vann</td>\n",
       "      <td>M</td>\n",
       "      <td>5</td>\n",
       "    </tr>\n",
       "    <tr>\n",
       "      <th>1992</th>\n",
       "      <td>Wes</td>\n",
       "      <td>M</td>\n",
       "      <td>5</td>\n",
       "    </tr>\n",
       "    <tr>\n",
       "      <th>1993</th>\n",
       "      <td>Winston</td>\n",
       "      <td>M</td>\n",
       "      <td>5</td>\n",
       "    </tr>\n",
       "    <tr>\n",
       "      <th>1994</th>\n",
       "      <td>Wood</td>\n",
       "      <td>M</td>\n",
       "      <td>5</td>\n",
       "    </tr>\n",
       "    <tr>\n",
       "      <th>1995</th>\n",
       "      <td>Woodie</td>\n",
       "      <td>M</td>\n",
       "      <td>5</td>\n",
       "    </tr>\n",
       "    <tr>\n",
       "      <th>1996</th>\n",
       "      <td>Worthy</td>\n",
       "      <td>M</td>\n",
       "      <td>5</td>\n",
       "    </tr>\n",
       "    <tr>\n",
       "      <th>1997</th>\n",
       "      <td>Wright</td>\n",
       "      <td>M</td>\n",
       "      <td>5</td>\n",
       "    </tr>\n",
       "    <tr>\n",
       "      <th>1998</th>\n",
       "      <td>York</td>\n",
       "      <td>M</td>\n",
       "      <td>5</td>\n",
       "    </tr>\n",
       "    <tr>\n",
       "      <th>1999</th>\n",
       "      <td>Zachariah</td>\n",
       "      <td>M</td>\n",
       "      <td>5</td>\n",
       "    </tr>\n",
       "  </tbody>\n",
       "</table>\n",
       "<p>2000 rows × 3 columns</p>\n",
       "</div>"
      ],
      "text/plain": [
       "           name sex  births\n",
       "0          Mary   F    7065\n",
       "1          Anna   F    2604\n",
       "2          Emma   F    2003\n",
       "3     Elizabeth   F    1939\n",
       "4        Minnie   F    1746\n",
       "5      Margaret   F    1578\n",
       "6           Ida   F    1472\n",
       "7         Alice   F    1414\n",
       "8        Bertha   F    1320\n",
       "9         Sarah   F    1288\n",
       "10        Annie   F    1258\n",
       "11        Clara   F    1226\n",
       "12         Ella   F    1156\n",
       "13     Florence   F    1063\n",
       "14         Cora   F    1045\n",
       "15       Martha   F    1040\n",
       "16        Laura   F    1012\n",
       "17       Nellie   F     995\n",
       "18        Grace   F     982\n",
       "19       Carrie   F     949\n",
       "20        Maude   F     858\n",
       "21        Mabel   F     808\n",
       "22       Bessie   F     794\n",
       "23       Jennie   F     793\n",
       "24     Gertrude   F     787\n",
       "25        Julia   F     783\n",
       "26       Hattie   F     769\n",
       "27        Edith   F     768\n",
       "28       Mattie   F     704\n",
       "29         Rose   F     700\n",
       "...         ...  ..     ...\n",
       "1970      Philo   M       5\n",
       "1971    Phineas   M       5\n",
       "1972    Presley   M       5\n",
       "1973     Ransom   M       5\n",
       "1974      Reece   M       5\n",
       "1975       Rene   M       5\n",
       "1976    Roswell   M       5\n",
       "1977    Rowland   M       5\n",
       "1978    Sampson   M       5\n",
       "1979     Samual   M       5\n",
       "1980     Santos   M       5\n",
       "1981   Schuyler   M       5\n",
       "1982   Sheppard   M       5\n",
       "1983   Spurgeon   M       5\n",
       "1984   Starling   M       5\n",
       "1985   Sylvanus   M       5\n",
       "1986   Theadore   M       5\n",
       "1987  Theophile   M       5\n",
       "1988     Tilmon   M       5\n",
       "1989      Tommy   M       5\n",
       "1990    Unknown   M       5\n",
       "1991       Vann   M       5\n",
       "1992        Wes   M       5\n",
       "1993    Winston   M       5\n",
       "1994       Wood   M       5\n",
       "1995     Woodie   M       5\n",
       "1996     Worthy   M       5\n",
       "1997     Wright   M       5\n",
       "1998       York   M       5\n",
       "1999  Zachariah   M       5\n",
       "\n",
       "[2000 rows x 3 columns]"
      ]
     },
     "execution_count": 61,
     "metadata": {},
     "output_type": "execute_result"
    }
   ],
   "source": [
    "Datadic[1880]"
   ]
  },
  {
   "cell_type": "code",
   "execution_count": null,
   "metadata": {
    "collapsed": true
   },
   "outputs": [],
   "source": []
  }
 ],
 "metadata": {
  "anaconda-cloud": {},
  "kernelspec": {
   "display_name": "Python [conda root]",
   "language": "python",
   "name": "conda-root-py"
  },
  "language_info": {
   "codemirror_mode": {
    "name": "ipython",
    "version": 3
   },
   "file_extension": ".py",
   "mimetype": "text/x-python",
   "name": "python",
   "nbconvert_exporter": "python",
   "pygments_lexer": "ipython3",
   "version": "3.5.2"
  }
 },
 "nbformat": 4,
 "nbformat_minor": 1
}
