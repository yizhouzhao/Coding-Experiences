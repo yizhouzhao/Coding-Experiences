{
 "cells": [
  {
   "cell_type": "markdown",
   "metadata": {},
   "source": [
    "# Learning Data analysis with R\n",
    "\n",
    "Made by Yizhou\n",
    "\n",
    "References:\n",
    "\n",
    "1.Cheatsheet for dplyr and tidyr:https://www.rstudio.com/wp-content/uploads/2015/02/data-wrangling-cheatsheet.pdf\n",
    "\n",
    "2.Introduction to dyplr: https://cran.rstudio.com/web/packages/dplyr/vignettes/introduction.html"
   ]
  },
  {
   "cell_type": "markdown",
   "metadata": {},
   "source": [
    "# 1. dplyr"
   ]
  },
  {
   "cell_type": "code",
   "execution_count": 1,
   "metadata": {
    "collapsed": false
   },
   "outputs": [
    {
     "name": "stderr",
     "output_type": "stream",
     "text": [
      "\n",
      "Attaching package: 'dplyr'\n",
      "\n",
      "The following objects are masked from 'package:stats':\n",
      "\n",
      "    filter, lag\n",
      "\n",
      "The following objects are masked from 'package:base':\n",
      "\n",
      "    intersect, setdiff, setequal, union\n",
      "\n",
      "Warning message:\n",
      "\"package 'tidyr' was built under R version 3.3.2\""
     ]
    }
   ],
   "source": [
    "library(dplyr)\n",
    "library(tidyr)"
   ]
  },
  {
   "cell_type": "code",
   "execution_count": 2,
   "metadata": {
    "collapsed": false
   },
   "outputs": [
    {
     "data": {
      "text/html": [
       "<table>\n",
       "<thead><tr><th></th><th scope=col>Species</th><th scope=col>avg</th></tr></thead>\n",
       "<tbody>\n",
       "\t<tr><th scope=row>1</th><td>setosa</td><td>3.428 </td></tr>\n",
       "\t<tr><th scope=row>2</th><td>virginica</td><td>2.974    </td></tr>\n",
       "\t<tr><th scope=row>3</th><td>versicolor</td><td>2.77      </td></tr>\n",
       "</tbody>\n",
       "</table>\n"
      ],
      "text/latex": [
       "\\begin{tabular}{r|ll}\n",
       "  & Species & avg\\\\\n",
       "\\hline\n",
       "\t1 & setosa & 3.428 \\\\\n",
       "\t2 & virginica & 2.974    \\\\\n",
       "\t3 & versicolor & 2.77      \\\\\n",
       "\\end{tabular}\n"
      ],
      "text/plain": [
       "     Species   avg\n",
       "1     setosa 3.428\n",
       "2  virginica 2.974\n",
       "3 versicolor 2.770"
      ]
     },
     "metadata": {},
     "output_type": "display_data"
    }
   ],
   "source": [
    "# a quick example\n",
    "iris %>% group_by(Species) %>% summarise(avg = mean(Sepal.Width)) %>% arrange(desc(avg))"
   ]
  },
  {
   "cell_type": "code",
   "execution_count": 3,
   "metadata": {
    "collapsed": false
   },
   "outputs": [
    {
     "data": {
      "text/html": [
       "<table>\n",
       "<thead><tr><th></th><th scope=col>Sepal.Length</th><th scope=col>Sepal.Width</th><th scope=col>Petal.Length</th><th scope=col>Petal.Width</th><th scope=col>Species</th></tr></thead>\n",
       "<tbody>\n",
       "\t<tr><th scope=row>1</th><td>5.1   </td><td>3.5   </td><td>1.4   </td><td>0.2   </td><td>setosa</td></tr>\n",
       "\t<tr><th scope=row>2</th><td>4.9   </td><td>3     </td><td>1.4   </td><td>0.2   </td><td>setosa</td></tr>\n",
       "\t<tr><th scope=row>3</th><td>4.7   </td><td>3.2   </td><td>1.3   </td><td>0.2   </td><td>setosa</td></tr>\n",
       "\t<tr><th scope=row>4</th><td>4.6   </td><td>3.1   </td><td>1.5   </td><td>0.2   </td><td>setosa</td></tr>\n",
       "\t<tr><th scope=row>5</th><td>5     </td><td>3.6   </td><td>1.4   </td><td>0.2   </td><td>setosa</td></tr>\n",
       "</tbody>\n",
       "</table>\n"
      ],
      "text/latex": [
       "\\begin{tabular}{r|lllll}\n",
       "  & Sepal.Length & Sepal.Width & Petal.Length & Petal.Width & Species\\\\\n",
       "\\hline\n",
       "\t1 & 5.1    & 3.5    & 1.4    & 0.2    & setosa\\\\\n",
       "\t2 & 4.9    & 3      & 1.4    & 0.2    & setosa\\\\\n",
       "\t3 & 4.7    & 3.2    & 1.3    & 0.2    & setosa\\\\\n",
       "\t4 & 4.6    & 3.1    & 1.5    & 0.2    & setosa\\\\\n",
       "\t5 & 5      & 3.6    & 1.4    & 0.2    & setosa\\\\\n",
       "\\end{tabular}\n"
      ],
      "text/plain": [
       "  Sepal.Length Sepal.Width Petal.Length Petal.Width Species\n",
       "1          5.1         3.5          1.4         0.2  setosa\n",
       "2          4.9         3.0          1.4         0.2  setosa\n",
       "3          4.7         3.2          1.3         0.2  setosa\n",
       "4          4.6         3.1          1.5         0.2  setosa\n",
       "5          5.0         3.6          1.4         0.2  setosa"
      ]
     },
     "metadata": {},
     "output_type": "display_data"
    }
   ],
   "source": [
    "# Implement iris as an example\n",
    "head(iris,5)"
   ]
  },
  {
   "cell_type": "code",
   "execution_count": 4,
   "metadata": {
    "collapsed": false
   },
   "outputs": [
    {
     "data": {
      "text/html": [
       "<table>\n",
       "<thead><tr><th></th><th scope=col>Sepal.Length</th><th scope=col>Sepal.Width</th><th scope=col>Petal.Length</th><th scope=col>Petal.Width</th><th scope=col>Species</th></tr></thead>\n",
       "<tbody>\n",
       "\t<tr><th scope=row>1</th><td>5.1   </td><td>3.5   </td><td>1.4   </td><td>0.2   </td><td>setosa</td></tr>\n",
       "\t<tr><th scope=row>2</th><td>4.9   </td><td>3     </td><td>1.4   </td><td>0.2   </td><td>setosa</td></tr>\n",
       "\t<tr><th scope=row>3</th><td>4.7   </td><td>3.2   </td><td>1.3   </td><td>0.2   </td><td>setosa</td></tr>\n",
       "\t<tr><th scope=row>4</th><td>4.6   </td><td>3.1   </td><td>1.5   </td><td>0.2   </td><td>setosa</td></tr>\n",
       "\t<tr><th scope=row>5</th><td>5     </td><td>3.6   </td><td>1.4   </td><td>0.2   </td><td>setosa</td></tr>\n",
       "</tbody>\n",
       "</table>\n"
      ],
      "text/latex": [
       "\\begin{tabular}{r|lllll}\n",
       "  & Sepal.Length & Sepal.Width & Petal.Length & Petal.Width & Species\\\\\n",
       "\\hline\n",
       "\t1 & 5.1    & 3.5    & 1.4    & 0.2    & setosa\\\\\n",
       "\t2 & 4.9    & 3      & 1.4    & 0.2    & setosa\\\\\n",
       "\t3 & 4.7    & 3.2    & 1.3    & 0.2    & setosa\\\\\n",
       "\t4 & 4.6    & 3.1    & 1.5    & 0.2    & setosa\\\\\n",
       "\t5 & 5      & 3.6    & 1.4    & 0.2    & setosa\\\\\n",
       "\\end{tabular}\n"
      ],
      "text/plain": [
       "  Sepal.Length Sepal.Width Petal.Length Petal.Width Species\n",
       "1          5.1         3.5          1.4         0.2  setosa\n",
       "2          4.9         3.0          1.4         0.2  setosa\n",
       "3          4.7         3.2          1.3         0.2  setosa\n",
       "4          4.6         3.1          1.5         0.2  setosa\n",
       "5          5.0         3.6          1.4         0.2  setosa"
      ]
     },
     "metadata": {},
     "output_type": "display_data"
    }
   ],
   "source": [
    "# Group_by funciton group_by(data, variable)\n",
    "group_by(iris,Species) %>% head(5)"
   ]
  },
  {
   "cell_type": "code",
   "execution_count": 5,
   "metadata": {
    "collapsed": false
   },
   "outputs": [
    {
     "data": {
      "text/html": [
       "<table>\n",
       "<thead><tr><th></th><th scope=col>mean</th></tr></thead>\n",
       "<tbody>\n",
       "\t<tr><th scope=row>1</th><td>5.843333</td></tr>\n",
       "</tbody>\n",
       "</table>\n"
      ],
      "text/latex": [
       "\\begin{tabular}{r|l}\n",
       "  & mean\\\\\n",
       "\\hline\n",
       "\t1 & 5.843333\\\\\n",
       "\\end{tabular}\n"
      ],
      "text/plain": [
       "      mean\n",
       "1 5.843333"
      ]
     },
     "metadata": {},
     "output_type": "display_data"
    },
    {
     "data": {
      "text/html": [
       "<table>\n",
       "<thead><tr><th></th><th scope=col>Species</th><th scope=col>number</th></tr></thead>\n",
       "<tbody>\n",
       "\t<tr><th scope=row>1</th><td>setosa</td><td>50    </td></tr>\n",
       "\t<tr><th scope=row>2</th><td>versicolor</td><td>50        </td></tr>\n",
       "\t<tr><th scope=row>3</th><td>virginica</td><td>50       </td></tr>\n",
       "</tbody>\n",
       "</table>\n"
      ],
      "text/latex": [
       "\\begin{tabular}{r|ll}\n",
       "  & Species & number\\\\\n",
       "\\hline\n",
       "\t1 & setosa & 50    \\\\\n",
       "\t2 & versicolor & 50        \\\\\n",
       "\t3 & virginica & 50       \\\\\n",
       "\\end{tabular}\n"
      ],
      "text/plain": [
       "     Species number\n",
       "1     setosa     50\n",
       "2 versicolor     50\n",
       "3  virginica     50"
      ]
     },
     "metadata": {},
     "output_type": "display_data"
    }
   ],
   "source": [
    "# Summarise function summarise(data, function), apply the function to data to get a new column\n",
    "summarise(iris, mean = mean(Sepal.Length, na.rm = T))\n",
    "\n",
    "# summarise function is usually together with group_by function\n",
    "group_by(iris, Species) %>% summarise(number = n()) # n() for counting numbers"
   ]
  },
  {
   "cell_type": "markdown",
   "metadata": {},
   "source": [
    "## 1.1 view data"
   ]
  },
  {
   "cell_type": "code",
   "execution_count": 6,
   "metadata": {
    "collapsed": false
   },
   "outputs": [
    {
     "data": {
      "text/html": [
       "<table>\n",
       "<thead><tr><th></th><th scope=col>extra</th><th scope=col>group</th><th scope=col>ID</th></tr></thead>\n",
       "<tbody>\n",
       "\t<tr><th scope=row>1</th><td>0.7</td><td>1  </td><td>1  </td></tr>\n",
       "\t<tr><th scope=row>2</th><td>-1.6</td><td>1   </td><td>2   </td></tr>\n",
       "\t<tr><th scope=row>3</th><td>-0.2</td><td>1   </td><td>3   </td></tr>\n",
       "\t<tr><th scope=row>4</th><td>-1.2</td><td>1   </td><td>4   </td></tr>\n",
       "\t<tr><th scope=row>5</th><td>-0.1</td><td>1   </td><td>5   </td></tr>\n",
       "</tbody>\n",
       "</table>\n"
      ],
      "text/latex": [
       "\\begin{tabular}{r|lll}\n",
       "  & extra & group & ID\\\\\n",
       "\\hline\n",
       "\t1 & 0.7 & 1   & 1  \\\\\n",
       "\t2 & -1.6 & 1    & 2   \\\\\n",
       "\t3 & -0.2 & 1    & 3   \\\\\n",
       "\t4 & -1.2 & 1    & 4   \\\\\n",
       "\t5 & -0.1 & 1    & 5   \\\\\n",
       "\\end{tabular}\n"
      ],
      "text/plain": [
       "  extra group ID\n",
       "1   0.7     1  1\n",
       "2  -1.6     1  2\n",
       "3  -0.2     1  3\n",
       "4  -1.2     1  4\n",
       "5  -0.1     1  5"
      ]
     },
     "metadata": {},
     "output_type": "display_data"
    },
    {
     "name": "stdout",
     "output_type": "stream",
     "text": [
      "Observations: 153\n",
      "Variables: 6\n",
      "$ Ozone   (int) 41, 36, 12, 18, NA, 28, 23, 19, 8, NA, 7, 16, 11, 14, 18, 1...\n",
      "$ Solar.R (int) 190, 118, 149, 313, NA, NA, 299, 99, 19, 194, NA, 256, 290,...\n",
      "$ Wind    (dbl) 7.4, 8.0, 12.6, 11.5, 14.3, 14.9, 8.6, 13.8, 20.1, 8.6, 6.9...\n",
      "$ Temp    (int) 67, 72, 74, 62, 56, 66, 65, 59, 61, 69, 74, 69, 66, 68, 58,...\n",
      "$ Month   (int) 5, 5, 5, 5, 5, 5, 5, 5, 5, 5, 5, 5, 5, 5, 5, 5, 5, 5, 5, 5,...\n",
      "$ Day     (int) 1, 2, 3, 4, 5, 6, 7, 8, 9, 10, 11, 12, 13, 14, 15, 16, 17, ...\n"
     ]
    }
   ],
   "source": [
    "#dplyr::tbl_df(iris) Converts data to tbl class. tbl’s are easier to examine than\n",
    "#data frames. R displays only the data that fits onscreen:\n",
    "head(tbl_df(sleep),5)\n",
    "\n",
    "#glimpse for dataframe\n",
    "glimpse(airquality)\n",
    "\n",
    "#View\n",
    "#View(BOD)"
   ]
  },
  {
   "cell_type": "markdown",
   "metadata": {},
   "source": [
    "## 1.2 dplyr::%>%\n",
    "Passes object on lef hand side as first argument (or .argument) of function on righthand side.\n",
    "\n",
    "$x  \\%>\\%  \\ f(y)$ is the same as $f(x,y)$\n",
    "\n",
    "$y \\%>\\%\\ f(x,.,z)$ is equal to $f(x,y,z)$\n",
    "\n",
    "\"Piping\" with %>% makes code more readable, e.g. "
   ]
  },
  {
   "cell_type": "markdown",
   "metadata": {},
   "source": [
    "## 1.3 Reshaping & Arrange"
   ]
  },
  {
   "cell_type": "code",
   "execution_count": 7,
   "metadata": {
    "collapsed": false
   },
   "outputs": [
    {
     "data": {
      "text/html": [
       "<table>\n",
       "<thead><tr><th></th><th scope=col>time</th><th scope=col>X</th><th scope=col>Y</th><th scope=col>Z</th></tr></thead>\n",
       "<tbody>\n",
       "\t<tr><th scope=row>1</th><td> 1.424500e+04</td><td>-4.789795e-02</td><td>-3.689058e+00</td><td> 1.045326e+00</td></tr>\n",
       "\t<tr><th scope=row>2</th><td>14246.000000</td><td>    0.255403</td><td>   -1.448102</td><td>   -1.626245</td></tr>\n",
       "\t<tr><th scope=row>3</th><td>14247.0000000</td><td>   -0.4729769</td><td>   -1.4146575</td><td>   -3.3238242</td></tr>\n",
       "\t<tr><th scope=row>4</th><td>1.424800e+04</td><td>6.932302e-01</td><td>3.294761e+00</td><td>6.551871e+00</td></tr>\n",
       "\t<tr><th scope=row>5</th><td>14249.0000000</td><td>   -0.9242091</td><td>   -2.5658934</td><td>   -4.4170938</td></tr>\n",
       "</tbody>\n",
       "</table>\n"
      ],
      "text/latex": [
       "\\begin{tabular}{r|llll}\n",
       "  & time & X & Y & Z\\\\\n",
       "\\hline\n",
       "\t1 &  1.424500e+04 & -4.789795e-02 & -3.689058e+00 &  1.045326e+00\\\\\n",
       "\t2 & 14246.000000 &     0.255403 &    -1.448102 &    -1.626245\\\\\n",
       "\t3 & 14247.0000000 &    -0.4729769 &    -1.4146575 &    -3.3238242\\\\\n",
       "\t4 & 1.424800e+04 & 6.932302e-01 & 3.294761e+00 & 6.551871e+00\\\\\n",
       "\t5 & 14249.0000000 &    -0.9242091 &    -2.5658934 &    -4.4170938\\\\\n",
       "\\end{tabular}\n"
      ],
      "text/plain": [
       "        time           X         Y         Z\n",
       "1 2009-01-01 -0.04789795 -3.689058  1.045326\n",
       "2 2009-01-02  0.25540297 -1.448102 -1.626245\n",
       "3 2009-01-03 -0.47297691 -1.414657 -3.323824\n",
       "4 2009-01-04  0.69323018  3.294761  6.551871\n",
       "5 2009-01-05 -0.92420906 -2.565893 -4.417094"
      ]
     },
     "metadata": {},
     "output_type": "display_data"
    },
    {
     "data": {
      "text/html": [
       "<table>\n",
       "<thead><tr><th></th><th scope=col>stock</th><th scope=col>2009-01-01</th><th scope=col>2009-01-02</th><th scope=col>2009-01-03</th><th scope=col>2009-01-04</th><th scope=col>2009-01-05</th><th scope=col>2009-01-06</th><th scope=col>2009-01-07</th><th scope=col>2009-01-08</th><th scope=col>2009-01-09</th><th scope=col>2009-01-10</th></tr></thead>\n",
       "<tbody>\n",
       "\t<tr><th scope=row>1</th><td>X                  </td><td>-0.0478979476494534</td><td>0.255402974222878  </td><td>-0.472976906173219 </td><td>0.69323017817126   </td><td>-0.924209062866201 </td><td>0.855743801327515  </td><td>0.278406693477594  </td><td>0.4613715912397    </td><td>0.116748441992368  </td><td>-1.18111243291291  </td></tr>\n",
       "\t<tr><th scope=row>2</th><td>Y                </td><td>-3.68905837433897</td><td>-1.44810170922676</td><td>-1.41465745273741</td><td>3.29476074289083 </td><td>-2.56589341220051</td><td>-1.02753930484949</td><td>2.78724163125806 </td><td>3.24213829104457 </td><td>0.456105026348154</td><td>2.3742617546075  </td></tr>\n",
       "\t<tr><th scope=row>3</th><td>Z                 </td><td>1.04532644001592  </td><td>-1.62624473777103 </td><td>-3.32382422860613 </td><td>6.5518708305889   </td><td>-4.41709379564107 </td><td>-3.4551002191135  </td><td>2.37883333852925  </td><td>-4.03591435958333 </td><td>-5.7478773173331  </td><td>-0.775569272422492</td></tr>\n",
       "</tbody>\n",
       "</table>\n"
      ],
      "text/latex": [
       "\\begin{tabular}{r|lllllllllll}\n",
       "  & stock & 2009-01-01 & 2009-01-02 & 2009-01-03 & 2009-01-04 & 2009-01-05 & 2009-01-06 & 2009-01-07 & 2009-01-08 & 2009-01-09 & 2009-01-10\\\\\n",
       "\\hline\n",
       "\t1 & X                   & -0.0478979476494534 & 0.255402974222878   & -0.472976906173219  & 0.69323017817126    & -0.924209062866201  & 0.855743801327515   & 0.278406693477594   & 0.4613715912397     & 0.116748441992368   & -1.18111243291291  \\\\\n",
       "\t2 & Y                 & -3.68905837433897 & -1.44810170922676 & -1.41465745273741 & 3.29476074289083  & -2.56589341220051 & -1.02753930484949 & 2.78724163125806  & 3.24213829104457  & 0.456105026348154 & 2.3742617546075  \\\\\n",
       "\t3 & Z                  & 1.04532644001592   & -1.62624473777103  & -3.32382422860613  & 6.5518708305889    & -4.41709379564107  & -3.4551002191135   & 2.37883333852925   & -4.03591435958333  & -5.7478773173331   & -0.775569272422492\\\\\n",
       "\\end{tabular}\n"
      ],
      "text/plain": [
       "  stock  2009-01-01 2009-01-02 2009-01-03 2009-01-04 2009-01-05 2009-01-06\n",
       "1     X -0.04789795   0.255403 -0.4729769  0.6932302 -0.9242091  0.8557438\n",
       "2     Y -3.68905837  -1.448102 -1.4146575  3.2947607 -2.5658934 -1.0275393\n",
       "3     Z  1.04532644  -1.626245 -3.3238242  6.5518708 -4.4170938 -3.4551002\n",
       "  2009-01-07 2009-01-08 2009-01-09 2009-01-10\n",
       "1  0.2784067  0.4613716  0.1167484 -1.1811124\n",
       "2  2.7872416  3.2421383  0.4561050  2.3742618\n",
       "3  2.3788333 -4.0359144 -5.7478773 -0.7755693"
      ]
     },
     "metadata": {},
     "output_type": "display_data"
    }
   ],
   "source": [
    "# Gather and spread\n",
    "stocks <- data.frame(\n",
    "  time = as.Date('2009-01-01') + 0:9,\n",
    "  X = rnorm(10, 0, 1),\n",
    "  Y = rnorm(10, 0, 2),\n",
    "  Z = rnorm(10, 0, 4)\n",
    ")\n",
    "stocksm <- stocks %>% gather(stock, price, -time)\n",
    "stocksm %>% spread(stock, price) %>% head(5)\n",
    "stocksm %>% spread(time, price) %>% head(5)\n"
   ]
  },
  {
   "cell_type": "code",
   "execution_count": 8,
   "metadata": {
    "collapsed": false
   },
   "outputs": [
    {
     "data": {
      "text/html": [
       "<table>\n",
       "<thead><tr><th></th><th scope=col>Sepal_Length_Width</th><th scope=col>Petal.Length</th><th scope=col>Petal.Width</th><th scope=col>Species</th></tr></thead>\n",
       "<tbody>\n",
       "\t<tr><th scope=row>1</th><td>5.1,3.5</td><td>1.4    </td><td>0.2    </td><td>setosa </td></tr>\n",
       "\t<tr><th scope=row>2</th><td>4.9,3 </td><td>1.4   </td><td>0.2   </td><td>setosa</td></tr>\n",
       "\t<tr><th scope=row>3</th><td>4.7,3.2</td><td>1.3    </td><td>0.2    </td><td>setosa </td></tr>\n",
       "\t<tr><th scope=row>4</th><td>4.6,3.1</td><td>1.5    </td><td>0.2    </td><td>setosa </td></tr>\n",
       "\t<tr><th scope=row>5</th><td>5,3.6 </td><td>1.4   </td><td>0.2   </td><td>setosa</td></tr>\n",
       "\t<tr><th scope=row>6</th><td>5.4,3.9</td><td>1.7    </td><td>0.4    </td><td>setosa </td></tr>\n",
       "</tbody>\n",
       "</table>\n"
      ],
      "text/latex": [
       "\\begin{tabular}{r|llll}\n",
       "  & Sepal\\_Length\\_Width & Petal.Length & Petal.Width & Species\\\\\n",
       "\\hline\n",
       "\t1 & 5.1,3.5 & 1.4     & 0.2     & setosa \\\\\n",
       "\t2 & 4.9,3  & 1.4    & 0.2    & setosa\\\\\n",
       "\t3 & 4.7,3.2 & 1.3     & 0.2     & setosa \\\\\n",
       "\t4 & 4.6,3.1 & 1.5     & 0.2     & setosa \\\\\n",
       "\t5 & 5,3.6  & 1.4    & 0.2    & setosa\\\\\n",
       "\t6 & 5.4,3.9 & 1.7     & 0.4     & setosa \\\\\n",
       "\\end{tabular}\n"
      ],
      "text/plain": [
       "  Sepal_Length_Width Petal.Length Petal.Width Species\n",
       "1            5.1,3.5          1.4         0.2  setosa\n",
       "2              4.9,3          1.4         0.2  setosa\n",
       "3            4.7,3.2          1.3         0.2  setosa\n",
       "4            4.6,3.1          1.5         0.2  setosa\n",
       "5              5,3.6          1.4         0.2  setosa\n",
       "6            5.4,3.9          1.7         0.4  setosa"
      ]
     },
     "metadata": {},
     "output_type": "display_data"
    },
    {
     "data": {
      "text/html": [
       "<table>\n",
       "<thead><tr><th></th><th scope=col>A</th><th scope=col>B</th><th scope=col>Petal.Length</th><th scope=col>Petal.Width</th><th scope=col>Species</th></tr></thead>\n",
       "<tbody>\n",
       "\t<tr><th scope=row>1</th><td>5.1   </td><td>3.5   </td><td>1.4   </td><td>0.2   </td><td>setosa</td></tr>\n",
       "\t<tr><th scope=row>2</th><td>4.9   </td><td>3     </td><td>1.4   </td><td>0.2   </td><td>setosa</td></tr>\n",
       "\t<tr><th scope=row>3</th><td>4.7   </td><td>3.2   </td><td>1.3   </td><td>0.2   </td><td>setosa</td></tr>\n",
       "\t<tr><th scope=row>4</th><td>4.6   </td><td>3.1   </td><td>1.5   </td><td>0.2   </td><td>setosa</td></tr>\n",
       "\t<tr><th scope=row>5</th><td>5     </td><td>3.6   </td><td>1.4   </td><td>0.2   </td><td>setosa</td></tr>\n",
       "\t<tr><th scope=row>6</th><td>5.4   </td><td>3.9   </td><td>1.7   </td><td>0.4   </td><td>setosa</td></tr>\n",
       "</tbody>\n",
       "</table>\n"
      ],
      "text/latex": [
       "\\begin{tabular}{r|lllll}\n",
       "  & A & B & Petal.Length & Petal.Width & Species\\\\\n",
       "\\hline\n",
       "\t1 & 5.1    & 3.5    & 1.4    & 0.2    & setosa\\\\\n",
       "\t2 & 4.9    & 3      & 1.4    & 0.2    & setosa\\\\\n",
       "\t3 & 4.7    & 3.2    & 1.3    & 0.2    & setosa\\\\\n",
       "\t4 & 4.6    & 3.1    & 1.5    & 0.2    & setosa\\\\\n",
       "\t5 & 5      & 3.6    & 1.4    & 0.2    & setosa\\\\\n",
       "\t6 & 5.4    & 3.9    & 1.7    & 0.4    & setosa\\\\\n",
       "\\end{tabular}\n"
      ],
      "text/plain": [
       "    A   B Petal.Length Petal.Width Species\n",
       "1 5.1 3.5          1.4         0.2  setosa\n",
       "2 4.9   3          1.4         0.2  setosa\n",
       "3 4.7 3.2          1.3         0.2  setosa\n",
       "4 4.6 3.1          1.5         0.2  setosa\n",
       "5   5 3.6          1.4         0.2  setosa\n",
       "6 5.4 3.9          1.7         0.4  setosa"
      ]
     },
     "metadata": {},
     "output_type": "display_data"
    }
   ],
   "source": [
    "#separate and unite, unite(data, name, c(colums))\n",
    "niris = tidyr::unite(iris,\"Sepal_Length_Width\",Sepal.Length,Sepal.Width,sep = \",\")\n",
    "head(niris)\n",
    "\n",
    "#separate(data, col, into, sep = \"[^[:alnum:]]+\"\n",
    "head(tidyr::separate(niris,\"Sepal_Length_Width\",c(\"A\",\"B\"),sep = \",\"))"
   ]
  },
  {
   "cell_type": "code",
   "execution_count": 9,
   "metadata": {
    "collapsed": false
   },
   "outputs": [
    {
     "data": {
      "text/plain": [
       "  agegp  alcgp    tobgp ncases ncontrols\n",
       "1 25-34 80-119    10-19      0         1\n",
       "2 25-34   120+ 0-9g/day      0         1\n",
       "3 25-34   120+    10-19      1         1\n",
       "4 25-34   120+    20-29      0         1\n",
       "5 35-44 80-119      30+      0         1"
      ]
     },
     "metadata": {},
     "output_type": "display_data"
    }
   ],
   "source": [
    "# arrange according to a certain column\n",
    "# dplyr::arrange(data, desc(column))\n",
    "head(arrange(esoph,ncontrols),5)\n",
    "\n",
    "# dplyr::rename(data,name = newname)"
   ]
  },
  {
   "cell_type": "markdown",
   "metadata": {},
   "source": [
    "## 1.4  Subset and Sampling"
   ]
  },
  {
   "cell_type": "code",
   "execution_count": 10,
   "metadata": {
    "collapsed": false
   },
   "outputs": [
    {
     "data": {
      "text/html": [
       "<table>\n",
       "<thead><tr><th></th><th scope=col>Sepal.Width</th><th scope=col>Petal.Length</th></tr></thead>\n",
       "<tbody>\n",
       "\t<tr><th scope=row>1</th><td>3.4</td><td>1.5</td></tr>\n",
       "\t<tr><th scope=row>2</th><td>2.9</td><td>1.4</td></tr>\n",
       "\t<tr><th scope=row>3</th><td>3.1</td><td>1.5</td></tr>\n",
       "</tbody>\n",
       "</table>\n"
      ],
      "text/latex": [
       "\\begin{tabular}{r|ll}\n",
       "  & Sepal.Width & Petal.Length\\\\\n",
       "\\hline\n",
       "\t1 & 3.4 & 1.5\\\\\n",
       "\t2 & 2.9 & 1.4\\\\\n",
       "\t3 & 3.1 & 1.5\\\\\n",
       "\\end{tabular}\n"
      ],
      "text/plain": [
       "  Sepal.Width Petal.Length\n",
       "1         3.4          1.5\n",
       "2         2.9          1.4\n",
       "3         3.1          1.5"
      ]
     },
     "metadata": {},
     "output_type": "display_data"
    },
    {
     "data": {
      "text/html": [
       "<table>\n",
       "<thead><tr><th></th><th scope=col>Sepal.Length</th><th scope=col>Sepal.Width</th><th scope=col>Petal.Length</th><th scope=col>Petal.Width</th><th scope=col>Species</th></tr></thead>\n",
       "<tbody>\n",
       "\t<tr><th scope=row>1</th><td>5.7   </td><td>4.4   </td><td>1.5   </td><td>0.4   </td><td>setosa</td></tr>\n",
       "\t<tr><th scope=row>2</th><td>5.2   </td><td>4.1   </td><td>1.5   </td><td>0.1   </td><td>setosa</td></tr>\n",
       "\t<tr><th scope=row>3</th><td>5.5   </td><td>4.2   </td><td>1.4   </td><td>0.2   </td><td>setosa</td></tr>\n",
       "</tbody>\n",
       "</table>\n"
      ],
      "text/latex": [
       "\\begin{tabular}{r|lllll}\n",
       "  & Sepal.Length & Sepal.Width & Petal.Length & Petal.Width & Species\\\\\n",
       "\\hline\n",
       "\t1 & 5.7    & 4.4    & 1.5    & 0.4    & setosa\\\\\n",
       "\t2 & 5.2    & 4.1    & 1.5    & 0.1    & setosa\\\\\n",
       "\t3 & 5.5    & 4.2    & 1.4    & 0.2    & setosa\\\\\n",
       "\\end{tabular}\n"
      ],
      "text/plain": [
       "  Sepal.Length Sepal.Width Petal.Length Petal.Width Species\n",
       "1          5.7         4.4          1.5         0.4  setosa\n",
       "2          5.2         4.1          1.5         0.1  setosa\n",
       "3          5.5         4.2          1.4         0.2  setosa"
      ]
     },
     "metadata": {},
     "output_type": "display_data"
    }
   ],
   "source": [
    "#dplyr::slice(data, a:b) to select rows by position.\n",
    "slice(iris[c(2,3)],8:10)\n",
    "\n",
    "#dplyr::top_n(data, num, column) Select and order top n entries (by group if grouped data).\n",
    "top_n(iris,3,Sepal.Width)"
   ]
  },
  {
   "cell_type": "code",
   "execution_count": 11,
   "metadata": {
    "collapsed": false
   },
   "outputs": [
    {
     "data": {
      "text/html": [
       "<table>\n",
       "<thead><tr><th></th><th scope=col>Time</th><th scope=col>demand</th></tr></thead>\n",
       "<tbody>\n",
       "\t<tr><th scope=row>1</th><td> 4</td><td>16</td></tr>\n",
       "\t<tr><th scope=row>2</th><td> 5.0</td><td>15.6</td></tr>\n",
       "</tbody>\n",
       "</table>\n"
      ],
      "text/latex": [
       "\\begin{tabular}{r|ll}\n",
       "  & Time & demand\\\\\n",
       "\\hline\n",
       "\t1 &  4 & 16\\\\\n",
       "\t2 &  5.0 & 15.6\\\\\n",
       "\\end{tabular}\n"
      ],
      "text/plain": [
       "  Time demand\n",
       "1    4   16.0\n",
       "2    5   15.6"
      ]
     },
     "metadata": {},
     "output_type": "display_data"
    }
   ],
   "source": [
    "#dplyr::filter to choose the subset by a certain criterion\n",
    "BOD %>% filter(demand > mean(demand) & demand < 18)"
   ]
  },
  {
   "cell_type": "code",
   "execution_count": 12,
   "metadata": {
    "collapsed": false
   },
   "outputs": [
    {
     "data": {
      "text/html": [
       "<table>\n",
       "<thead><tr><th></th><th scope=col>Sepal.Length</th><th scope=col>Sepal.Width</th><th scope=col>Petal.Length</th><th scope=col>Petal.Width</th><th scope=col>Species</th></tr></thead>\n",
       "<tbody>\n",
       "\t<tr><th scope=row>1</th><td>5.1   </td><td>3.5   </td><td>1.4   </td><td>0.2   </td><td>setosa</td></tr>\n",
       "\t<tr><th scope=row>2</th><td>4.9   </td><td>3     </td><td>1.4   </td><td>0.2   </td><td>setosa</td></tr>\n",
       "\t<tr><th scope=row>3</th><td>4.7   </td><td>3.2   </td><td>1.3   </td><td>0.2   </td><td>setosa</td></tr>\n",
       "\t<tr><th scope=row>4</th><td>4.6   </td><td>3.1   </td><td>1.5   </td><td>0.2   </td><td>setosa</td></tr>\n",
       "\t<tr><th scope=row>5</th><td>5     </td><td>3.6   </td><td>1.4   </td><td>0.2   </td><td>setosa</td></tr>\n",
       "</tbody>\n",
       "</table>\n"
      ],
      "text/latex": [
       "\\begin{tabular}{r|lllll}\n",
       "  & Sepal.Length & Sepal.Width & Petal.Length & Petal.Width & Species\\\\\n",
       "\\hline\n",
       "\t1 & 5.1    & 3.5    & 1.4    & 0.2    & setosa\\\\\n",
       "\t2 & 4.9    & 3      & 1.4    & 0.2    & setosa\\\\\n",
       "\t3 & 4.7    & 3.2    & 1.3    & 0.2    & setosa\\\\\n",
       "\t4 & 4.6    & 3.1    & 1.5    & 0.2    & setosa\\\\\n",
       "\t5 & 5      & 3.6    & 1.4    & 0.2    & setosa\\\\\n",
       "\\end{tabular}\n"
      ],
      "text/plain": [
       "  Sepal.Length Sepal.Width Petal.Length Petal.Width Species\n",
       "1          5.1         3.5          1.4         0.2  setosa\n",
       "2          4.9         3.0          1.4         0.2  setosa\n",
       "3          4.7         3.2          1.3         0.2  setosa\n",
       "4          4.6         3.1          1.5         0.2  setosa\n",
       "5          5.0         3.6          1.4         0.2  setosa"
      ]
     },
     "metadata": {},
     "output_type": "display_data"
    },
    {
     "data": {
      "text/html": [
       "<table>\n",
       "<thead><tr><th></th><th scope=col>conc</th><th scope=col>rate</th><th scope=col>state</th></tr></thead>\n",
       "<tbody>\n",
       "\t<tr><th scope=row>1</th><td>0.02   </td><td>76     </td><td>treated</td></tr>\n",
       "\t<tr><th scope=row>2</th><td>0.02     </td><td>67       </td><td>untreated</td></tr>\n",
       "</tbody>\n",
       "</table>\n"
      ],
      "text/latex": [
       "\\begin{tabular}{r|lll}\n",
       "  & conc & rate & state\\\\\n",
       "\\hline\n",
       "\t1 & 0.02    & 76      & treated\\\\\n",
       "\t2 & 0.02      & 67        & untreated\\\\\n",
       "\\end{tabular}\n"
      ],
      "text/plain": [
       "  conc rate     state\n",
       "1 0.02   76   treated\n",
       "2 0.02   67 untreated"
      ]
     },
     "metadata": {},
     "output_type": "display_data"
    }
   ],
   "source": [
    "#dplyr::distinct to subset the distinct values\n",
    "distinct(iris) %>% head(5)\n",
    "distinct(Puromycin, state)"
   ]
  },
  {
   "cell_type": "code",
   "execution_count": 13,
   "metadata": {
    "collapsed": false
   },
   "outputs": [
    {
     "data": {
      "text/html": [
       "<table>\n",
       "<thead><tr><th></th><th scope=col>lat</th><th scope=col>long</th><th scope=col>depth</th><th scope=col>mag</th><th scope=col>stations</th></tr></thead>\n",
       "<tbody>\n",
       "\t<tr><th scope=row>405</th><td>-15.7</td><td>184.5</td><td>118.0</td><td>  4.4</td><td> 30.0</td></tr>\n",
       "\t<tr><th scope=row>141</th><td>-12.66</td><td>169.46</td><td>658.00</td><td>  4.60</td><td> 43.00</td></tr>\n",
       "\t<tr><th scope=row>447</th><td>-15.72</td><td>185.64</td><td>138.00</td><td>  4.30</td><td> 21.00</td></tr>\n",
       "\t<tr><th scope=row>800</th><td>-18.11</td><td>181.63</td><td>568.00</td><td>  4.30</td><td> 36.00</td></tr>\n",
       "\t<tr><th scope=row>818</th><td>-16.21</td><td>186.52</td><td>111.00</td><td>  4.80</td><td> 30.00</td></tr>\n",
       "</tbody>\n",
       "</table>\n"
      ],
      "text/latex": [
       "\\begin{tabular}{r|lllll}\n",
       "  & lat & long & depth & mag & stations\\\\\n",
       "\\hline\n",
       "\t405 & -15.7 & 184.5 & 118.0 &   4.4 &  30.0\\\\\n",
       "\t141 & -12.66 & 169.46 & 658.00 &   4.60 &  43.00\\\\\n",
       "\t447 & -15.72 & 185.64 & 138.00 &   4.30 &  21.00\\\\\n",
       "\t800 & -18.11 & 181.63 & 568.00 &   4.30 &  36.00\\\\\n",
       "\t818 & -16.21 & 186.52 & 111.00 &   4.80 &  30.00\\\\\n",
       "\\end{tabular}\n"
      ],
      "text/plain": [
       "       lat   long depth mag stations\n",
       "405 -15.70 184.50   118 4.4       30\n",
       "141 -12.66 169.46   658 4.6       43\n",
       "447 -15.72 185.64   138 4.3       21\n",
       "800 -18.11 181.63   568 4.3       36\n",
       "818 -16.21 186.52   111 4.8       30"
      ]
     },
     "metadata": {},
     "output_type": "display_data"
    },
    {
     "data": {
      "text/html": [
       "<table>\n",
       "<thead><tr><th></th><th scope=col>lat</th><th scope=col>long</th><th scope=col>depth</th><th scope=col>mag</th><th scope=col>stations</th></tr></thead>\n",
       "<tbody>\n",
       "\t<tr><th scope=row>42</th><td>-15.31</td><td>186.10</td><td> 96.00</td><td>  4.60</td><td> 32.00</td></tr>\n",
       "\t<tr><th scope=row>614</th><td>-19.60</td><td>181.87</td><td>597.00</td><td>  4.20</td><td> 18.00</td></tr>\n",
       "\t<tr><th scope=row>236</th><td>-23.54</td><td>179.93</td><td>574.00</td><td>  4.00</td><td> 12.00</td></tr>\n",
       "\t<tr><th scope=row>853</th><td>-15.18</td><td>167.23</td><td> 71.00</td><td>  5.20</td><td> 59.00</td></tr>\n",
       "\t<tr><th scope=row>698</th><td>-15.43</td><td>185.19</td><td>249.00</td><td>  4.00</td><td> 11.00</td></tr>\n",
       "</tbody>\n",
       "</table>\n"
      ],
      "text/latex": [
       "\\begin{tabular}{r|lllll}\n",
       "  & lat & long & depth & mag & stations\\\\\n",
       "\\hline\n",
       "\t42 & -15.31 & 186.10 &  96.00 &   4.60 &  32.00\\\\\n",
       "\t614 & -19.60 & 181.87 & 597.00 &   4.20 &  18.00\\\\\n",
       "\t236 & -23.54 & 179.93 & 574.00 &   4.00 &  12.00\\\\\n",
       "\t853 & -15.18 & 167.23 &  71.00 &   5.20 &  59.00\\\\\n",
       "\t698 & -15.43 & 185.19 & 249.00 &   4.00 &  11.00\\\\\n",
       "\\end{tabular}\n"
      ],
      "text/plain": [
       "       lat   long depth mag stations\n",
       "42  -15.31 186.10    96 4.6       32\n",
       "614 -19.60 181.87   597 4.2       18\n",
       "236 -23.54 179.93   574 4.0       12\n",
       "853 -15.18 167.23    71 5.2       59\n",
       "698 -15.43 185.19   249 4.0       11"
      ]
     },
     "metadata": {},
     "output_type": "display_data"
    }
   ],
   "source": [
    "#dplyr::sample_frac(iris, 0.5, replace = TRUE) Randomly select fraction of rows.\n",
    "sample_frac(quakes,0.3,T) %>% head(5)\n",
    "\n",
    "#dplyr::sample_n(iris, 10, replace = TRUE) Randomly select n rows. \n",
    "sample_n(quakes,5,T)\n"
   ]
  },
  {
   "cell_type": "code",
   "execution_count": 14,
   "metadata": {
    "collapsed": false
   },
   "outputs": [],
   "source": [
    "#dplyr::select(data,...) to select columns by name or helper function.\n",
    "\n",
    "#select(iris, contains(\".\")) # Select columns whose name contains a character string.  \n",
    "#select(iris, ends_with(\"Length\")) #Select columns whose name ends with a character string. \n",
    "#select(iris, everything())\n",
    "#select(iris, matches(\".t.\"))\n",
    "#select(iris, num_range(\"x\", 1:5)) #Select columns named x1, x2, x3, x4, x5. \n",
    "\n",
    "#select(iris, one_of(c(\"Species\", \"Genus\")))#Select columns whose names are in a group of names.\n",
    "#select(iris, starts_with(\"Sepal\")) #Select columns whose name starts with a character string.\n",
    "#select(iris, Sepal.Length:Petal.Width) #Select all columns between Sepal.Length and Petal.Width (inclusive).\n",
    "#select(iris, -Species) #Select all columns except Species. "
   ]
  },
  {
   "cell_type": "markdown",
   "metadata": {},
   "source": [
    "## 1.5 Summarise and Group by "
   ]
  },
  {
   "cell_type": "code",
   "execution_count": 15,
   "metadata": {
    "collapsed": false
   },
   "outputs": [
    {
     "data": {
      "text/html": [
       "<table>\n",
       "<thead><tr><th></th><th scope=col>avg</th></tr></thead>\n",
       "<tbody>\n",
       "\t<tr><th scope=row>1</th><td>5.843333</td></tr>\n",
       "</tbody>\n",
       "</table>\n"
      ],
      "text/latex": [
       "\\begin{tabular}{r|l}\n",
       "  & avg\\\\\n",
       "\\hline\n",
       "\t1 & 5.843333\\\\\n",
       "\\end{tabular}\n"
      ],
      "text/plain": [
       "       avg\n",
       "1 5.843333"
      ]
     },
     "metadata": {},
     "output_type": "display_data"
    },
    {
     "name": "stderr",
     "output_type": "stream",
     "text": [
      "Warning message in mean.default(structure(c(1L, 1L, 1L, 1L, 1L, 1L, 1L, 1L, 1L, :\n",
      "\"argument is not numeric or logical: returning NA\""
     ]
    },
    {
     "data": {
      "text/html": [
       "<table>\n",
       "<thead><tr><th></th><th scope=col>Sepal.Length</th><th scope=col>Sepal.Width</th><th scope=col>Petal.Length</th><th scope=col>Petal.Width</th><th scope=col>Species</th></tr></thead>\n",
       "<tbody>\n",
       "\t<tr><th scope=row>1</th><td>5.843333</td><td>3.057333</td><td>3.758000</td><td>1.199333</td><td>      NA</td></tr>\n",
       "</tbody>\n",
       "</table>\n"
      ],
      "text/latex": [
       "\\begin{tabular}{r|lllll}\n",
       "  & Sepal.Length & Sepal.Width & Petal.Length & Petal.Width & Species\\\\\n",
       "\\hline\n",
       "\t1 & 5.843333 & 3.057333 & 3.758000 & 1.199333 &       NA\\\\\n",
       "\\end{tabular}\n"
      ],
      "text/plain": [
       "  Sepal.Length Sepal.Width Petal.Length Petal.Width Species\n",
       "1     5.843333    3.057333        3.758    1.199333      NA"
      ]
     },
     "metadata": {},
     "output_type": "display_data"
    }
   ],
   "source": [
    "# summarise(data, name = func()) to get the information by a function \n",
    "dplyr::summarise(iris, avg = mean(Sepal.Length))\n",
    "\n",
    "#dplyr::summarise_each(data, function) to apply summary function to each column. \n",
    "summarise_each(iris, funs(mean))"
   ]
  },
  {
   "cell_type": "code",
   "execution_count": 16,
   "metadata": {
    "collapsed": false
   },
   "outputs": [
    {
     "data": {
      "text/html": [
       "<table>\n",
       "<thead><tr><th></th><th scope=col>Species</th><th scope=col>n</th></tr></thead>\n",
       "<tbody>\n",
       "\t<tr><th scope=row>1</th><td>setosa</td><td>250.3 </td></tr>\n",
       "\t<tr><th scope=row>2</th><td>versicolor</td><td>296.8     </td></tr>\n",
       "\t<tr><th scope=row>3</th><td>virginica</td><td>329.4    </td></tr>\n",
       "</tbody>\n",
       "</table>\n"
      ],
      "text/latex": [
       "\\begin{tabular}{r|ll}\n",
       "  & Species & n\\\\\n",
       "\\hline\n",
       "\t1 & setosa & 250.3 \\\\\n",
       "\t2 & versicolor & 296.8     \\\\\n",
       "\t3 & virginica & 329.4    \\\\\n",
       "\\end{tabular}\n"
      ],
      "text/plain": [
       "     Species     n\n",
       "1     setosa 250.3\n",
       "2 versicolor 296.8\n",
       "3  virginica 329.4"
      ]
     },
     "metadata": {},
     "output_type": "display_data"
    }
   ],
   "source": [
    "# dplyr::count(data,column, weight) to count number of rows with each unique value of\n",
    "# variable (with or without weights).\n",
    "\n",
    "count(iris, Species,wt = Sepal.Length)"
   ]
  },
  {
   "cell_type": "markdown",
   "metadata": {},
   "source": [
    "### Dplyr Functions:\n",
    "dyplr::\n",
    "\n",
    "|name|description|\n",
    "|---|---|\n",
    "|first|First value of a vector|\n",
    "|last|last....|\n",
    "|nth|nth...|\n",
    "|n|# of values in a vector|\n",
    "|n_distinct|# of distinct values in a vector|\n",
    "|min||\n",
    "|max||\n",
    "|mean||\n",
    "|median||\n",
    "|var||\n",
    "|sd||"
   ]
  },
  {
   "cell_type": "markdown",
   "metadata": {},
   "source": [
    "### Group Data"
   ]
  },
  {
   "cell_type": "code",
   "execution_count": 27,
   "metadata": {
    "collapsed": false
   },
   "outputs": [
    {
     "data": {
      "text/html": [
       "<table>\n",
       "<thead><tr><th></th><th scope=col>Sepal.Length</th><th scope=col>Sepal.Width</th><th scope=col>Petal.Length</th><th scope=col>Petal.Width</th><th scope=col>Species</th></tr></thead>\n",
       "<tbody>\n",
       "\t<tr><th scope=row>1</th><td>5.1   </td><td>3.5   </td><td>1.4   </td><td>0.2   </td><td>setosa</td></tr>\n",
       "\t<tr><th scope=row>2</th><td>4.9   </td><td>3     </td><td>1.4   </td><td>0.2   </td><td>setosa</td></tr>\n",
       "\t<tr><th scope=row>3</th><td>4.7   </td><td>3.2   </td><td>1.3   </td><td>0.2   </td><td>setosa</td></tr>\n",
       "\t<tr><th scope=row>4</th><td>4.6   </td><td>3.1   </td><td>1.5   </td><td>0.2   </td><td>setosa</td></tr>\n",
       "\t<tr><th scope=row>5</th><td>5     </td><td>3.6   </td><td>1.4   </td><td>0.2   </td><td>setosa</td></tr>\n",
       "</tbody>\n",
       "</table>\n"
      ],
      "text/latex": [
       "\\begin{tabular}{r|lllll}\n",
       "  & Sepal.Length & Sepal.Width & Petal.Length & Petal.Width & Species\\\\\n",
       "\\hline\n",
       "\t1 & 5.1    & 3.5    & 1.4    & 0.2    & setosa\\\\\n",
       "\t2 & 4.9    & 3      & 1.4    & 0.2    & setosa\\\\\n",
       "\t3 & 4.7    & 3.2    & 1.3    & 0.2    & setosa\\\\\n",
       "\t4 & 4.6    & 3.1    & 1.5    & 0.2    & setosa\\\\\n",
       "\t5 & 5      & 3.6    & 1.4    & 0.2    & setosa\\\\\n",
       "\\end{tabular}\n"
      ],
      "text/plain": [
       "  Sepal.Length Sepal.Width Petal.Length Petal.Width Species\n",
       "1          5.1         3.5          1.4         0.2  setosa\n",
       "2          4.9         3.0          1.4         0.2  setosa\n",
       "3          4.7         3.2          1.3         0.2  setosa\n",
       "4          4.6         3.1          1.5         0.2  setosa\n",
       "5          5.0         3.6          1.4         0.2  setosa"
      ]
     },
     "metadata": {},
     "output_type": "display_data"
    },
    {
     "data": {
      "text/html": [
       "<table>\n",
       "<thead><tr><th></th><th scope=col>Sepal.Length</th><th scope=col>Sepal.Width</th><th scope=col>Petal.Length</th><th scope=col>Petal.Width</th><th scope=col>Species</th></tr></thead>\n",
       "<tbody>\n",
       "\t<tr><th scope=row>146</th><td>6.7      </td><td>3        </td><td>5.2      </td><td>2.3      </td><td>virginica</td></tr>\n",
       "\t<tr><th scope=row>147</th><td>6.3      </td><td>2.5      </td><td>5        </td><td>1.9      </td><td>virginica</td></tr>\n",
       "\t<tr><th scope=row>148</th><td>6.5      </td><td>3        </td><td>5.2      </td><td>2        </td><td>virginica</td></tr>\n",
       "\t<tr><th scope=row>149</th><td>6.2      </td><td>3.4      </td><td>5.4      </td><td>2.3      </td><td>virginica</td></tr>\n",
       "\t<tr><th scope=row>150</th><td>5.9      </td><td>3        </td><td>5.1      </td><td>1.8      </td><td>virginica</td></tr>\n",
       "</tbody>\n",
       "</table>\n"
      ],
      "text/latex": [
       "\\begin{tabular}{r|lllll}\n",
       "  & Sepal.Length & Sepal.Width & Petal.Length & Petal.Width & Species\\\\\n",
       "\\hline\n",
       "\t146 & 6.7       & 3         & 5.2       & 2.3       & virginica\\\\\n",
       "\t147 & 6.3       & 2.5       & 5         & 1.9       & virginica\\\\\n",
       "\t148 & 6.5       & 3         & 5.2       & 2         & virginica\\\\\n",
       "\t149 & 6.2       & 3.4       & 5.4       & 2.3       & virginica\\\\\n",
       "\t150 & 5.9       & 3         & 5.1       & 1.8       & virginica\\\\\n",
       "\\end{tabular}\n"
      ],
      "text/plain": [
       "    Sepal.Length Sepal.Width Petal.Length Petal.Width   Species\n",
       "146          6.7         3.0          5.2         2.3 virginica\n",
       "147          6.3         2.5          5.0         1.9 virginica\n",
       "148          6.5         3.0          5.2         2.0 virginica\n",
       "149          6.2         3.4          5.4         2.3 virginica\n",
       "150          5.9         3.0          5.1         1.8 virginica"
      ]
     },
     "metadata": {},
     "output_type": "display_data"
    }
   ],
   "source": [
    "dplyr::group_by(iris, Species) %>% head(5)#Group data into rows with the same value of Species.\n",
    "dplyr::ungroup(iris) %>% tail(5) #Remove grouping information from data frame. "
   ]
  },
  {
   "cell_type": "code",
   "execution_count": 32,
   "metadata": {
    "collapsed": false
   },
   "outputs": [
    {
     "data": {
      "text/html": [
       "<table>\n",
       "<thead><tr><th></th><th scope=col>Species</th><th scope=col>count</th><th scope=col>mean</th></tr></thead>\n",
       "<tbody>\n",
       "\t<tr><th scope=row>1</th><td>setosa</td><td>50    </td><td>8.434 </td></tr>\n",
       "\t<tr><th scope=row>2</th><td>versicolor</td><td>50        </td><td>8.706     </td></tr>\n",
       "\t<tr><th scope=row>3</th><td>virginica</td><td>50       </td><td>9.562    </td></tr>\n",
       "</tbody>\n",
       "</table>\n"
      ],
      "text/latex": [
       "\\begin{tabular}{r|lll}\n",
       "  & Species & count & mean\\\\\n",
       "\\hline\n",
       "\t1 & setosa & 50     & 8.434 \\\\\n",
       "\t2 & versicolor & 50         & 8.706     \\\\\n",
       "\t3 & virginica & 50        & 9.562    \\\\\n",
       "\\end{tabular}\n"
      ],
      "text/plain": [
       "     Species count  mean\n",
       "1     setosa    50 8.434\n",
       "2 versicolor    50 8.706\n",
       "3  virginica    50 9.562"
      ]
     },
     "metadata": {},
     "output_type": "display_data"
    },
    {
     "data": {
      "text/html": [
       "<table>\n",
       "<thead><tr><th></th><th scope=col>conc</th><th scope=col>rate</th><th scope=col>state</th><th scope=col>rand_rate</th></tr></thead>\n",
       "<tbody>\n",
       "\t<tr><th scope=row>1</th><td>0.02   </td><td>76     </td><td>treated</td><td>2      </td></tr>\n",
       "\t<tr><th scope=row>2</th><td>0.02   </td><td>47     </td><td>treated</td><td>1      </td></tr>\n",
       "\t<tr><th scope=row>3</th><td>0.06   </td><td>97     </td><td>treated</td><td>3      </td></tr>\n",
       "\t<tr><th scope=row>4</th><td>0.06   </td><td>107    </td><td>treated</td><td>4      </td></tr>\n",
       "\t<tr><th scope=row>5</th><td>0.11   </td><td>123    </td><td>treated</td><td>5      </td></tr>\n",
       "\t<tr><th scope=row>6</th><td>0.11   </td><td>139    </td><td>treated</td><td>6      </td></tr>\n",
       "\t<tr><th scope=row>7</th><td>0.22   </td><td>159    </td><td>treated</td><td>8      </td></tr>\n",
       "\t<tr><th scope=row>8</th><td>0.22   </td><td>152    </td><td>treated</td><td>7      </td></tr>\n",
       "\t<tr><th scope=row>9</th><td>0.56   </td><td>191    </td><td>treated</td><td>9      </td></tr>\n",
       "\t<tr><th scope=row>10</th><td>0.56   </td><td>201    </td><td>treated</td><td>11     </td></tr>\n",
       "</tbody>\n",
       "</table>\n"
      ],
      "text/latex": [
       "\\begin{tabular}{r|llll}\n",
       "  & conc & rate & state & rand\\_rate\\\\\n",
       "\\hline\n",
       "\t1 & 0.02    & 76      & treated & 2      \\\\\n",
       "\t2 & 0.02    & 47      & treated & 1      \\\\\n",
       "\t3 & 0.06    & 97      & treated & 3      \\\\\n",
       "\t4 & 0.06    & 107     & treated & 4      \\\\\n",
       "\t5 & 0.11    & 123     & treated & 5      \\\\\n",
       "\t6 & 0.11    & 139     & treated & 6      \\\\\n",
       "\t7 & 0.22    & 159     & treated & 8      \\\\\n",
       "\t8 & 0.22    & 152     & treated & 7      \\\\\n",
       "\t9 & 0.56    & 191     & treated & 9      \\\\\n",
       "\t10 & 0.56    & 201     & treated & 11     \\\\\n",
       "\\end{tabular}\n"
      ],
      "text/plain": [
       "   conc rate   state rand_rate\n",
       "1  0.02   76 treated         2\n",
       "2  0.02   47 treated         1\n",
       "3  0.06   97 treated         3\n",
       "4  0.06  107 treated         4\n",
       "5  0.11  123 treated         5\n",
       "6  0.11  139 treated         6\n",
       "7  0.22  159 treated         8\n",
       "8  0.22  152 treated         7\n",
       "9  0.56  191 treated         9\n",
       "10 0.56  201 treated        11"
      ]
     },
     "metadata": {},
     "output_type": "display_data"
    }
   ],
   "source": [
    "#group_by and summarise\n",
    "iris %>% group_by(Species) %>% summarise(count = n(),mean = mean(Sepal.Length+Sepal.Width))\n",
    "\n",
    "#group_by and mutate\n",
    "Puromycin %>% group_by(state) %>% mutate(rand_rate = min_rank(rate)) %>% head(10)"
   ]
  },
  {
   "cell_type": "markdown",
   "metadata": {},
   "source": [
    "## 1.6 Make new variables : mutate"
   ]
  },
  {
   "cell_type": "code",
   "execution_count": 17,
   "metadata": {
    "collapsed": false
   },
   "outputs": [
    {
     "data": {
      "text/html": [
       "<table>\n",
       "<thead><tr><th></th><th scope=col>Sepal.Length</th><th scope=col>Sepal.Width</th><th scope=col>Petal.Length</th><th scope=col>Petal.Width</th><th scope=col>Species</th><th scope=col>sepal</th></tr></thead>\n",
       "<tbody>\n",
       "\t<tr><th scope=row>1</th><td>5.1   </td><td>3.5   </td><td>1.4   </td><td>0.2   </td><td>setosa</td><td>8.6   </td></tr>\n",
       "\t<tr><th scope=row>2</th><td>4.9   </td><td>3     </td><td>1.4   </td><td>0.2   </td><td>setosa</td><td>7.9   </td></tr>\n",
       "\t<tr><th scope=row>3</th><td>4.7   </td><td>3.2   </td><td>1.3   </td><td>0.2   </td><td>setosa</td><td>7.9   </td></tr>\n",
       "</tbody>\n",
       "</table>\n"
      ],
      "text/latex": [
       "\\begin{tabular}{r|llllll}\n",
       "  & Sepal.Length & Sepal.Width & Petal.Length & Petal.Width & Species & sepal\\\\\n",
       "\\hline\n",
       "\t1 & 5.1    & 3.5    & 1.4    & 0.2    & setosa & 8.6   \\\\\n",
       "\t2 & 4.9    & 3      & 1.4    & 0.2    & setosa & 7.9   \\\\\n",
       "\t3 & 4.7    & 3.2    & 1.3    & 0.2    & setosa & 7.9   \\\\\n",
       "\\end{tabular}\n"
      ],
      "text/plain": [
       "  Sepal.Length Sepal.Width Petal.Length Petal.Width Species sepal\n",
       "1          5.1         3.5          1.4         0.2  setosa   8.6\n",
       "2          4.9         3.0          1.4         0.2  setosa   7.9\n",
       "3          4.7         3.2          1.3         0.2  setosa   7.9"
      ]
     },
     "metadata": {},
     "output_type": "display_data"
    },
    {
     "data": {
      "text/html": [
       "<table>\n",
       "<thead><tr><th></th><th scope=col>Sepal.Length</th><th scope=col>Sepal.Width</th><th scope=col>Petal.Length</th><th scope=col>Petal.Width</th><th scope=col>Species</th></tr></thead>\n",
       "<tbody>\n",
       "\t<tr><th scope=row>1</th><td> 33</td><td>126</td><td> 12</td><td>  6</td><td>  1</td></tr>\n",
       "\t<tr><th scope=row>2</th><td>17</td><td>58</td><td>12</td><td> 6</td><td> 1</td></tr>\n",
       "\t<tr><th scope=row>3</th><td>10</td><td>95</td><td> 5</td><td> 6</td><td> 1</td></tr>\n",
       "</tbody>\n",
       "</table>\n"
      ],
      "text/latex": [
       "\\begin{tabular}{r|lllll}\n",
       "  & Sepal.Length & Sepal.Width & Petal.Length & Petal.Width & Species\\\\\n",
       "\\hline\n",
       "\t1 &  33 & 126 &  12 &   6 &   1\\\\\n",
       "\t2 & 17 & 58 & 12 &  6 &  1\\\\\n",
       "\t3 & 10 & 95 &  5 &  6 &  1\\\\\n",
       "\\end{tabular}\n"
      ],
      "text/plain": [
       "  Sepal.Length Sepal.Width Petal.Length Petal.Width Species\n",
       "1           33         126           12           6       1\n",
       "2           17          58           12           6       1\n",
       "3           10          95            5           6       1"
      ]
     },
     "metadata": {},
     "output_type": "display_data"
    }
   ],
   "source": [
    "#dplyr::mutate(data,new_column = column1 + column2) to form a new column\n",
    "mutate(iris, sepal = Sepal.Length + Sepal.Width) %>% head(3)\n",
    "\n",
    "#mutate_each function to apply the funs to every column\n",
    "dplyr::mutate_each(iris, funs(min_rank)) %>% head(3) # min_rank Ranks. Ties get min rank. \n",
    "\n",
    "#dplyr::transmute(iris, sepal = Sepal.Length + Sepal. Width)\n",
    "# Compute one or more new columns. Drop original columns.\n"
   ]
  },
  {
   "cell_type": "markdown",
   "metadata": {},
   "source": [
    "### Mutate uses window functions, functions that take a vector of values and return another vector of values, such as:\n",
    "\n",
    "See **window functions** in the cheatsheet for dplyr and tidyr:https://www.rstudio.com/wp-content/uploads/2015/02/data-wrangling-cheatsheet.pdf\n"
   ]
  },
  {
   "cell_type": "markdown",
   "metadata": {},
   "source": [
    "## 1.7 Combine Data Sets\n"
   ]
  },
  {
   "cell_type": "code",
   "execution_count": 18,
   "metadata": {
    "collapsed": false
   },
   "outputs": [
    {
     "name": "stderr",
     "output_type": "stream",
     "text": [
      "Warning message in left_join_impl(x, y, by$x, by$y):\n",
      "\"joining factors with different levels, coercing to character vector\""
     ]
    },
    {
     "data": {
      "text/html": [
       "<table>\n",
       "<thead><tr><th></th><th scope=col>x1</th><th scope=col>x2</th><th scope=col>x3</th></tr></thead>\n",
       "<tbody>\n",
       "\t<tr><th scope=row>1</th><td>A   </td><td>1   </td><td>TRUE</td></tr>\n",
       "\t<tr><th scope=row>2</th><td>B    </td><td>2    </td><td>FALSE</td></tr>\n",
       "\t<tr><th scope=row>3</th><td>C </td><td>3 </td><td>NA</td></tr>\n",
       "</tbody>\n",
       "</table>\n"
      ],
      "text/latex": [
       "\\begin{tabular}{r|lll}\n",
       "  & x1 & x2 & x3\\\\\n",
       "\\hline\n",
       "\t1 & A    & 1    & TRUE\\\\\n",
       "\t2 & B     & 2     & FALSE\\\\\n",
       "\t3 & C  & 3  & NA\\\\\n",
       "\\end{tabular}\n"
      ],
      "text/plain": [
       "  x1 x2    x3\n",
       "1  A  1  TRUE\n",
       "2  B  2 FALSE\n",
       "3  C  3    NA"
      ]
     },
     "metadata": {},
     "output_type": "display_data"
    },
    {
     "name": "stderr",
     "output_type": "stream",
     "text": [
      "Warning message in right_join_impl(x, y, by$x, by$y):\n",
      "\"joining factors with different levels, coercing to character vector\""
     ]
    },
    {
     "data": {
      "text/html": [
       "<table>\n",
       "<thead><tr><th></th><th scope=col>x1</th><th scope=col>x2</th><th scope=col>x3</th></tr></thead>\n",
       "<tbody>\n",
       "\t<tr><th scope=row>1</th><td>A   </td><td>1   </td><td>TRUE</td></tr>\n",
       "\t<tr><th scope=row>2</th><td>B    </td><td>2    </td><td>FALSE</td></tr>\n",
       "\t<tr><th scope=row>3</th><td>D   </td><td>NA  </td><td>TRUE</td></tr>\n",
       "</tbody>\n",
       "</table>\n"
      ],
      "text/latex": [
       "\\begin{tabular}{r|lll}\n",
       "  & x1 & x2 & x3\\\\\n",
       "\\hline\n",
       "\t1 & A    & 1    & TRUE\\\\\n",
       "\t2 & B     & 2     & FALSE\\\\\n",
       "\t3 & D    & NA   & TRUE\\\\\n",
       "\\end{tabular}\n"
      ],
      "text/plain": [
       "  x1 x2    x3\n",
       "1  A  1  TRUE\n",
       "2  B  2 FALSE\n",
       "3  D NA  TRUE"
      ]
     },
     "metadata": {},
     "output_type": "display_data"
    },
    {
     "name": "stderr",
     "output_type": "stream",
     "text": [
      "Warning message in inner_join_impl(x, y, by$x, by$y):\n",
      "\"joining factors with different levels, coercing to character vector\""
     ]
    },
    {
     "data": {
      "text/html": [
       "<table>\n",
       "<thead><tr><th></th><th scope=col>x1</th><th scope=col>x2</th><th scope=col>x3</th></tr></thead>\n",
       "<tbody>\n",
       "\t<tr><th scope=row>1</th><td>A   </td><td>1   </td><td>TRUE</td></tr>\n",
       "\t<tr><th scope=row>2</th><td>B    </td><td>2    </td><td>FALSE</td></tr>\n",
       "</tbody>\n",
       "</table>\n"
      ],
      "text/latex": [
       "\\begin{tabular}{r|lll}\n",
       "  & x1 & x2 & x3\\\\\n",
       "\\hline\n",
       "\t1 & A    & 1    & TRUE\\\\\n",
       "\t2 & B     & 2     & FALSE\\\\\n",
       "\\end{tabular}\n"
      ],
      "text/plain": [
       "  x1 x2    x3\n",
       "1  A  1  TRUE\n",
       "2  B  2 FALSE"
      ]
     },
     "metadata": {},
     "output_type": "display_data"
    },
    {
     "name": "stderr",
     "output_type": "stream",
     "text": [
      "Warning message in outer_join_impl(x, y, by$x, by$y):\n",
      "\"joining factors with different levels, coercing to character vector\""
     ]
    },
    {
     "data": {
      "text/html": [
       "<table>\n",
       "<thead><tr><th></th><th scope=col>x1</th><th scope=col>x2</th><th scope=col>x3</th></tr></thead>\n",
       "<tbody>\n",
       "\t<tr><th scope=row>1</th><td>A   </td><td>1   </td><td>TRUE</td></tr>\n",
       "\t<tr><th scope=row>2</th><td>B    </td><td>2    </td><td>FALSE</td></tr>\n",
       "\t<tr><th scope=row>3</th><td>C </td><td>3 </td><td>NA</td></tr>\n",
       "\t<tr><th scope=row>4</th><td>D   </td><td>NA  </td><td>TRUE</td></tr>\n",
       "</tbody>\n",
       "</table>\n"
      ],
      "text/latex": [
       "\\begin{tabular}{r|lll}\n",
       "  & x1 & x2 & x3\\\\\n",
       "\\hline\n",
       "\t1 & A    & 1    & TRUE\\\\\n",
       "\t2 & B     & 2     & FALSE\\\\\n",
       "\t3 & C  & 3  & NA\\\\\n",
       "\t4 & D    & NA   & TRUE\\\\\n",
       "\\end{tabular}\n"
      ],
      "text/plain": [
       "  x1 x2    x3\n",
       "1  A  1  TRUE\n",
       "2  B  2 FALSE\n",
       "3  C  3    NA\n",
       "4  D NA  TRUE"
      ]
     },
     "metadata": {},
     "output_type": "display_data"
    }
   ],
   "source": [
    "# mutating joins\n",
    "\n",
    "a = data.frame(x1 = c(\"A\",\"B\",\"C\"),x2 = c(1,2,3))\n",
    "b = data.frame(x1 = c(\"A\",\"B\",\"D\"),x3 = c(T,F,T))\n",
    "\n",
    "#dplyr::left_join,right_join,inner_join,full_join\n",
    "left_join(a, b, by = \"x1\")\n",
    "\n",
    "right_join(a,b,by = \"x1\")\n",
    "\n",
    "inner_join(a,b,by = \"x1\")\n",
    "\n",
    "full_join(a,b,by = \"x1\")"
   ]
  },
  {
   "cell_type": "code",
   "execution_count": 19,
   "metadata": {
    "collapsed": false
   },
   "outputs": [
    {
     "name": "stderr",
     "output_type": "stream",
     "text": [
      "Warning message in semi_join_impl(x, y, by$x, by$y):\n",
      "\"joining factors with different levels, coercing to character vector\""
     ]
    },
    {
     "data": {
      "text/html": [
       "<table>\n",
       "<thead><tr><th></th><th scope=col>x1</th><th scope=col>x2</th></tr></thead>\n",
       "<tbody>\n",
       "\t<tr><th scope=row>1</th><td>A</td><td>1</td></tr>\n",
       "\t<tr><th scope=row>2</th><td>B</td><td>2</td></tr>\n",
       "</tbody>\n",
       "</table>\n"
      ],
      "text/latex": [
       "\\begin{tabular}{r|ll}\n",
       "  & x1 & x2\\\\\n",
       "\\hline\n",
       "\t1 & A & 1\\\\\n",
       "\t2 & B & 2\\\\\n",
       "\\end{tabular}\n"
      ],
      "text/plain": [
       "  x1 x2\n",
       "1  A  1\n",
       "2  B  2"
      ]
     },
     "metadata": {},
     "output_type": "display_data"
    },
    {
     "name": "stderr",
     "output_type": "stream",
     "text": [
      "Warning message in anti_join_impl(x, y, by$x, by$y):\n",
      "\"joining factors with different levels, coercing to character vector\""
     ]
    },
    {
     "data": {
      "text/html": [
       "<table>\n",
       "<thead><tr><th></th><th scope=col>x1</th><th scope=col>x2</th></tr></thead>\n",
       "<tbody>\n",
       "\t<tr><th scope=row>1</th><td>C</td><td>3</td></tr>\n",
       "</tbody>\n",
       "</table>\n"
      ],
      "text/latex": [
       "\\begin{tabular}{r|ll}\n",
       "  & x1 & x2\\\\\n",
       "\\hline\n",
       "\t1 & C & 3\\\\\n",
       "\\end{tabular}\n"
      ],
      "text/plain": [
       "  x1 x2\n",
       "1  C  3"
      ]
     },
     "metadata": {},
     "output_type": "display_data"
    }
   ],
   "source": [
    "# filter joins\n",
    "dplyr::semi_join(a, b, by = \"x1\") #All rows in a that have a match in b.\n",
    "\n",
    "dplyr::anti_join(a, b, by = \"x1\") #All rows in a that do not have a match in b."
   ]
  },
  {
   "cell_type": "code",
   "execution_count": 20,
   "metadata": {
    "collapsed": false
   },
   "outputs": [
    {
     "data": {
      "text/html": [
       "<table>\n",
       "<thead><tr><th></th><th scope=col>x1</th><th scope=col>x2</th></tr></thead>\n",
       "<tbody>\n",
       "\t<tr><th scope=row>1</th><td>5</td><td>2</td></tr>\n",
       "\t<tr><th scope=row>2</th><td>6</td><td>3</td></tr>\n",
       "</tbody>\n",
       "</table>\n"
      ],
      "text/latex": [
       "\\begin{tabular}{r|ll}\n",
       "  & x1 & x2\\\\\n",
       "\\hline\n",
       "\t1 & 5 & 2\\\\\n",
       "\t2 & 6 & 3\\\\\n",
       "\\end{tabular}\n"
      ],
      "text/plain": [
       "  x1 x2\n",
       "1  5  2\n",
       "2  6  3"
      ]
     },
     "metadata": {},
     "output_type": "display_data"
    },
    {
     "data": {
      "text/html": [
       "<table>\n",
       "<thead><tr><th></th><th scope=col>x1</th><th scope=col>x2</th></tr></thead>\n",
       "<tbody>\n",
       "\t<tr><th scope=row>1</th><td>4</td><td>1</td></tr>\n",
       "\t<tr><th scope=row>2</th><td>5</td><td>2</td></tr>\n",
       "\t<tr><th scope=row>3</th><td>6</td><td>3</td></tr>\n",
       "\t<tr><th scope=row>4</th><td>7</td><td>4</td></tr>\n",
       "</tbody>\n",
       "</table>\n"
      ],
      "text/latex": [
       "\\begin{tabular}{r|ll}\n",
       "  & x1 & x2\\\\\n",
       "\\hline\n",
       "\t1 & 4 & 1\\\\\n",
       "\t2 & 5 & 2\\\\\n",
       "\t3 & 6 & 3\\\\\n",
       "\t4 & 7 & 4\\\\\n",
       "\\end{tabular}\n"
      ],
      "text/plain": [
       "  x1 x2\n",
       "1  4  1\n",
       "2  5  2\n",
       "3  6  3\n",
       "4  7  4"
      ]
     },
     "metadata": {},
     "output_type": "display_data"
    },
    {
     "data": {
      "text/html": [
       "<table>\n",
       "<thead><tr><th></th><th scope=col>x1</th><th scope=col>x2</th></tr></thead>\n",
       "<tbody>\n",
       "\t<tr><th scope=row>1</th><td>4</td><td>1</td></tr>\n",
       "</tbody>\n",
       "</table>\n"
      ],
      "text/latex": [
       "\\begin{tabular}{r|ll}\n",
       "  & x1 & x2\\\\\n",
       "\\hline\n",
       "\t1 & 4 & 1\\\\\n",
       "\\end{tabular}\n"
      ],
      "text/plain": [
       "  x1 x2\n",
       "1  4  1"
      ]
     },
     "metadata": {},
     "output_type": "display_data"
    }
   ],
   "source": [
    "# Set Operations\n",
    "y = data.frame(x1 = 4:6,x2 = 1:3)\n",
    "z = data.frame(x1 = 5:7,x2 = 2:4)\n",
    "\n",
    "dplyr::intersect(y, z) # Rows that appear in both y and z\n",
    "dplyr::union(y, z) #Rows that appear in either or both y and z.\n",
    "dplyr::setdiff(y, z) #Rows that appear in y but not z."
   ]
  },
  {
   "cell_type": "code",
   "execution_count": 21,
   "metadata": {
    "collapsed": false
   },
   "outputs": [
    {
     "data": {
      "text/html": [
       "<table>\n",
       "<thead><tr><th></th><th scope=col>x1</th><th scope=col>x2</th></tr></thead>\n",
       "<tbody>\n",
       "\t<tr><th scope=row>1</th><td>4</td><td>1</td></tr>\n",
       "\t<tr><th scope=row>2</th><td>5</td><td>2</td></tr>\n",
       "\t<tr><th scope=row>3</th><td>6</td><td>3</td></tr>\n",
       "\t<tr><th scope=row>4</th><td>5</td><td>2</td></tr>\n",
       "\t<tr><th scope=row>5</th><td>6</td><td>3</td></tr>\n",
       "\t<tr><th scope=row>6</th><td>7</td><td>4</td></tr>\n",
       "</tbody>\n",
       "</table>\n"
      ],
      "text/latex": [
       "\\begin{tabular}{r|ll}\n",
       "  & x1 & x2\\\\\n",
       "\\hline\n",
       "\t1 & 4 & 1\\\\\n",
       "\t2 & 5 & 2\\\\\n",
       "\t3 & 6 & 3\\\\\n",
       "\t4 & 5 & 2\\\\\n",
       "\t5 & 6 & 3\\\\\n",
       "\t6 & 7 & 4\\\\\n",
       "\\end{tabular}\n"
      ],
      "text/plain": [
       "  x1 x2\n",
       "1  4  1\n",
       "2  5  2\n",
       "3  6  3\n",
       "4  5  2\n",
       "5  6  3\n",
       "6  7  4"
      ]
     },
     "metadata": {},
     "output_type": "display_data"
    },
    {
     "data": {
      "text/html": [
       "<table>\n",
       "<thead><tr><th></th><th scope=col>x1</th><th scope=col>x2</th><th scope=col>x1</th><th scope=col>x2</th></tr></thead>\n",
       "<tbody>\n",
       "\t<tr><th scope=row>1</th><td>4</td><td>1</td><td>5</td><td>2</td></tr>\n",
       "\t<tr><th scope=row>2</th><td>5</td><td>2</td><td>6</td><td>3</td></tr>\n",
       "\t<tr><th scope=row>3</th><td>6</td><td>3</td><td>7</td><td>4</td></tr>\n",
       "</tbody>\n",
       "</table>\n"
      ],
      "text/latex": [
       "\\begin{tabular}{r|llll}\n",
       "  & x1 & x2 & x1 & x2\\\\\n",
       "\\hline\n",
       "\t1 & 4 & 1 & 5 & 2\\\\\n",
       "\t2 & 5 & 2 & 6 & 3\\\\\n",
       "\t3 & 6 & 3 & 7 & 4\\\\\n",
       "\\end{tabular}\n"
      ],
      "text/plain": [
       "  x1 x2 x1 x2\n",
       "1  4  1  5  2\n",
       "2  5  2  6  3\n",
       "3  6  3  7  4"
      ]
     },
     "metadata": {},
     "output_type": "display_data"
    }
   ],
   "source": [
    "#binding join\n",
    "dplyr::bind_rows(y,z) # equal to rbind\n",
    "dplyr::bind_cols(y,z) # equal to cbind"
   ]
  }
 ],
 "metadata": {
  "anaconda-cloud": {},
  "kernelspec": {
   "display_name": "R",
   "language": "R",
   "name": "ir"
  },
  "language_info": {
   "codemirror_mode": "r",
   "file_extension": ".r",
   "mimetype": "text/x-r-source",
   "name": "R",
   "pygments_lexer": "r",
   "version": "3.3.1"
  }
 },
 "nbformat": 4,
 "nbformat_minor": 1
}
