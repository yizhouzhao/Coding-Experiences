{
 "cells": [
  {
   "cell_type": "code",
   "execution_count": 118,
   "metadata": {
    "collapsed": true
   },
   "outputs": [],
   "source": [
    "from bokeh.io import show\n",
    "from bokeh.models import (\n",
    "    ColumnDataSource,\n",
    "    HoverTool,\n",
    "    LogColorMapper\n",
    ")\n",
    "from bokeh.plotting import figure\n",
    "from bokeh.plotting import output_notebook\n",
    "\n",
    "\n"
   ]
  },
  {
   "cell_type": "code",
   "execution_count": 121,
   "metadata": {
    "collapsed": true
   },
   "outputs": [],
   "source": [
    "from bokeh.sampledata import us_states"
   ]
  },
  {
   "cell_type": "code",
   "execution_count": 130,
   "metadata": {
    "collapsed": false
   },
   "outputs": [],
   "source": [
    "\n",
    "# init figure\n",
    "p = figure(title=\"Q073: how do you call your parental grandfather and Q081: how do you say a easy course\", \n",
    "           tools=\"pan,wheel_zoom,box_zoom,reset,save\",\n",
    "           toolbar_location=\"left\", plot_width=1100, plot_height=700)\n",
    "\n",
    "# Draw state lines\n",
    "p.patches(state_xs, state_ys, fill_alpha=0.0,\n",
    "    line_color=\"#884444\", line_width=1.5)\n",
    "\n",
    "p.toolbar.active_scroll = \"auto\""
   ]
  },
  {
   "cell_type": "code",
   "execution_count": 5,
   "metadata": {
    "collapsed": false,
    "scrolled": true
   },
   "outputs": [
    {
     "name": "stderr",
     "output_type": "stream",
     "text": [
      "W-1005 (SNAPPED_TOOLBAR_ANNOTATIONS): Snapped toolbars and annotations on the same side MAY overlap visually: Figure(id='2e9f25ca-94e8-4c7d-b0dd-78c1df9607e7', ...)\n"
     ]
    }
   ],
   "source": [
    "show(p)"
   ]
  },
  {
   "cell_type": "code",
   "execution_count": 8,
   "metadata": {
    "collapsed": false
   },
   "outputs": [
    {
     "data": {
      "text/plain": [
       "'/media/yizhou/New Volume1/courses/Stat215A/lab2/data'"
      ]
     },
     "execution_count": 8,
     "metadata": {},
     "output_type": "execute_result"
    }
   ],
   "source": [
    "import os\n",
    "os.chdir(\"/media/yizhou/New Volume1/courses/Stat215A/lab2/data\")\n",
    "os.getcwd()"
   ]
  },
  {
   "cell_type": "code",
   "execution_count": 9,
   "metadata": {
    "collapsed": true
   },
   "outputs": [],
   "source": [
    "import pandas as pd\n",
    "import numpy as np"
   ]
  },
  {
   "cell_type": "code",
   "execution_count": 10,
   "metadata": {
    "collapsed": true
   },
   "outputs": [],
   "source": [
    "active = pd.read_csv(\"interactive.csv\")"
   ]
  },
  {
   "cell_type": "code",
   "execution_count": 11,
   "metadata": {
    "collapsed": false
   },
   "outputs": [
    {
     "data": {
      "text/html": [
       "<div>\n",
       "<table border=\"1\" class=\"dataframe\">\n",
       "  <thead>\n",
       "    <tr style=\"text-align: right;\">\n",
       "      <th></th>\n",
       "      <th>Unnamed: 0</th>\n",
       "      <th>lat</th>\n",
       "      <th>long</th>\n",
       "      <th>ZIP</th>\n",
       "      <th>STATE</th>\n",
       "      <th>Q071</th>\n",
       "      <th>Q083</th>\n",
       "      <th>qnum.x</th>\n",
       "      <th>ans.let.x</th>\n",
       "      <th>per.x</th>\n",
       "      <th>ans.x</th>\n",
       "      <th>qnum.y</th>\n",
       "      <th>ans.let.y</th>\n",
       "      <th>per.y</th>\n",
       "      <th>ans.y</th>\n",
       "    </tr>\n",
       "  </thead>\n",
       "  <tbody>\n",
       "    <tr>\n",
       "      <th>0</th>\n",
       "      <td>1</td>\n",
       "      <td>43.631230</td>\n",
       "      <td>-116.287161</td>\n",
       "      <td>83704</td>\n",
       "      <td>ID</td>\n",
       "      <td>5</td>\n",
       "      <td>7</td>\n",
       "      <td>71.0</td>\n",
       "      <td>e</td>\n",
       "      <td>37.31</td>\n",
       "      <td>other</td>\n",
       "      <td>83.0</td>\n",
       "      <td>g</td>\n",
       "      <td>42.05</td>\n",
       "      <td>other</td>\n",
       "    </tr>\n",
       "    <tr>\n",
       "      <th>1</th>\n",
       "      <td>2</td>\n",
       "      <td>42.453840</td>\n",
       "      <td>-73.254003</td>\n",
       "      <td>1201</td>\n",
       "      <td>MA</td>\n",
       "      <td>2</td>\n",
       "      <td>1</td>\n",
       "      <td>71.0</td>\n",
       "      <td>b</td>\n",
       "      <td>32.29</td>\n",
       "      <td>grandpa</td>\n",
       "      <td>83.0</td>\n",
       "      <td>a</td>\n",
       "      <td>14.65</td>\n",
       "      <td>gut</td>\n",
       "    </tr>\n",
       "    <tr>\n",
       "      <th>2</th>\n",
       "      <td>3</td>\n",
       "      <td>44.484038</td>\n",
       "      <td>-73.221265</td>\n",
       "      <td>5401</td>\n",
       "      <td>VT</td>\n",
       "      <td>5</td>\n",
       "      <td>1</td>\n",
       "      <td>71.0</td>\n",
       "      <td>e</td>\n",
       "      <td>37.31</td>\n",
       "      <td>other</td>\n",
       "      <td>83.0</td>\n",
       "      <td>a</td>\n",
       "      <td>14.65</td>\n",
       "      <td>gut</td>\n",
       "    </tr>\n",
       "    <tr>\n",
       "      <th>3</th>\n",
       "      <td>4</td>\n",
       "      <td>40.681798</td>\n",
       "      <td>-75.220820</td>\n",
       "      <td>18042</td>\n",
       "      <td>PA</td>\n",
       "      <td>5</td>\n",
       "      <td>5</td>\n",
       "      <td>71.0</td>\n",
       "      <td>e</td>\n",
       "      <td>37.31</td>\n",
       "      <td>other</td>\n",
       "      <td>83.0</td>\n",
       "      <td>e</td>\n",
       "      <td>36.57</td>\n",
       "      <td>blow-off</td>\n",
       "    </tr>\n",
       "    <tr>\n",
       "      <th>4</th>\n",
       "      <td>5</td>\n",
       "      <td>42.496679</td>\n",
       "      <td>-71.275046</td>\n",
       "      <td>1730</td>\n",
       "      <td>MA</td>\n",
       "      <td>0</td>\n",
       "      <td>1</td>\n",
       "      <td>NaN</td>\n",
       "      <td>NaN</td>\n",
       "      <td>NaN</td>\n",
       "      <td>NaN</td>\n",
       "      <td>83.0</td>\n",
       "      <td>a</td>\n",
       "      <td>14.65</td>\n",
       "      <td>gut</td>\n",
       "    </tr>\n",
       "  </tbody>\n",
       "</table>\n",
       "</div>"
      ],
      "text/plain": [
       "   Unnamed: 0        lat        long    ZIP STATE  Q071  Q083  qnum.x  \\\n",
       "0           1  43.631230 -116.287161  83704    ID     5     7    71.0   \n",
       "1           2  42.453840  -73.254003   1201    MA     2     1    71.0   \n",
       "2           3  44.484038  -73.221265   5401    VT     5     1    71.0   \n",
       "3           4  40.681798  -75.220820  18042    PA     5     5    71.0   \n",
       "4           5  42.496679  -71.275046   1730    MA     0     1     NaN   \n",
       "\n",
       "  ans.let.x  per.x     ans.x  qnum.y ans.let.y  per.y      ans.y  \n",
       "0         e  37.31    other     83.0         g  42.05     other   \n",
       "1         b  32.29  grandpa     83.0         a  14.65       gut   \n",
       "2         e  37.31    other     83.0         a  14.65       gut   \n",
       "3         e  37.31    other     83.0         e  36.57  blow-off   \n",
       "4       NaN    NaN       NaN    83.0         a  14.65       gut   "
      ]
     },
     "execution_count": 11,
     "metadata": {},
     "output_type": "execute_result"
    }
   ],
   "source": [
    "active.head()"
   ]
  },
  {
   "cell_type": "code",
   "execution_count": 12,
   "metadata": {
    "collapsed": false
   },
   "outputs": [],
   "source": [
    "active = active.dropna(axis=0,how='any')"
   ]
  },
  {
   "cell_type": "code",
   "execution_count": 13,
   "metadata": {
    "collapsed": true
   },
   "outputs": [],
   "source": [
    "ans71 = set(active['ans.x'])\n",
    "ans83 = set(active['ans.y'])"
   ]
  },
  {
   "cell_type": "code",
   "execution_count": 131,
   "metadata": {
    "collapsed": false
   },
   "outputs": [],
   "source": [
    "from bokeh.palettes import Set1_5,Pastel1_9"
   ]
  },
  {
   "cell_type": "code",
   "execution_count": 132,
   "metadata": {
    "collapsed": false
   },
   "outputs": [],
   "source": [
    "for i,name in enumerate(ans71):\n",
    "    answer = active[active['ans.x'] == name]\n",
    "    #print(len(answer),Dark2_7[i])\n",
    "    p.square(answer['long']+np.random.rand()/10,\n",
    "             answer['lat']+np.random.rand()/10,size = 1,fill_color=Set1_5[i],\n",
    "            line_color = Set1_5[i],\n",
    "             legend = 'Q073-'+name)"
   ]
  },
  {
   "cell_type": "code",
   "execution_count": 133,
   "metadata": {
    "collapsed": false
   },
   "outputs": [
    {
     "name": "stdout",
     "output_type": "stream",
     "text": [
      "15625 #fbb4ae\n",
      "217 #b3cde3\n",
      "1952 #ccebc5\n",
      "4048 #decbe4\n",
      "435 #fed9a6\n",
      "16461 #ffffcc\n",
      "166 #e5d8bd\n"
     ]
    }
   ],
   "source": [
    "for i,name in enumerate(ans83):\n",
    "    answer = active[active['ans.y'] == name]\n",
    "    print(len(answer),Pastel1_9[i])\n",
    "    p.square(answer['long']+ np.random.randn()/10,answer['lat']+ \n",
    "             np.random.randn()/10,size = 1,line_color=Pastel1_9[i],fill_color=Pastel1_9[i],\n",
    "             legend = 'Q083-'+name)"
   ]
  },
  {
   "cell_type": "code",
   "execution_count": 134,
   "metadata": {
    "collapsed": true
   },
   "outputs": [],
   "source": [
    "p.legend.location = \"bottom_right\"\n",
    "p.legend.click_policy=\"hide\"\n"
   ]
  },
  {
   "cell_type": "code",
   "execution_count": 135,
   "metadata": {
    "collapsed": false
   },
   "outputs": [
    {
     "name": "stderr",
     "output_type": "stream",
     "text": [
      "W-1005 (SNAPPED_TOOLBAR_ANNOTATIONS): Snapped toolbars and annotations on the same side MAY overlap visually: Figure(id='2e9f25ca-94e8-4c7d-b0dd-78c1df9607e7', ...)\n",
      "W-1005 (SNAPPED_TOOLBAR_ANNOTATIONS): Snapped toolbars and annotations on the same side MAY overlap visually: Figure(id='c8548c5c-bf03-4ca0-b739-01db00b783e1', ...)\n",
      "W-1005 (SNAPPED_TOOLBAR_ANNOTATIONS): Snapped toolbars and annotations on the same side MAY overlap visually: Figure(id='b1abb773-26f7-4e15-a2a8-1825241c4564', ...)\n",
      "W-1005 (SNAPPED_TOOLBAR_ANNOTATIONS): Snapped toolbars and annotations on the same side MAY overlap visually: Figure(id='a8f25422-6eea-4020-81e9-9565b8a8b6b9', ...)\n",
      "W-1005 (SNAPPED_TOOLBAR_ANNOTATIONS): Snapped toolbars and annotations on the same side MAY overlap visually: Figure(id='6bbc0614-b345-4398-a2fe-ca50fd852f1c', ...)\n",
      "W-1005 (SNAPPED_TOOLBAR_ANNOTATIONS): Snapped toolbars and annotations on the same side MAY overlap visually: Figure(id='f867a03d-3cfe-43e4-9849-a1fa313f33e6', ...)\n",
      "W-1005 (SNAPPED_TOOLBAR_ANNOTATIONS): Snapped toolbars and annotations on the same side MAY overlap visually: Figure(id='638823cd-07f3-46c2-b1fa-322ee419c713', ...)\n",
      "W-1005 (SNAPPED_TOOLBAR_ANNOTATIONS): Snapped toolbars and annotations on the same side MAY overlap visually: Figure(id='33a3f504-4f1c-4396-bf80-6a1577f8a3b7', ...)\n",
      "W-1005 (SNAPPED_TOOLBAR_ANNOTATIONS): Snapped toolbars and annotations on the same side MAY overlap visually: Figure(id='59a0731e-6db1-407f-94ad-52a2f287af21', ...)\n",
      "W-1005 (SNAPPED_TOOLBAR_ANNOTATIONS): Snapped toolbars and annotations on the same side MAY overlap visually: Figure(id='fd7c7b93-e1aa-4279-8cc1-82c911db2402', ...)\n",
      "W-1005 (SNAPPED_TOOLBAR_ANNOTATIONS): Snapped toolbars and annotations on the same side MAY overlap visually: Figure(id='579dc46c-551a-4006-8e98-7c34347d2330', ...)\n",
      "W-1005 (SNAPPED_TOOLBAR_ANNOTATIONS): Snapped toolbars and annotations on the same side MAY overlap visually: Figure(id='c470df60-4a83-482c-b4a5-c2c35d96cee9', ...)\n",
      "W-1005 (SNAPPED_TOOLBAR_ANNOTATIONS): Snapped toolbars and annotations on the same side MAY overlap visually: Figure(id='7b594147-7e4a-472f-a73c-34154c9f3607', ...)\n",
      "W-1005 (SNAPPED_TOOLBAR_ANNOTATIONS): Snapped toolbars and annotations on the same side MAY overlap visually: Figure(id='42972c92-ae0b-4ea4-ba96-7ded86cb7303', ...)\n",
      "W-1005 (SNAPPED_TOOLBAR_ANNOTATIONS): Snapped toolbars and annotations on the same side MAY overlap visually: Figure(id='6f2cb54c-0a01-4846-8856-323edebe9e7e', ...)\n"
     ]
    }
   ],
   "source": [
    "show(p)"
   ]
  },
  {
   "cell_type": "code",
   "execution_count": null,
   "metadata": {
    "collapsed": true
   },
   "outputs": [],
   "source": []
  }
 ],
 "metadata": {
  "anaconda-cloud": {},
  "kernelspec": {
   "display_name": "Python [conda root]",
   "language": "python",
   "name": "conda-root-py"
  },
  "language_info": {
   "codemirror_mode": {
    "name": "ipython",
    "version": 3
   },
   "file_extension": ".py",
   "mimetype": "text/x-python",
   "name": "python",
   "nbconvert_exporter": "python",
   "pygments_lexer": "ipython3",
   "version": "3.5.2"
  }
 },
 "nbformat": 4,
 "nbformat_minor": 1
}
