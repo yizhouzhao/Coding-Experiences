{
 "cells": [
  {
   "cell_type": "markdown",
   "metadata": {},
   "source": [
    "# 502. IPO\n",
    "\n",
    "heapq:\n",
    "\n",
    "https://docs.python.org/2/library/heapq.html\n",
    "\n",
    "This module provides an implementation of the heap queue algorithm, also known as the priority queue algorithm.\n",
    "\n",
    "heapq.heappush(heap, item):\n",
    "\n",
    "heapq.heappop(heap):\n",
    "\n",
    "heapq.heapify(x)\n",
    "Transform list x into a heap, in-place, in linear time.\n",
    "\n",
    "heapq.heapreplace(heap, item)\n",
    "Pop and return the smallest item from the heap, and also push the new item. The heap size doesn’t change. If the heap is empty, IndexError is raised.\n",
    "\n",
    "heapq.merge(*iterables)\n",
    "Merge multiple sorted inputs into a single sorted output (for example, merge timestamped entries from multiple log files). Returns an iterator over the sorted values.\n",
    "\n",
    "heapq.nlargest(n,iterable[,key])\n"
   ]
  },
  {
   "cell_type": "code",
   "execution_count": 33,
   "metadata": {
    "collapsed": false
   },
   "outputs": [],
   "source": [
    "import heapq\n",
    "class Solution(object):\n",
    "    '''\n",
    "    ###this solution exceed time limit\n",
    "    def findMaximizedCapital(self, k, W, Profits, Capital):\n",
    "        \"\"\"\n",
    "        :type k: int\n",
    "        :type W: int\n",
    "        :type Profits: List[int]\n",
    "        :type Capital: List[int]\n",
    "        :rtype: int\n",
    "        \"\"\"\n",
    "        n = len(Profits)\n",
    "        finish = [0 for i in range(n)]\n",
    "        \n",
    "        i = 0\n",
    "        while i < k:\n",
    "            i += 1\n",
    "            current_max = 0\n",
    "            index = 0\n",
    "            for j in range(n):\n",
    "                if finish[j] == 1:\n",
    "                    continue\n",
    "                if Capital[j] <= W and Profits[j] > current_max:\n",
    "                    current_max = Profits[j]\n",
    "                    index = j\n",
    "            finish[index] = 1\n",
    "            W += current_max\n",
    "\n",
    "        return W\n",
    "        '''\n",
    "    \n",
    "    def findMaximizedCapital(self, k, W, Profits, Capital):\n",
    "        current = []\n",
    "        \n",
    "        feasible = sorted(zip(Capital,Profits),key = lambda x : x[0], reverse = True)\n",
    "        #print(feasible)\n",
    "        for _ in range(k):\n",
    "            #print(W,current)\n",
    "            while feasible and feasible[-1][0] <= W:\n",
    "                heapq.heappush(current,-feasible.pop()[1])\n",
    "            if current:\n",
    "                W -= heapq.heappop(current)\n",
    "        \n",
    "        return W\n",
    "        "
   ]
  },
  {
   "cell_type": "code",
   "execution_count": 34,
   "metadata": {
    "collapsed": true
   },
   "outputs": [],
   "source": [
    "so = Solution()"
   ]
  },
  {
   "cell_type": "markdown",
   "metadata": {
    "collapsed": true
   },
   "source": [
    "# 352. Data Stream as Disjoint Intervals"
   ]
  },
  {
   "cell_type": "code",
   "execution_count": 27,
   "metadata": {
    "collapsed": true
   },
   "outputs": [],
   "source": [
    "import heapq\n",
    "# Definition for an interval.\n",
    "class Interval(object):\n",
    "    def __init__(self, s=0, e=0):\n",
    "        self.start = s\n",
    "        self.end = e\n",
    "\n",
    "class SummaryRanges(object):\n",
    "\n",
    "    def __init__(self):\n",
    "        \"\"\"\n",
    "        Initialize your data structure here.\n",
    "        \"\"\"\n",
    "        self.lst = []\n",
    "        \n",
    "\n",
    "    def addNum(self, val):\n",
    "        \"\"\"\n",
    "        :type val: int\n",
    "        :rtype: void\n",
    "        \"\"\"\n",
    "        if not self.lst:\n",
    "            self.lst.insert(0,val)\n",
    "        else:\n",
    "            for i in range(len(self.lst)):\n",
    "                if self.lst[i] >= val:\n",
    "                    self.lst.insert(i,val)\n",
    "                    break\n",
    "            else:\n",
    "                self.lst.append(val)\n",
    "        \n",
    "\n",
    "    def getIntervals(self):\n",
    "        \"\"\"\n",
    "        :rtype: List[Interval]\n",
    "        \"\"\"\n",
    "        print(self.lst)\n",
    "        ret = []\n",
    "        if len(self.lst) == 0: return ret\n",
    "        \n",
    "        ret.append(Interval(self.lst[0],self.lst[0]))\n",
    "        for i in self.lst:\n",
    "            if i == ret[-1].end: continue\n",
    "            elif i == ret[-1].end + 1:\n",
    "                ret[-1].end = i\n",
    "            else:\n",
    "                ret.append(Interval(i,i))\n",
    "        \n",
    "        return ret\n",
    "\n",
    "# Your SummaryRanges object will be instantiated and called as such:\n",
    "# obj = SummaryRanges()\n",
    "# obj.addNum(val)\n",
    "# param_2 = obj.getIntervals()"
   ]
  },
  {
   "cell_type": "code",
   "execution_count": 28,
   "metadata": {
    "collapsed": false
   },
   "outputs": [
    {
     "name": "stdout",
     "output_type": "stream",
     "text": [
      "[3, 6, 7]\n",
      "3 3\n",
      "6 7\n"
     ]
    }
   ],
   "source": [
    "obj = SummaryRanges()\n",
    "obj.addNum(3)\n",
    "obj.addNum(7)\n",
    "obj.addNum(6)\n",
    "param_2 = obj.getIntervals()\n",
    "for i in param_2:\n",
    "    print(i.start,i.end)"
   ]
  },
  {
   "cell_type": "markdown",
   "metadata": {
    "collapsed": true
   },
   "source": [
    "# 76. Minimum Window Substring"
   ]
  },
  {
   "cell_type": "code",
   "execution_count": 59,
   "metadata": {
    "collapsed": false
   },
   "outputs": [],
   "source": [
    "import collections\n",
    "class Solution(object):\n",
    "    def minWindow(self, s, t):\n",
    "        \"\"\"\n",
    "        :type s: str\n",
    "        :type t: str\n",
    "        :rtype: str\n",
    "        \"\"\"\n",
    "        need = collections.Counter(t)\n",
    "        miss = len(t)\n",
    "        \n",
    "        I = i = 0\n",
    "        J = -1\n",
    "        \n",
    "        for j in range(len(s)):\n",
    "            miss -= need[s[j]] > 0\n",
    "            \n",
    "            need[s[j]] -= 1\n",
    "            #print(s[j],miss,need,i,j,I,J)\n",
    "            if miss <= 0:\n",
    "                while i < j+1 and need[s[i]] < 0:\n",
    "                    need[s[i]] += 1\n",
    "                    i += 1\n",
    "                if j - i <= J - I or J == -1:\n",
    "                    I,J = i,j\n",
    "             \n",
    "            #print(\"after\",s[j],miss,need,i,j,I,J)\n",
    "        return s[I:(J+1)]\n",
    "                "
   ]
  },
  {
   "cell_type": "markdown",
   "metadata": {},
   "source": [
    "# 214. Shortest Palindrome"
   ]
  },
  {
   "cell_type": "code",
   "execution_count": 127,
   "metadata": {
    "collapsed": false
   },
   "outputs": [],
   "source": [
    "#exceed time limit\n",
    "class Solution(object):\n",
    "    def shortestPalindrome(self, s):\n",
    "        \"\"\"\n",
    "        :type s: str\n",
    "        :rtype: str\n",
    "        \"\"\"\n",
    "        \n",
    "        n = len(s)\n",
    "        M = n\n",
    "        \n",
    "        for j in range(1,n+1):\n",
    "            if self.isPalin(s[0:j]):\n",
    "                M = n - j\n",
    "                print(M,j)\n",
    "        add = s[n-M:][::-1]\n",
    "        return add + s\n",
    "            \n",
    "    def isPalin(self,ss):\n",
    "        for i in range(len(ss) // 2):\n",
    "            #print(ss[i],ss[-i-1])\n",
    "            if ss[i] != ss[-(i+1)]:\n",
    "                return False\n",
    "        return True"
   ]
  },
  {
   "cell_type": "markdown",
   "metadata": {},
   "source": [
    "# 403. Frog Jump"
   ]
  },
  {
   "cell_type": "code",
   "execution_count": 1,
   "metadata": {
    "collapsed": false
   },
   "outputs": [
    {
     "ename": "SyntaxError",
     "evalue": "invalid syntax (<ipython-input-1-ba9410b58609>, line 21)",
     "output_type": "error",
     "traceback": [
      "\u001b[0;36m  File \u001b[0;32m\"<ipython-input-1-ba9410b58609>\"\u001b[0;36m, line \u001b[0;32m21\u001b[0m\n\u001b[0;31m    if stones[j] + step in :\u001b[0m\n\u001b[0m                           ^\u001b[0m\n\u001b[0;31mSyntaxError\u001b[0m\u001b[0;31m:\u001b[0m invalid syntax\n"
     ]
    }
   ],
   "source": [
    "# exceed time limit\n",
    "class Solution(object):\n",
    "    def canCross(self, stones):\n",
    "        \"\"\"\n",
    "        :type stones: List[int]\n",
    "        :rtype: bool\n",
    "        \"\"\"\n",
    "        if not stones: return None\n",
    "        \n",
    "        n = len(stones)\n",
    "        if n == 1:\n",
    "            return True\n",
    "        if n == 2:\n",
    "            return True if stones[1] == 1 else False\n",
    "        \n",
    "        dp = [{} for i in range(len(stones))]\n",
    "        dp[0][0] = True\n",
    "        \n",
    "        for j in range(0,len(stones)-1):\n",
    "            for step in dp[j].keys():\n",
    "                if stones[j] + step in stone[i]:\n",
    "                    dp[i][step] = True\n",
    "                if stones[j] + step + 1 == stones[i]:\n",
    "                    dp[i][step + 1] = True\n",
    "                if stones[j] + step -1 == stones[i]:\n",
    "                    dp[i][step - 1] = True\n",
    "        \n",
    "        #print(dp[-1].keys())\n",
    "        if len(dp[-1].keys()) != 0:\n",
    "            return True\n",
    "        \n",
    "        return False\n",
    "                "
   ]
  },
  {
   "cell_type": "markdown",
   "metadata": {},
   "source": [
    "# 51. N-Queens"
   ]
  },
  {
   "cell_type": "code",
   "execution_count": 96,
   "metadata": {
    "collapsed": false
   },
   "outputs": [],
   "source": [
    "class Solution(object):\n",
    "    def solveNQueens(self, n):\n",
    "        \"\"\"\n",
    "        :type n: int\n",
    "        :rtype: List[List[str]]\n",
    "        \"\"\"\n",
    "        board = [['.' for i in range(n)] for j in range(n)]\n",
    "        \n",
    "        result = []\n",
    "        \n",
    "        self.fillBoard(0,0,board,result,n)\n",
    "            \n",
    "        ans  = []\n",
    "        for i in range(len(result)):\n",
    "            strlst = []\n",
    "            for line in result[i]:\n",
    "                strlst.append(\"\".join(line))\n",
    "            ans.append(strlst)\n",
    "            \n",
    "        return ans\n",
    "        \n",
    "    def fillBoard(self,i,j,board,result,left):\n",
    "        if left == 0:\n",
    "            return True\n",
    "        elif left > 0 and i == len(board):\n",
    "            return False\n",
    "        if j == len(board[0]):\n",
    "            return self.fillBoard(i+1,0,board,result,left)\n",
    "        \n",
    "        else:\n",
    "            #print(board,i,j)\n",
    "            if self.check(i,j,board):\n",
    "                #print(\"True\",i,j)\n",
    "                board[i][j] = \"Q\"\n",
    "                if self.fillBoard(i,j+1,board,result,left - 1):\n",
    "                    #print(\"next\")\n",
    "                    new_board = [[x for x in board[j]] for j in range(len(board))]\n",
    "                    result.append(new_board)\n",
    "            board[i][j] = '.'\n",
    "            self.fillBoard(i,j+1,board,result,left)\n",
    "                \n",
    "                \n",
    "    def check(self,i,j,board):\n",
    "        for x in range(len(board)):\n",
    "            for y in range(len(board[0])):\n",
    "                if board[x][y] == 'Q':\n",
    "                    if (y == j and x != i) or (y != j and x == i):\n",
    "                        return False\n",
    "                    if (x - i == y - j or i - x == y - j ) and (y != j):\n",
    "                        return False\n",
    "                \n",
    "        return True"
   ]
  },
  {
   "cell_type": "code",
   "execution_count": 97,
   "metadata": {
    "collapsed": false
   },
   "outputs": [
    {
     "data": {
      "text/plain": [
       "[['Q....', '..Q..', '....Q', '.Q...', '...Q.'],\n",
       " ['Q....', '...Q.', '.Q...', '....Q', '..Q..'],\n",
       " ['.Q...', '...Q.', 'Q....', '..Q..', '....Q'],\n",
       " ['.Q...', '....Q', '..Q..', 'Q....', '...Q.'],\n",
       " ['..Q..', 'Q....', '...Q.', '.Q...', '....Q'],\n",
       " ['..Q..', '....Q', '.Q...', '...Q.', 'Q....'],\n",
       " ['...Q.', 'Q....', '..Q..', '....Q', '.Q...'],\n",
       " ['...Q.', '.Q...', '....Q', '..Q..', 'Q....'],\n",
       " ['....Q', '.Q...', '...Q.', 'Q....', '..Q..'],\n",
       " ['....Q', '..Q..', 'Q....', '...Q.', '.Q...']]"
      ]
     },
     "execution_count": 97,
     "metadata": {},
     "output_type": "execute_result"
    }
   ],
   "source": [
    "so = Solution()\n",
    "so.solveNQueens(5)"
   ]
  },
  {
   "cell_type": "code",
   "execution_count": null,
   "metadata": {
    "collapsed": true
   },
   "outputs": [],
   "source": []
  },
  {
   "cell_type": "code",
   "execution_count": null,
   "metadata": {
    "collapsed": true
   },
   "outputs": [],
   "source": [
    "\n"
   ]
  }
 ],
 "metadata": {
  "anaconda-cloud": {},
  "kernelspec": {
   "display_name": "Python [conda root]",
   "language": "python",
   "name": "conda-root-py"
  },
  "language_info": {
   "codemirror_mode": {
    "name": "ipython",
    "version": 3
   },
   "file_extension": ".py",
   "mimetype": "text/x-python",
   "name": "python",
   "nbconvert_exporter": "python",
   "pygments_lexer": "ipython3",
   "version": "3.5.2"
  }
 },
 "nbformat": 4,
 "nbformat_minor": 1
}
