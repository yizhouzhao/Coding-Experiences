{
 "cells": [
  {
   "cell_type": "markdown",
   "metadata": {},
   "source": [
    "# 378 kth smallest Element in a Sorted Matrix\n",
    "\n",
    "\n",
    "import heapq (for heapq and piority queue)"
   ]
  },
  {
   "cell_type": "code",
   "execution_count": 9,
   "metadata": {
    "collapsed": false
   },
   "outputs": [],
   "source": [
    "from heapq import *\n",
    "class Solution(object):\n",
    "    def kthsmallest(self, matrix, k):\n",
    "        return list(heapq.merge(*matrix))[k-1]\n",
    "\n",
    "#heap = []\n",
    "#heappush(heap,0)\n",
    "#print(heappop(heap))"
   ]
  },
  {
   "cell_type": "markdown",
   "metadata": {},
   "source": [
    "# 343 integer break\n",
    "\n",
    "only 2 and 3 factor"
   ]
  },
  {
   "cell_type": "code",
   "execution_count": 13,
   "metadata": {
    "collapsed": true
   },
   "outputs": [],
   "source": [
    "class Solution(object):\n",
    "    def integerBreak(self, n):\n",
    "        \"\"\"\n",
    "        :type n: int\n",
    "        :rtype: int\n",
    "        \"\"\"\n",
    "        k = n // 3\n",
    "        r = n % 3\n",
    "        \n",
    "        if n <= 3:\n",
    "            return n-1\n",
    "        \n",
    "        if r == 2:\n",
    "            return 3**k*2\n",
    "        elif r == 1:\n",
    "            return 3**(k-1)*4\n",
    "        \n",
    "        return 3**k\n",
    "    "
   ]
  },
  {
   "cell_type": "markdown",
   "metadata": {},
   "source": [
    "# 454. 4Sum II\n",
    "\n",
    "counter collection\n",
    "\n",
    "c = Counter({}) %创建新的计数器\n",
    "\n",
    "c.update({})"
   ]
  },
  {
   "cell_type": "code",
   "execution_count": 17,
   "metadata": {
    "collapsed": true
   },
   "outputs": [],
   "source": [
    "from collections import Counter\n",
    "\n",
    "class Solution(object):\n",
    "    def fourSumCount(self, A, B, C, D):\n",
    "        \"\"\"\n",
    "        :type A: List[int]\n",
    "        :type B: List[int]\n",
    "        :type C: List[int]\n",
    "        :type D: List[int]\n",
    "        :rtype: int\n",
    "        \"\"\"\n",
    "        AB = collections.Counter(a+b for a in A for b in B)\n",
    "        return sum(AB[-c-d] for c in C for d in D)"
   ]
  },
  {
   "cell_type": "markdown",
   "metadata": {
    "collapsed": true
   },
   "source": [
    "# 94. inorder traversal\n",
    "\n",
    "preorder(node)\n",
    "  if (node = null)\n",
    "    return\n",
    "  visit(node)\n",
    "  preorder(node.left)\n",
    "  preorder(node.right)\n",
    "\n",
    "inorder(node)\n",
    "  if (node = null)\n",
    "    return\n",
    "  inorder(node.left)\n",
    "  visit(node)\n",
    "  inorder(node.right)\n",
    "  \n",
    "postorder(node)\n",
    "  if (node = null)\n",
    "    return\n",
    "  postorder(node.left)\n",
    "  postorder(node.right)\n",
    "  visit(node)"
   ]
  },
  {
   "cell_type": "code",
   "execution_count": 5,
   "metadata": {
    "collapsed": true
   },
   "outputs": [],
   "source": [
    "#Definition of Binary tree\n",
    "class TreeNode():\n",
    "    def __init__(self,x):\n",
    "        self.val = x\n",
    "        self.left = None\n",
    "        self.right = None\n",
    "        \n",
    "class Solution(object):\n",
    "    def inorderTraversal(self, root):\n",
    "        \"\"\"\n",
    "        :type root: TreeNode\n",
    "        :rtype: List[int]\n",
    "        \"\"\"\n",
    "        ret = []\n",
    "        self.inorder(ret, root)\n",
    "        return ret\n",
    "    \n",
    "    def inorder(self,lst,root):\n",
    "        if root:\n",
    "            self.inorder(lst,root.left)\n",
    "            lst.append(root.val)\n",
    "            self.inorder(lst,root.right)   \n",
    "        return"
   ]
  },
  {
   "cell_type": "code",
   "execution_count": 9,
   "metadata": {
    "collapsed": false
   },
   "outputs": [
    {
     "data": {
      "text/plain": [
       "[1, 3, 2]"
      ]
     },
     "execution_count": 9,
     "metadata": {},
     "output_type": "execute_result"
    }
   ],
   "source": [
    "So = Solution()\n",
    "T0 = TreeNode(1)\n",
    "T1 = TreeNode(2)\n",
    "T2 = TreeNode(3)\n",
    "T1.left = T2\n",
    "T0.right = T1\n",
    "So.inorderTraversal(T0)"
   ]
  },
  {
   "cell_type": "markdown",
   "metadata": {},
   "source": [
    "# 494. Target Sum\n",
    "\n",
    "Hasmap:\n",
    "\n",
    "Python Dict:\n",
    "\n",
    "dict = {\"a\" : \"apple\", \"b\" : \"banana\", \"g\" : \"grape\", \"o\" : \"orange\"}\n",
    "\n",
    "dict.keys(); dict.values()\n",
    "\n",
    "dict.pop(\"a\")\n",
    "\n",
    "dict.get(\"a\",0)"
   ]
  },
  {
   "cell_type": "code",
   "execution_count": 16,
   "metadata": {
    "collapsed": true
   },
   "outputs": [],
   "source": [
    "# this answer exceed time limit\n",
    "class Solution(object):\n",
    "    def findTargetSumWays(self, nums, S):\n",
    "        \"\"\"\n",
    "        :type nums: List[int]\n",
    "        :type S: int\n",
    "        :rtype: int\n",
    "        \"\"\"\n",
    "        l = len(nums)\n",
    "        count = 0\n",
    "        for i in range(2**l):\n",
    "            if S == self.getSum(nums,i): count += 1\n",
    "        \n",
    "        return count\n",
    "        \n",
    "    def getSum(self,nums, binary):\n",
    "        s = 0\n",
    "        for i in range(len(nums)):\n",
    "            if binary & 1:\n",
    "                s += nums[i]\n",
    "            else:\n",
    "                s -= nums[i]\n",
    "            binary >>= 1\n",
    "        return s"
   ]
  },
  {
   "cell_type": "code",
   "execution_count": 26,
   "metadata": {
    "collapsed": false
   },
   "outputs": [],
   "source": [
    "# A new Approach\n",
    "class Solution(object):\n",
    "    def findTargetSumWays(self, nums, S):\n",
    "        \"\"\"\n",
    "        :type nums: List[int]\n",
    "        :type S: int\n",
    "        :rtype: int\n",
    "        \"\"\"\n",
    "        if not nums:\n",
    "            return 0\n",
    "        \n",
    "        dic = {nums[0]:1,-nums[0]:1} if nums[0] != 0 else {0:2}\n",
    "        \n",
    "        for i in range(1,len(nums)):\n",
    "            newdict = {}\n",
    "            for d in dic.keys():\n",
    "                newdict[d + nums[i]] = newdict.get(d + nums[i],0) + dic.get(d,0)\n",
    "                newdict[d - nums[i]] = newdict.get(d - nums[i],0) + dic.get(d,0)\n",
    "            dic = newdict\n",
    "        \n",
    "        return dic.get(S,0)"
   ]
  },
  {
   "cell_type": "markdown",
   "metadata": {},
   "source": [
    "# 392. Is Subsequence\n",
    "\n",
    "Iteration: 过时不候！\n",
    "a = [1,2,3,4,5]\n",
    "\n",
    "b = iter(a)\n",
    "\n",
    "print 1 in b #True\n",
    "\n",
    "print b.next() #2\n",
    "\n",
    "print 1 in b #False\n",
    "\n",
    "print b.next() #StopIteration \n",
    "\n",
    "all function :判断list是否都对"
   ]
  },
  {
   "cell_type": "code",
   "execution_count": 32,
   "metadata": {
    "collapsed": false
   },
   "outputs": [],
   "source": [
    "class Solution(object):\n",
    "    def isSubsequence(self, s, t):\n",
    "        \"\"\"\n",
    "        :type s: str\n",
    "        :type t: str\n",
    "        :rtype: bool\n",
    "        \"\"\"\n",
    "        t = iter(t)\n",
    "        return all(c in t for c in s)"
   ]
  },
  {
   "cell_type": "markdown",
   "metadata": {
    "collapsed": true
   },
   "source": [
    "# 12. Integer to Roman"
   ]
  },
  {
   "cell_type": "code",
   "execution_count": 34,
   "metadata": {
    "collapsed": false
   },
   "outputs": [],
   "source": [
    "class Solution(object):\n",
    "    def intToRoman(self, num):\n",
    "        \"\"\"\n",
    "        :type num: int\n",
    "        :rtype: str\n",
    "        \"\"\"\n",
    "        M = {i:j for (i,j) in zip(range(4),(\"\",\"M\",\"MM\",\"MMM\"))}\n",
    "        C = {i:j for i, j in zip(range(10),(\"\", \"C\", \"CC\", \"CCC\", \"CD\", \"D\", \"DC\", \"DCC\", \"DCCC\", \"CM\"))}\n",
    "        X = {i:j for i,j in zip(range(10),(\"\", \"X\", \"XX\", \"XXX\", \"XL\", \"L\", \"LX\", \"LXX\", \"LXXX\", \"XC\"))}\n",
    "        I = {i:j for i,j in zip(range(10),(\"\", \"I\", \"II\", \"III\", \"IV\", \"V\", \"VI\", \"VII\", \"VIII\", \"IX\"))}\n",
    "        return M[num // 1000] + C[(num%1000)// 100] + X[(num%100)//10] + I[num%10]"
   ]
  },
  {
   "cell_type": "markdown",
   "metadata": {},
   "source": [
    "# 287. Find the Duplicate Number\n",
    "\n",
    "https://en.wikipedia.org/wiki/Cycle_detection\n",
    "\n",
    "Cycle detection"
   ]
  },
  {
   "cell_type": "markdown",
   "metadata": {
    "collapsed": true
   },
   "source": [
    "# 516. Longest Palindromic Subsequence"
   ]
  },
  {
   "cell_type": "code",
   "execution_count": 8,
   "metadata": {
    "collapsed": false
   },
   "outputs": [],
   "source": [
    "class Solution(object):\n",
    "    def longestPalindromeSubseq(self, s):\n",
    "        \"\"\"\n",
    "        :type s: str\n",
    "        :rtype: int\n",
    "        \"\"\"\n",
    "        n = len(s)\n",
    "        a = [[0 for col in range(n)] for row in range(n)]\n",
    "        \n",
    "        for i in range(n): a[i][i] = 1\n",
    "        \n",
    "        return self.helper(a,0,n-1,s) \n",
    "        \n",
    "        \n",
    "    def helper(self,a,i,j,s):\n",
    "        if i > j or a[i][j] != 0: \n",
    "            return a[i][j]\n",
    "        if s[i] == s[j]:\n",
    "            a[i][j] = self.helper(a,i+1,j-1,s) + 2\n",
    "        else:\n",
    "            a[i][j] = max(self.helper(a,i,j-1,s),self.helper(a,i+1,j,s))\n",
    "        return a[i][j]"
   ]
  },
  {
   "cell_type": "code",
   "execution_count": 9,
   "metadata": {
    "collapsed": true
   },
   "outputs": [],
   "source": [
    "so = Solution()"
   ]
  },
  {
   "cell_type": "code",
   "execution_count": 11,
   "metadata": {
    "collapsed": false
   },
   "outputs": [
    {
     "data": {
      "text/plain": [
       "4"
      ]
     },
     "execution_count": 11,
     "metadata": {},
     "output_type": "execute_result"
    }
   ],
   "source": [
    "so.longestPalindromeSubseq(\"bbbab\")"
   ]
  },
  {
   "cell_type": "markdown",
   "metadata": {},
   "source": [
    "# 257. Binary Tree Paths"
   ]
  },
  {
   "cell_type": "code",
   "execution_count": 1,
   "metadata": {
    "collapsed": true
   },
   "outputs": [],
   "source": [
    "#Definition for a binary tree node.\n",
    "class TreeNode(object):\n",
    "    def __init__(self, x):\n",
    "        self.val = x\n",
    "        self.left = None\n",
    "        self.right = None\n",
    "\n",
    "class Solution(object):\n",
    "    def binaryTreePaths(self, root):\n",
    "        \"\"\"\n",
    "        :type root: TreeNode\n",
    "        :rtype: List[str]\n",
    "        \"\"\"\n",
    "        res = []\n",
    "        stack = [(root,\"\")]\n",
    "        while stack:\n",
    "            node, current = stack.pop()\n",
    "            print(node.val,current)\n",
    "            if node.left == None and node.right == None:\n",
    "                res.append(current+str(node.val))\n",
    "            if node.right:\n",
    "                stack.append((node.right, current + str(node.val) + \"->\"))\n",
    "            if node.left:\n",
    "                stack.append((node.left, current + str(node.val) + \"->\"))\n",
    "                \n",
    "        return res\n",
    "        "
   ]
  },
  {
   "cell_type": "code",
   "execution_count": 3,
   "metadata": {
    "collapsed": false
   },
   "outputs": [
    {
     "name": "stdout",
     "output_type": "stream",
     "text": [
      "1 \n",
      "2 1->\n",
      "5 1->2->\n",
      "3 1->\n"
     ]
    },
    {
     "data": {
      "text/plain": [
       "['1->2->5', '1->3']"
      ]
     },
     "execution_count": 3,
     "metadata": {},
     "output_type": "execute_result"
    }
   ],
   "source": [
    "root = TreeNode(1)\n",
    "t1 = TreeNode(2)\n",
    "t2 = TreeNode(3)\n",
    "t4 = TreeNode(5)\n",
    "t1.right = t4\n",
    "root.left = t1\n",
    "root.right = t2\n",
    "so = Solution()\n",
    "so.binaryTreePaths(root)"
   ]
  },
  {
   "cell_type": "markdown",
   "metadata": {},
   "source": [
    "# 452. Minimum Number of Arrows to Burst Balloons"
   ]
  },
  {
   "cell_type": "code",
   "execution_count": 33,
   "metadata": {
    "collapsed": true
   },
   "outputs": [],
   "source": [
    "class Solution(object):\n",
    "    def findMinArrowShots(self, points):\n",
    "        \"\"\"\n",
    "        :type points: List[List[int]]\n",
    "        :rtype: int\n",
    "        \"\"\"\n",
    "        \n",
    "        if not points: return 0\n",
    "        \n",
    "        n = len(points)\n",
    "        \n",
    "        if n == 1: return 1\n",
    "        \n",
    "        points = sorted(points, key = lambda x: x[0])\n",
    "        \n",
    "        res = 1\n",
    "        last_shoot = points[0][1]\n",
    "        for i in range(1,n):\n",
    "            if points[i][0] <= last_shoot:\n",
    "                last_shoot = min(last_shoot,points[i][1])\n",
    "            else:\n",
    "                res += 1\n",
    "                last_shoot = points[i][1]\n",
    "        \n",
    "        return res"
   ]
  },
  {
   "cell_type": "markdown",
   "metadata": {},
   "source": [
    "# 39. Combination Sum"
   ]
  },
  {
   "cell_type": "code",
   "execution_count": 37,
   "metadata": {
    "collapsed": true
   },
   "outputs": [],
   "source": [
    "class Solution(object):\n",
    "    def combinationSum(self, candidates, target):\n",
    "        \"\"\"\n",
    "        :type candidates: List[int]\n",
    "        :type target: int\n",
    "        :rtype: List[List[int]]\n",
    "        \"\"\"\n",
    "        res = []\n",
    "        candidates.sort()\n",
    "        self.helper(candidates,target,0,[],res)\n",
    "        return res\n",
    "        \n",
    "    def helper(self,nums,target,index,current_path,res):\n",
    "        if target < 0:\n",
    "            return\n",
    "        elif target == 0:\n",
    "            res.append(current_path)\n",
    "            return\n",
    "        else:\n",
    "            for i in range(index,len(nums)):\n",
    "                self.helper(nums,target-nums[i],i,current_path+[nums[i]],res)\n",
    "        "
   ]
  },
  {
   "cell_type": "markdown",
   "metadata": {},
   "source": [
    "# 128. Longest Consecutive Sequence"
   ]
  },
  {
   "cell_type": "code",
   "execution_count": 38,
   "metadata": {
    "collapsed": true
   },
   "outputs": [],
   "source": [
    "class Solution(object):\n",
    "    def longestConsecutive(self, nums):\n",
    "        nums = set(nums)\n",
    "        best = 0\n",
    "        for x in nums:\n",
    "            if x - 1 not in nums:\n",
    "                y = x + 1\n",
    "                while y in nums:\n",
    "                    y += 1\n",
    "                best = max(best, y - x)\n",
    "        return best"
   ]
  },
  {
   "cell_type": "markdown",
   "metadata": {},
   "source": [
    "# 56. Merge Intervals"
   ]
  },
  {
   "cell_type": "code",
   "execution_count": 40,
   "metadata": {
    "collapsed": true
   },
   "outputs": [],
   "source": [
    "# Definition for an interval.\n",
    "class Interval(object):\n",
    "    def __init__(self, s=0, e=0):\n",
    "        self.start = s\n",
    "        self.end = e\n",
    "\n",
    "class Solution(object):\n",
    "    def merge(self, intervals):\n",
    "        \"\"\"\n",
    "        :type intervals: List[Interval]\n",
    "        :rtype: List[Interval]\n",
    "        \"\"\"\n",
    "        n = len(intervals)\n",
    "        mg_lst = []\n",
    "        if n == 0: return mg_lst\n",
    "        if n == 1: return [intervals[0].start,intervals[0].end]\n",
    "        \n",
    "        intervals.sort(key = lambda x: x[0])\n",
    "        mg_lst.append([intervals[0].start,intervals[0].end])\n",
    "        index = 0\n",
    "        \n",
    "        for i in range(1,n):\n",
    "            if intervals[i].start < mg_lst[index][1]:\n",
    "                mg_lst[index][1] = max(mg_lst[index][1],intervals[i].end)\n",
    "            else:\n",
    "                mg_lst.append([intervals[i].start,intervals[i].end])\n",
    "                index += 1\n",
    "        \n",
    "        return mg_lst"
   ]
  },
  {
   "cell_type": "markdown",
   "metadata": {},
   "source": [
    "# 10. Regular Expression Matching"
   ]
  },
  {
   "cell_type": "code",
   "execution_count": 42,
   "metadata": {
    "collapsed": true
   },
   "outputs": [],
   "source": [
    "class Solution(object):\n",
    "    def isMatch(self, s, p):\n",
    "        \"\"\"\n",
    "        :type s: str\n",
    "        :type p: str\n",
    "        :rtype: bool\n",
    "        \"\"\"\n",
    "        #????\n",
    "        #????\n",
    "        "
   ]
  },
  {
   "cell_type": "markdown",
   "metadata": {},
   "source": [
    "# 36. Valid Sudoku"
   ]
  },
  {
   "cell_type": "code",
   "execution_count": 51,
   "metadata": {
    "collapsed": false
   },
   "outputs": [],
   "source": [
    "class Solution(object):\n",
    "    def isValidSudoku(self, board):\n",
    "        \"\"\"\n",
    "        :type board: List[List[str]]\n",
    "        :rtype: bool\n",
    "        \"\"\"\n",
    "        usedr = [[0 for i in range(9)] for j in range(9)]\n",
    "        usedc = [[0 for i in range(9)] for j in range(9)]\n",
    "        usedb = [[0 for i in range(9)] for j in range(9)]\n",
    "        \n",
    "        for i in range(9):\n",
    "            for j in range(9):\n",
    "                if board[i][j] != '.':\n",
    "                    num = ord(board[i][j]) - ord(\"0\") - 1\n",
    "                    k = i // 3 * 3 + j // 3\n",
    "                    if usedr[i][num] or usedc[j][num] or usedb[k][num]:\n",
    "                        return False\n",
    "                    usedr[i][num] = usedc[j][num] = usedb[k][num] = 1\n",
    "        return True"
   ]
  },
  {
   "cell_type": "code",
   "execution_count": 49,
   "metadata": {
    "collapsed": false
   },
   "outputs": [
    {
     "data": {
      "text/plain": [
       "9"
      ]
     },
     "execution_count": 49,
     "metadata": {},
     "output_type": "execute_result"
    }
   ],
   "source": [
    "ord(\"9\")-ord(\"0\")"
   ]
  },
  {
   "cell_type": "markdown",
   "metadata": {
    "collapsed": true
   },
   "source": [
    "# 435. Non-overlapping Intervals"
   ]
  },
  {
   "cell_type": "code",
   "execution_count": 2,
   "metadata": {
    "collapsed": true
   },
   "outputs": [],
   "source": [
    "# Definition for an interval.\n",
    "class Interval(object):\n",
    "    def __init__(self, s=0, e=0):\n",
    "        self.start = s\n",
    "        self.end = e\n",
    "\n",
    "class Solution(object):\n",
    "    def eraseOverlapIntervals(self, intervals):\n",
    "        \"\"\"\n",
    "        :type intervals: List[Interval]\n",
    "        :rtype: int\n",
    "        \"\"\"\n",
    "        #skip \n",
    "        #the same as merge intervals above"
   ]
  },
  {
   "cell_type": "markdown",
   "metadata": {},
   "source": [
    "# 417. Pacific Atlantic Water Flow"
   ]
  },
  {
   "cell_type": "code",
   "execution_count": 4,
   "metadata": {
    "collapsed": true
   },
   "outputs": [],
   "source": [
    "class Solution(object):\n",
    "    def pacificAtlantic(self, matrix):\n",
    "        \"\"\"\n",
    "        :type matrix: List[List[int]]\n",
    "        :rtype: List[List[int]]\n",
    "        \"\"\"\n",
    "        if not matrix: return []\n",
    "        \n",
    "        m = len(matrix)\n",
    "        n = len(matrix[0])\n",
    "        \n",
    "        paci = [[0 for col in range(n)] for row in range(m)]\n",
    "        antl = [[0 for col in range(n)] for row in range(m)]\n",
    "        \n",
    "        for i in range(n):\n",
    "            paci[0][i] = 1\n",
    "            antl[m-1][i] = 1\n",
    "        \n",
    "        for i in range(m):\n",
    "            paci[i][0] = 1\n",
    "            antl[i][n-1] = 1\n",
    "            \n",
    "        self.addpacific(matrix,paci)\n",
    "        self.addpacific(matrix,antl)\n",
    "        \n",
    "        res = []\n",
    "        for i in range(m):\n",
    "            for j in range(n):\n",
    "                if paci[i][j] == 1 and antl[i][j] == 1:\n",
    "                    res.append([i,j])\n",
    "                    \n",
    "    \n",
    "        return res\n",
    "        \n",
    "    def addpacific(self,matrix,paci):\n",
    "        has_new = 0\n",
    "        for i in range(len(paci)):\n",
    "            for j in range(len(paci[0])):\n",
    "                if paci[i][j] == 0:\n",
    "                    if i > 0 and paci[i-1][j] == 1 and matrix[i-1][j] < matrix[i][j]:\n",
    "                        has_new = 1\n",
    "                        paci[i][j] = 1\n",
    "                    elif j > 0 and paci[i][j-1] == 1 and matrix[i][j-1] < matrix[i][j]:\n",
    "                        has_new = 1\n",
    "                        paci[i][j] = 1\n",
    "                    elif i < len(paci)-1 and paci[i+1][j] == 1 and matrix[i+1][j] < matrix[i][j]:\n",
    "                        has_new = 1\n",
    "                        paci[i][j] = 1\n",
    "                    elif j < len(paci[0])-1 and paci[i][j+1] == 1 and matrix[i][j+1] < matrix[i][j]:\n",
    "                        has_new = 1\n",
    "                        paci[i][j] = 1\n",
    "        \n",
    "        if has_new:\n",
    "            self.addpacific(matrix,paci)\n",
    "        \n",
    "        return"
   ]
  },
  {
   "cell_type": "markdown",
   "metadata": {},
   "source": [
    "# 514. Freedom Trail"
   ]
  },
  {
   "cell_type": "code",
   "execution_count": 18,
   "metadata": {
    "collapsed": false
   },
   "outputs": [],
   "source": [
    "'''\n",
    "#exceed time limit\n",
    "\n",
    "class Solution(object):\n",
    "    def findRotateSteps(self, ring, key):\n",
    "        self.n = len(ring)\n",
    "        self.m = len(key)\n",
    "        \"\"\"\n",
    "        :type ring: str\n",
    "        :type key: str\n",
    "        :rtype: int\n",
    "        \"\"\"\n",
    "        return self.DP(ring,key,0,0,0)\n",
    "        \n",
    "    def DP(self,ring,key,ir,ik, steps):\n",
    "        m = self.m\n",
    "        n = self.n\n",
    "        if m <= ik:\n",
    "            return steps\n",
    "        \n",
    "        clockwise = n\n",
    "        for i in range(n):\n",
    "            if ring[(i+ir) % n] == key[ik]:\n",
    "                clockwise = i\n",
    "                break\n",
    "        \n",
    "        anticlock = n\n",
    "        for i in range(n):\n",
    "            if ring[(ir-i) % n] == key[ik]:\n",
    "                anticlock = i\n",
    "                break\n",
    "                \n",
    "        return min(self.DP(ring, key, (ir+clockwise) % n, ik+1, steps + clockwise + 1),\\\n",
    "                   self.DP(ring, key, (ir-anticlock) % n, ik+1, steps + anticlock + 1))\n",
    "'''"
   ]
  },
  {
   "cell_type": "markdown",
   "metadata": {},
   "source": [
    "# 98. Validate Binary Search Tree"
   ]
  },
  {
   "cell_type": "code",
   "execution_count": 2,
   "metadata": {
    "collapsed": true
   },
   "outputs": [],
   "source": [
    "# Definition for a binary tree node.\n",
    "class TreeNode(object):\n",
    "    def __init__(self, x):\n",
    "        self.val = x\n",
    "        self.left = None\n",
    "        self.right = None\n",
    "\n",
    "class Solution(object):\n",
    "    def isValidBST(self, root):\n",
    "        \"\"\"\n",
    "        :type root: TreeNode\n",
    "        :rtype: bool\n",
    "        \"\"\"\n",
    "        stack = []\n",
    "        cur = root\n",
    "        pre = None\n",
    "        \n",
    "        while stack or cur :\n",
    "            if cur:\n",
    "                stack.append(cur)\n",
    "                cur = cur.left\n",
    "            else:\n",
    "                t = stack.pop()\n",
    "                if pre and t.val < pre.val:\n",
    "                    return False\n",
    "                pre = t\n",
    "                cur = t.right\n",
    "        \n",
    "        return True"
   ]
  },
  {
   "cell_type": "markdown",
   "metadata": {},
   "source": [
    "# 147. Insertion Sort List"
   ]
  },
  {
   "cell_type": "code",
   "execution_count": 1,
   "metadata": {
    "collapsed": false
   },
   "outputs": [
    {
     "ename": "SyntaxError",
     "evalue": "unexpected EOF while parsing (<ipython-input-1-f397381a59d7>, line 22)",
     "output_type": "error",
     "traceback": [
      "\u001b[0;36m  File \u001b[0;32m\"<ipython-input-1-f397381a59d7>\"\u001b[0;36m, line \u001b[0;32m22\u001b[0m\n\u001b[0;31m    \u001b[0m\n\u001b[0m    ^\u001b[0m\n\u001b[0;31mSyntaxError\u001b[0m\u001b[0;31m:\u001b[0m unexpected EOF while parsing\n"
     ]
    }
   ],
   "source": [
    "# Definition for singly-linked list.\n",
    "class ListNode(object):\n",
    "    def __init__(self, x):\n",
    "        self.val = x\n",
    "        self.next = None\n",
    "\n",
    "class Solution(object):\n",
    "    def insertionSortList(self, head):\n",
    "        \"\"\"\n",
    "        :type head: ListNode\n",
    "        :rtype: ListNode\n",
    "        \"\"\"\n",
    "        if not head:\n",
    "            return None\n",
    "        \n",
    "        p = head\n",
    "        \n",
    "        nlist = ListNode(0)\n",
    "        k = n\n",
    "        \n",
    "        while p.next != None:\n",
    "            "
   ]
  },
  {
   "cell_type": "markdown",
   "metadata": {},
   "source": [
    "# 322. Coin Change"
   ]
  },
  {
   "cell_type": "code",
   "execution_count": 2,
   "metadata": {
    "collapsed": false
   },
   "outputs": [
    {
     "ename": "SyntaxError",
     "evalue": "unexpected EOF while parsing (<ipython-input-2-2d49207f0dd9>, line 12)",
     "output_type": "error",
     "traceback": [
      "\u001b[0;36m  File \u001b[0;32m\"<ipython-input-2-2d49207f0dd9>\"\u001b[0;36m, line \u001b[0;32m12\u001b[0m\n\u001b[0;31m    \u001b[0m\n\u001b[0m    ^\u001b[0m\n\u001b[0;31mSyntaxError\u001b[0m\u001b[0;31m:\u001b[0m unexpected EOF while parsing\n"
     ]
    }
   ],
   "source": [
    "class Solution():\n",
    "    def coinChange(self, coins, amount):\n",
    "        if amount == 0: return 0\n",
    "        \n",
    "        visited = [0 for i in range(amount+1)]\n",
    "        visited[0] = 1\n",
    "        \n",
    "        num = 0\n",
    "        c_visit = [0]\n",
    "        n_visit = []\n",
    "        \n",
    "        while c_visit:\n",
    "            num += 1\n",
    "            for v in c_visit:\n",
    "                for coin in coins:\n",
    "                    new_val = v + coin\n",
    "                    if new_val == amount:\n",
    "                        return num\n",
    "                    elif new_val > amount:\n",
    "                        continue\n",
    "                    elif visited[new_val] == 0:\n",
    "                        visited[new_val] = 1\n",
    "                        n_visit.append(new_val)\n",
    "            \n",
    "            c_visit = n_visit\n",
    "            n_visit = []\n",
    "            \n",
    "        return -1"
   ]
  },
  {
   "cell_type": "markdown",
   "metadata": {
    "collapsed": true
   },
   "source": [
    "# 55. Jump Game"
   ]
  },
  {
   "cell_type": "code",
   "execution_count": 13,
   "metadata": {
    "collapsed": true
   },
   "outputs": [],
   "source": [
    "'''Exceed time limit\n",
    "class Solution(object):\n",
    "    def canJump(self, nums):\n",
    "        \"\"\"\n",
    "        :type nums: List[int]\n",
    "        :rtype: bool\n",
    "        \"\"\"\n",
    "        n = len(nums)\n",
    "        if n == 0: return None\n",
    "        if n == 1: return True\n",
    "        \n",
    "        visited = [0 for i in range(n)]\n",
    "        visited[0] = 1\n",
    "        \n",
    "        c_visit = [0]\n",
    "        n_visit = []\n",
    "        \n",
    "        while c_visit:\n",
    "            #print(c_visit)\n",
    "            for posi in c_visit:\n",
    "                for step in range(nums[posi]+1):\n",
    "                    #print(step,nums[posi])\n",
    "                    new_posi = posi + step\n",
    "                    if new_posi == n-1:\n",
    "                        return True\n",
    "                    elif new_posi > n-1:\n",
    "                        continue\n",
    "                    elif visited[new_posi] == 0:\n",
    "                        visited[new_posi] = 1\n",
    "                        n_visit.append(new_posi)\n",
    "            \n",
    "            c_visit = n_visit\n",
    "            n_visit = []\n",
    "        \n",
    "        return False\n",
    "'''\n",
    "class Solution(object):\n",
    "    def canJump(self, nums):\n",
    "        reachable = 0\n",
    "        for i in range(len(nums)):\n",
    "            if i > reachable:\n",
    "                return False\n",
    "            reachable = max(reachable,nums[i] + i)\n",
    "        \n",
    "        return True"
   ]
  },
  {
   "cell_type": "markdown",
   "metadata": {},
   "source": [
    "# 187. Repeated DNA Sequences"
   ]
  },
  {
   "cell_type": "code",
   "execution_count": 37,
   "metadata": {
    "collapsed": false
   },
   "outputs": [],
   "source": [
    "class Solution(object):\n",
    "    def findRepeatedDnaSequences(self, s):\n",
    "        \"\"\"\n",
    "        :type s: str\n",
    "        :rtype: List[str]\n",
    "        \"\"\"\n",
    "        dic = {}\n",
    "        ans = []\n",
    "        \n",
    "        for i in range(0,len(s)-9):\n",
    "            #print(i,i+10,s[i:i+10])\n",
    "            dic[s[i:i+10]] = dic.get(s[i:i+10],0) + 1\n",
    "        \n",
    "        #print(dic)\n",
    "        for item in dic.items():\n",
    "            #print(item)\n",
    "            if item[1] > 1:\n",
    "                ans.append(item[0])\n",
    "                \n",
    "        return ans"
   ]
  },
  {
   "cell_type": "markdown",
   "metadata": {},
   "source": [
    "# 134. Gas Station\n",
    "\n",
    "#nice solution from discussion"
   ]
  },
  {
   "cell_type": "code",
   "execution_count": 39,
   "metadata": {
    "collapsed": true
   },
   "outputs": [],
   "source": [
    "class Solution:\n",
    "    # @param gas, a list of integers\n",
    "    # @param cost, a list of integers\n",
    "    # @return an integer\n",
    "    def canCompleteCircuit(self, gas, cost):\n",
    "        gas_left = gas_needed = start = 0\n",
    "        for i, (g, c) in enumerate(zip(gas, cost)):\n",
    "            gas_left += g - c\n",
    "            if gas_left < 0:\n",
    "                gas_needed -= gas_left\n",
    "                start = i + 1\n",
    "                gas_left = 0\n",
    "        return start if gas_left >= gas_needed else -1"
   ]
  },
  {
   "cell_type": "markdown",
   "metadata": {},
   "source": [
    "# 4. Search a 2D Matrix"
   ]
  },
  {
   "cell_type": "code",
   "execution_count": 41,
   "metadata": {
    "collapsed": true
   },
   "outputs": [],
   "source": [
    "class Solution(object):\n",
    "    def searchMatrix(self, matrix, target):\n",
    "        n = len(matrix[0])\n",
    "        lo, hi = 0, len(matrix) * n\n",
    "        while lo < hi:\n",
    "            mid = (lo + hi) / 2\n",
    "            x = matrix[mid/n][mid%n]\n",
    "            if x < target:\n",
    "                lo = mid + 1\n",
    "            elif x > target:\n",
    "                hi = mid\n",
    "            else:\n",
    "                return True\n",
    "        return False\n"
   ]
  },
  {
   "cell_type": "markdown",
   "metadata": {},
   "source": [
    "# 472. Concatenated Words"
   ]
  },
  {
   "cell_type": "code",
   "execution_count": 1,
   "metadata": {
    "collapsed": true
   },
   "outputs": [],
   "source": [
    "class Solution(object):\n",
    "    def findAllConcatenatedWordsInADict(self, words):\n",
    "        \"\"\"\n",
    "        :type words: List[str]\n",
    "        :rtype: List[str]\n",
    "        \"\"\"\n",
    "        "
   ]
  },
  {
   "cell_type": "code",
   "execution_count": 3,
   "metadata": {
    "collapsed": true
   },
   "outputs": [],
   "source": [
    "#Definition for singly-linked list.\n",
    "class ListNode(object):\n",
    "    def __init__(self, x):\n",
    "        self.val = x\n",
    "        self.next = None\n",
    "        \n",
    "class Solution(object):\n",
    "    def swapPairs(self, head):\n",
    "        \"\"\"\n",
    "        :type head: ListNode\n",
    "        :rtype: ListNode\n",
    "        \"\"\"\n",
    "        pseudo = ListNode(0)\n",
    "        pseudo.next = head\n",
    "        p = pseudo\n",
    "        \n",
    "        while p.next and p.next.next:\n",
    "            a = p.next\n",
    "            b = a.next\n",
    "            p.next = b\n",
    "            a.next = b.next\n",
    "            b.next = a\n",
    "            p = a\n",
    "            \n",
    "        return pseudo.next"
   ]
  },
  {
   "cell_type": "markdown",
   "metadata": {
    "collapsed": true
   },
   "source": [
    "# 423. Reconstruct Original Digits from English"
   ]
  },
  {
   "cell_type": "code",
   "execution_count": 14,
   "metadata": {
    "collapsed": false
   },
   "outputs": [
    {
     "ename": "IndentationError",
     "evalue": "expected an indented block (<ipython-input-14-94ee78303449>, line 17)",
     "output_type": "error",
     "traceback": [
      "\u001b[0;36m  File \u001b[0;32m\"<ipython-input-14-94ee78303449>\"\u001b[0;36m, line \u001b[0;32m17\u001b[0m\n\u001b[0;31m    def issub(self,s,word):\u001b[0m\n\u001b[0m    ^\u001b[0m\n\u001b[0;31mIndentationError\u001b[0m\u001b[0;31m:\u001b[0m expected an indented block\n"
     ]
    }
   ],
   "source": [
    "# Not complete\n",
    "class Solution(object):\n",
    "    def originalDigits(self, s):\n",
    "        \"\"\"\n",
    "        :type s: str\n",
    "        :rtype: str\n",
    "        \"\"\"\n",
    "        numbers = [\"zero\",\"one\",\"two\",\"three\",\"four\",\"five\",\"six\",\"seven\",\"eight\",\"nine\"]\n",
    "        ret = []\n",
    "        \n",
    "        dic = {i:0 for i in numbers}\n",
    "        n_s = \"\".join(sorted(s))\n",
    "        \n",
    "        for i in range(len(numbers)):\n",
    "            \n",
    "        \n",
    "    def issub(self,s,word):\n",
    "\n",
    "        it = iter(\"\".join(sorted(s)))\n",
    "        \n",
    "        return all([i in it for i in \"\".join(sorted(word))])"
   ]
  },
  {
   "cell_type": "markdown",
   "metadata": {},
   "source": [
    "# 300. Longest Increasing Subsequence"
   ]
  },
  {
   "cell_type": "code",
   "execution_count": 34,
   "metadata": {
    "collapsed": false
   },
   "outputs": [],
   "source": [
    "class Solution(object):\n",
    "    def lengthOfLIS(self, nums):\n",
    "        \"\"\"\n",
    "        :type nums: List[int]\n",
    "        :rtype: int\n",
    "        \"\"\"\n",
    "        T = [1 for i in range(len(nums))]\n",
    "        \n",
    "        for i in range(1,len(nums)):\n",
    "            for j in range(i):\n",
    "                if nums[j] < nums[i]:\n",
    "                    if T[j] + 1 > T[i]:\n",
    "                        T[i] = T[j] + 1\n",
    "        \n",
    "        return max(T)"
   ]
  },
  {
   "cell_type": "markdown",
   "metadata": {
    "collapsed": true
   },
   "source": [
    "# 373. Find K Pairs with Smallest Sums"
   ]
  },
  {
   "cell_type": "code",
   "execution_count": 70,
   "metadata": {
    "collapsed": true
   },
   "outputs": [],
   "source": [
    "class Solution(object):\n",
    "    def kSmallestPairs(self, nums1, nums2, k):\n",
    "        \"\"\"\n",
    "        :type nums1: List[int]\n",
    "        :type nums2: List[int]\n",
    "        :type k: int\n",
    "        :rtype: List[List[int]]\n",
    "        \"\"\"\n",
    "        lst = [(i,j) for i in nums1 for j in nums2]\n",
    "        \n",
    "        return sorted(lst,key = lambda x: x[0] + x[1])[:k]\n",
    "        "
   ]
  },
  {
   "cell_type": "markdown",
   "metadata": {},
   "source": [
    "# Unique Binary Search Trees II"
   ]
  },
  {
   "cell_type": "code",
   "execution_count": 14,
   "metadata": {
    "collapsed": false
   },
   "outputs": [],
   "source": [
    "# Definition for a binary tree node.\n",
    "class TreeNode(object):\n",
    "    def __init__(self, x):\n",
    "        self.val = x\n",
    "        self.left = None\n",
    "        self.right = None\n",
    "\n",
    "class Solution(object):\n",
    "    def generateTrees(self, n):\n",
    "        def generate(first, last):\n",
    "            trees = []\n",
    "            for root in range(first, last+1):\n",
    "                for left in generate(first, root-1):\n",
    "                    for right in generate(root+1, last):\n",
    "                        node = TreeNode(root)\n",
    "                        node.left = left\n",
    "                        node.right = right\n",
    "                        trees.append(node)\n",
    "            return trees or [None]\n",
    "        return generate(1, n)"
   ]
  },
  {
   "cell_type": "markdown",
   "metadata": {},
   "source": [
    "# 95. Unique Binary Search Trees II"
   ]
  },
  {
   "cell_type": "code",
   "execution_count": 23,
   "metadata": {
    "collapsed": true
   },
   "outputs": [],
   "source": [
    "class Solution(object):\n",
    "    def bulbSwitch(self, n):\n",
    "        \"\"\"\n",
    "        :type n: int\n",
    "        :rtype: int\n",
    "        \"\"\"\n",
    "        if n == 0:\n",
    "            return 0\n",
    "        \n",
    "        count = 0\n",
    "        i = 0\n",
    "        \n",
    "        while i*i <= n:\n",
    "            count += 1\n",
    "            i += 1\n",
    "            \n",
    "        return count"
   ]
  },
  {
   "cell_type": "code",
   "execution_count": 24,
   "metadata": {
    "collapsed": false
   },
   "outputs": [
    {
     "data": {
      "text/plain": [
       "35"
      ]
     },
     "execution_count": 24,
     "metadata": {},
     "output_type": "execute_result"
    }
   ],
   "source": [
    "so = Solution()\n",
    "so.bulbSwitch(1222)"
   ]
  },
  {
   "cell_type": "markdown",
   "metadata": {},
   "source": [
    "# 500. Keyboard Row"
   ]
  },
  {
   "cell_type": "code",
   "execution_count": 30,
   "metadata": {
    "collapsed": true
   },
   "outputs": [],
   "source": [
    "class Solution(object):\n",
    "    def findWords(self, words):\n",
    "        \"\"\"\n",
    "        :type words: List[str]\n",
    "        :rtype: List[str]\n",
    "        \"\"\"\n",
    "        up = \"qwertyuiopQWERTYUIOP\"\n",
    "        middle = \"asdfghjklASDFGHJKL\"\n",
    "        down = \"zxcvbnmZXCVBNM\"\n",
    "        \n",
    "        ans = []\n",
    "        \n",
    "        for word in words:\n",
    "            if all(i in up for i in word) or all(i in middle for i in word) or all(i in down for i in word):\n",
    "                ans.append(word)\n",
    "        \n",
    "        return ans"
   ]
  },
  {
   "cell_type": "markdown",
   "metadata": {},
   "source": [
    "# 200. Number of Islands"
   ]
  },
  {
   "cell_type": "code",
   "execution_count": 53,
   "metadata": {
    "collapsed": true
   },
   "outputs": [],
   "source": [
    "class Solution(object):\n",
    "    def numIslands(self, grid):\n",
    "        def sink(i,j):\n",
    "                if 0 <= i < len(grid) and 0 <= j < len(grid[0]) and grid[i][j] == \"1\":\n",
    "                    grid[i][j] = \"0\"\n",
    "                    sink(i+1,j)\n",
    "                    sink(i-1,j)\n",
    "                    sink(i,j+1)\n",
    "                    sink(i,j-1)\n",
    "                    return 1\n",
    "                return 0\n",
    "        return sum([sink(i,j) for i in range(len(grid)) for j in range(len(grid[0]))])\n",
    "                "
   ]
  },
  {
   "cell_type": "code",
   "execution_count": 51,
   "metadata": {
    "collapsed": true
   },
   "outputs": [],
   "source": [
    "so = Solution()"
   ]
  },
  {
   "cell_type": "markdown",
   "metadata": {},
   "source": [
    "# 368. Largest Divisible Subset"
   ]
  },
  {
   "cell_type": "code",
   "execution_count": 11,
   "metadata": {
    "collapsed": false
   },
   "outputs": [],
   "source": [
    "class Solution(object):\n",
    "    def largestDivisibleSubset(self, nums):\n",
    "        \"\"\"\n",
    "        :type nums: List[int]\n",
    "        :rtype: List[int]\n",
    "        \"\"\"\n",
    "        nums.sort()\n",
    "        dp = [[] for i in range(len(nums))]\n",
    "        for i in range(len(nums)):\n",
    "            maxset = []\n",
    "            for j in range(i):\n",
    "                if nums[i] % nums[j] == 0:\n",
    "                    localset = [e for e in dp[j]]\n",
    "                    if len(localset) > len(maxset):\n",
    "                        maxset = localset\n",
    "            \n",
    "            maxset.append(nums[i])\n",
    "            dp[i] = maxset\n",
    "            \n",
    "        ret = []\n",
    "        for item in dp:\n",
    "            if len(item) > len(ret):\n",
    "                ret = item\n",
    "        \n",
    "        return ret\n",
    "            "
   ]
  },
  {
   "cell_type": "markdown",
   "metadata": {},
   "source": [
    "# 174. Dungeon Game"
   ]
  },
  {
   "cell_type": "code",
   "execution_count": 53,
   "metadata": {
    "collapsed": false
   },
   "outputs": [],
   "source": [
    "class Solution(object):\n",
    "    def calculateMinimumHP(self, dungeon):\n",
    "        \"\"\"\n",
    "        :type dungeon: List[List[int]]\n",
    "        :rtype: int\n",
    "        \"\"\"\n",
    "        m = len(dungeon)\n",
    "        if m == 0: return None\n",
    "        \n",
    "        n = len(dungeon[0])\n",
    "        \n",
    "        need = [[0 for j in range(n)] for i in range(m)]\n",
    "        \n",
    "        need[m-1][n-1] = max(1-dungeon[m-1][n-1],1)\n",
    "        \n",
    "        for i in range(m-1,-1,-1):\n",
    "            for j in range(n-1,-1,-1):\n",
    "                if i == m-1 and j == n-1:\n",
    "                    continue\n",
    "                #print(i,j)\n",
    "                if j == n-1 and i != m-1:\n",
    "                    #print(\"here\")\n",
    "                    need[i][j] = max(need[i+1][j]-dungeon[i][j],1)\n",
    "                elif i == m-1 and j != n-1:\n",
    "                    need[i][j] = max(need[i][j+1]-dungeon[i][j],1)\n",
    "                else:\n",
    "                    #print(i,j)\n",
    "                    need[i][j] = min(max(need[i+1][j]-dungeon[i][j],1),max(need[i][j+1]-dungeon[i][j],1))\n",
    "    \n",
    "        return need[0][0]"
   ]
  },
  {
   "cell_type": "markdown",
   "metadata": {},
   "source": [
    "# 474. Ones and Zeroes"
   ]
  },
  {
   "cell_type": "code",
   "execution_count": 78,
   "metadata": {
    "collapsed": false
   },
   "outputs": [],
   "source": [
    "from collections import Counter \n",
    "class Solution(object):\n",
    "    def findMaxForm(self, strs, m, n):\n",
    "        \"\"\"\n",
    "        :type strs: List[str]\n",
    "        :type m: int\n",
    "        :type n: int\n",
    "        :rtype: int\n",
    "        \"\"\"\n",
    "        dp = [[[0 for i in range(n+1)] for j in range(m+1)] for k in range(len(strs)+1)] \n",
    "        for j in range(m):\n",
    "            for k in range(n):\n",
    "                dp[0][j][k] = 0\n",
    "        \n",
    "        for i in range(1,len(strs)+1):\n",
    "            c = Counter(strs[i-1])\n",
    "            ones = c[\"1\"]\n",
    "            zeros = c[\"0\"]\n",
    "            for j in range(m+1):\n",
    "                for k in range(n+1):\n",
    "                    if ones > k or zeros > j:\n",
    "                        dp[i][j][k] = dp[i-1][j][k]\n",
    "                        continue\n",
    "                    else:\n",
    "                        dp[i][j][k] = max(dp[i-1][j][k],dp[i-1][j-zeros][k-ones]+1)\n",
    "                        \n",
    "        return dp[len(strs)][m][n]"
   ]
  },
  {
   "cell_type": "markdown",
   "metadata": {
    "collapsed": true
   },
   "source": [
    "# 386. Lexicographical Numbers"
   ]
  },
  {
   "cell_type": "code",
   "execution_count": 5,
   "metadata": {
    "collapsed": true
   },
   "outputs": [],
   "source": [
    "# exceed time limit\n",
    "class Solution(object):\n",
    "    def lexicalOrder(self, n):\n",
    "        \"\"\"\n",
    "        :type n: int\n",
    "        :rtype: List[int]\n",
    "        \"\"\"\n",
    "        result = []\n",
    "        \n",
    "        def dfs(i):\n",
    "            if i <= n:\n",
    "                result.append(i)\n",
    "                for d in range(10):\n",
    "                    dfs(10*i + d)\n",
    "        \n",
    "        for i in range(1,10):\n",
    "            dfs(i)\n",
    "        \n",
    "        return result"
   ]
  },
  {
   "cell_type": "markdown",
   "metadata": {},
   "source": [
    "# 464. Can I Win"
   ]
  },
  {
   "cell_type": "code",
   "execution_count": 32,
   "metadata": {
    "collapsed": false
   },
   "outputs": [],
   "source": [
    "# wrong answer \n",
    "class Solution(object):\n",
    "    def canIWin(self, maxChoosableInteger, desiredTotal):\n",
    "        \"\"\"\n",
    "        :type maxChoosableInteger: int\n",
    "        :type desiredTotal: int\n",
    "        :rtype: bool\n",
    "        \"\"\"\n",
    "        lst = [i + 1 for i in range(maxChoosableInteger)]\n",
    "        \n",
    "        return self.checkWin(lst,0,desiredTotal,1)\n",
    "        \n",
    "    def checkWin(self,numlst,current,desiredTotal, who):\n",
    "        if any(current + i >= desiredTotal for i in numlst):\n",
    "            if who == 1:\n",
    "                return True\n",
    "            else:\n",
    "                return False\n",
    "        \n",
    "        for i in range(len(numlst)):\n",
    "            new_numlst = numlst.copy()\n",
    "            del new_numlst[i]\n",
    "            if self.checkWin(new_numlst,current + numlst[i],desiredTotal,-who) == False:\n",
    "                pass\n",
    "            else:\n",
    "                return True\n",
    "        \n",
    "        return False"
   ]
  },
  {
   "cell_type": "code",
   "execution_count": 33,
   "metadata": {
    "collapsed": true
   },
   "outputs": [],
   "source": [
    "so = Solution()"
   ]
  },
  {
   "cell_type": "markdown",
   "metadata": {},
   "source": [
    "# 167. Two Sum II - Input array is sorted"
   ]
  },
  {
   "cell_type": "code",
   "execution_count": 51,
   "metadata": {
    "collapsed": true
   },
   "outputs": [],
   "source": [
    "class Solution(object):\n",
    "    def twoSum(self, nums, target):\n",
    "        \"\"\"\n",
    "        :type numbers: List[int]\n",
    "        :type target: int\n",
    "        :rtype: List[int]\n",
    "        \"\"\"\n",
    "        dic = {}\n",
    "        result = []\n",
    "        for i in range(len(nums)):\n",
    "            if (target - nums[i]) in dic.keys():\n",
    "                result.append([i,dic[target - nums[i]]])\n",
    "            dic[nums[i]] = i\n",
    "        \n",
    "        return result\n",
    "            "
   ]
  },
  {
   "cell_type": "code",
   "execution_count": 52,
   "metadata": {
    "collapsed": false
   },
   "outputs": [
    {
     "data": {
      "text/plain": [
       "[[1, 0]]"
      ]
     },
     "execution_count": 52,
     "metadata": {},
     "output_type": "execute_result"
    }
   ],
   "source": [
    "so = Solution()\n",
    "so.twoSum([1,2,3,4],3)"
   ]
  },
  {
   "cell_type": "markdown",
   "metadata": {},
   "source": [
    "# 53. Maximum Subarray"
   ]
  },
  {
   "cell_type": "code",
   "execution_count": 57,
   "metadata": {
    "collapsed": true
   },
   "outputs": [],
   "source": [
    "class Solution(object):\n",
    "    def maxSubArray(self, nums):\n",
    "        \"\"\"\n",
    "        :type nums: List[int]\n",
    "        :rtype: int\n",
    "        \"\"\"\n",
    "        if len(nums) == 0: return\n",
    "        \n",
    "        dp = [0 for i in range(len(nums))]\n",
    "        dp[0] = max(0,nums[0])\n",
    "        \n",
    "        max_so_far = dp[0]\n",
    "        \n",
    "        for i in range(1,len(nums)):\n",
    "            dp[i] = max(dp[i-1] + nums[i],0)\n",
    "            max_so_far = max(max_so_far,dp[i])\n",
    "        \n",
    "        return max_so_far"
   ]
  },
  {
   "cell_type": "code",
   "execution_count": 58,
   "metadata": {
    "collapsed": true
   },
   "outputs": [],
   "source": [
    "so = Solution()"
   ]
  },
  {
   "cell_type": "markdown",
   "metadata": {},
   "source": [
    "# 496. Next Greater Element I"
   ]
  },
  {
   "cell_type": "code",
   "execution_count": 60,
   "metadata": {
    "collapsed": false
   },
   "outputs": [
    {
     "data": {
      "text/plain": [
       "'\\n????class Solution(object):\\n    def nextGreaterElement(self, findNums, nums):\\n        \"\"\"\\n        :type findNums: List[int]\\n        :type nums: List[int]\\n        :rtype: List[int]\\n        \"\"\"\\n        stack = []\\n        for i in range(len(findNums)):\\n            for \\n'"
      ]
     },
     "execution_count": 60,
     "metadata": {},
     "output_type": "execute_result"
    }
   ],
   "source": [
    "'''\n",
    "????class Solution(object):\n",
    "    def nextGreaterElement(self, findNums, nums):\n",
    "        \"\"\"\n",
    "        :type findNums: List[int]\n",
    "        :type nums: List[int]\n",
    "        :rtype: List[int]\n",
    "        \"\"\"\n",
    "        stack = []\n",
    "        for i in range(len(findNums)):\n",
    "            for \n",
    "'''"
   ]
  },
  {
   "cell_type": "markdown",
   "metadata": {},
   "source": [
    "# 423. Reconstruct Original Digits from English"
   ]
  },
  {
   "cell_type": "code",
   "execution_count": 61,
   "metadata": {
    "collapsed": true
   },
   "outputs": [],
   "source": [
    "class Solution(object):\n",
    "    def originalDigits(self, s):\n",
    "        \"\"\"\n",
    "        :type s: str\n",
    "        :rtype: str\n",
    "        \"\"\"\n",
    "        "
   ]
  },
  {
   "cell_type": "markdown",
   "metadata": {},
   "source": [
    "# 2. Add Two Numbers"
   ]
  },
  {
   "cell_type": "code",
   "execution_count": 83,
   "metadata": {
    "collapsed": true
   },
   "outputs": [],
   "source": [
    "class Solution:\n",
    "# @return a ListNode\n",
    "def addTwoNumbers(self, l1, l2):\n",
    "    carry = 0\n",
    "    root = n = ListNode(0)\n",
    "    while l1 or l2 or carry:\n",
    "        v1 = v2 = 0\n",
    "        if l1:\n",
    "            v1 = l1.val\n",
    "            l1 = l1.next\n",
    "        if l2:\n",
    "            v2 = l2.val\n",
    "            l2 = l2.next\n",
    "        carry, val = divmod(v1+v2+carry, 10)\n",
    "        n.next = ListNode(val)\n",
    "        n = n.next\n",
    "    return root.next"
   ]
  },
  {
   "cell_type": "markdown",
   "metadata": {},
   "source": [
    "# 525. Contiguous Array"
   ]
  },
  {
   "cell_type": "code",
   "execution_count": 105,
   "metadata": {
    "collapsed": true
   },
   "outputs": [],
   "source": [
    "class Solution(object):\n",
    "    def findMaxLength(self, nums):\n",
    "        \"\"\"\n",
    "        :type nums: List[int]\n",
    "        :rtype: int\n",
    "        \"\"\"\n",
    "        maxLength = 0\n",
    "        \n",
    "        dic = {}\n",
    "        count = 0\n",
    "        dic[0] = -1\n",
    "        \n",
    "        for i in range(len(nums)):\n",
    "            count += -1 if nums[i] == 0 else 1 \n",
    "            #print(count)\n",
    "            if count in dic.keys():\n",
    "                print(count,i,dic[count])\n",
    "                maxLength = max(maxLength,i-dic[count])\n",
    "            else:\n",
    "                dic[count] = i\n",
    "        \n",
    "        return maxLength\n",
    "\n",
    "        "
   ]
  },
  {
   "cell_type": "markdown",
   "metadata": {},
   "source": [
    "# 101. Symmetric Tree"
   ]
  },
  {
   "cell_type": "code",
   "execution_count": 108,
   "metadata": {
    "collapsed": true
   },
   "outputs": [],
   "source": [
    "# Definition for a binary tree node.\n",
    "class TreeNode(object):\n",
    "    def __init__(self, x):\n",
    "        self.val = x\n",
    "        self.left = None\n",
    "        self.right = None\n",
    "\n",
    "class Solution(object):\n",
    "    def isSymmetric(self, root):\n",
    "        \"\"\"\n",
    "        :type root: TreeNode\n",
    "        :rtype: bool\n",
    "        \"\"\"\n",
    "        \n",
    "    def isMirror(self,left, right):\n",
    "        if left == None and right == None:\n",
    "            return True\n",
    "        elif left == None or right == None:\n",
    "            return False\n",
    "        \n",
    "        if left.val == right.val:\n",
    "            return self.isMirror(left.left,right.right) and self.isMirror(left.right,right.left)\n",
    "        \n",
    "        return False"
   ]
  },
  {
   "cell_type": "code",
   "execution_count": null,
   "metadata": {
    "collapsed": true
   },
   "outputs": [],
   "source": []
  }
 ],
 "metadata": {
  "anaconda-cloud": {},
  "kernelspec": {
   "display_name": "Python [conda root]",
   "language": "python",
   "name": "conda-root-py"
  },
  "language_info": {
   "codemirror_mode": {
    "name": "ipython",
    "version": 3
   },
   "file_extension": ".py",
   "mimetype": "text/x-python",
   "name": "python",
   "nbconvert_exporter": "python",
   "pygments_lexer": "ipython3",
   "version": "3.5.2"
  }
 },
 "nbformat": 4,
 "nbformat_minor": 1
}
